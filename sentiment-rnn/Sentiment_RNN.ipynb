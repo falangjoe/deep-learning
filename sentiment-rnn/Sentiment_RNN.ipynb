{
 "cells": [
  {
   "cell_type": "markdown",
   "metadata": {},
   "source": [
    "# Sentiment Analysis with an RNN\n",
    "\n",
    "In this notebook, you'll implement a recurrent neural network that performs sentiment analysis. Using an RNN rather than a feedfoward network is more accurate since we can include information about the *sequence* of words. Here we'll use a dataset of movie reviews, accompanied by labels.\n",
    "\n",
    "The architecture for this network is shown below.\n",
    "\n",
    "<img src=\"assets/network_diagram.png\" width=400px>\n",
    "\n",
    "Here, we'll pass in words to an embedding layer. We need an embedding layer because we have tens of thousands of words, so we'll need a more efficient representation for our input data than one-hot encoded vectors. You should have seen this before from the word2vec lesson. You can actually train up an embedding with word2vec and use it here. But it's good enough to just have an embedding layer and let the network learn the embedding table on it's own.\n",
    "\n",
    "From the embedding layer, the new representations will be passed to LSTM cells. These will add recurrent connections to the network so we can include information about the sequence of words in the data. Finally, the LSTM cells will go to a sigmoid output layer here. We're using the sigmoid because we're trying to predict if this text has positive or negative sentiment. The output layer will just be a single unit then, with a sigmoid activation function.\n",
    "\n",
    "We don't care about the sigmoid outputs except for the very last one, we can ignore the rest. We'll calculate the cost from the output of the last step and the training label."
   ]
  },
  {
   "cell_type": "code",
   "execution_count": 1,
   "metadata": {
    "collapsed": true
   },
   "outputs": [],
   "source": [
    "import numpy as np\n",
    "import tensorflow as tf"
   ]
  },
  {
   "cell_type": "code",
   "execution_count": 2,
   "metadata": {
    "collapsed": true
   },
   "outputs": [],
   "source": [
    "with open('../sentiment-network/reviews.txt', 'r') as f:\n",
    "    reviews = f.read()\n",
    "with open('../sentiment-network/labels.txt', 'r') as f:\n",
    "    labels = f.read()"
   ]
  },
  {
   "cell_type": "code",
   "execution_count": 3,
   "metadata": {},
   "outputs": [
    {
     "data": {
      "text/plain": [
       "'bromwell high is a cartoon comedy . it ran at the same time as some other programs about school life  such as  teachers  . my   years in the teaching profession lead me to believe that bromwell high  s satire is much closer to reality than is  teachers  . the scramble to survive financially  the insightful students who can see right through their pathetic teachers  pomp  the pettiness of the whole situation  all remind me of the schools i knew and their students . when i saw the episode in which a student repeatedly tried to burn down the school  i immediately recalled . . . . . . . . . at . . . . . . . . . . high . a classic line inspector i  m here to sack one of your teachers . student welcome to bromwell high . i expect that many adults of my age think that bromwell high is far fetched . what a pity that it isn  t   \\nstory of a man who has unnatural feelings for a pig . starts out with a opening scene that is a terrific example of absurd comedy . a formal orchestra audience is turned into an insane  violent mob by the crazy chantings of it  s singers . unfortunately it stays absurd the whole time with no general narrative eventually making it just too off putting . even those from the era should be turned off . the cryptic dialogue would make shakespeare seem easy to a third grader . on a technical level it  s better than you might think with some good cinematography by future great vilmos zsigmond . future stars sally kirkland and frederic forrest can be seen briefly .  \\nhomelessness  or houselessness as george carlin stated  has been an issue for years but never a plan to help those on the street that were once considered human who did everything from going to school  work  or vote for the matter . most people think of the homeless as just a lost cause while worrying about things such as racism  the war on iraq  pressuring kids to succeed  technology  the elections  inflation  or worrying if they  ll be next to end up on the streets .  br    br   but what if y'"
      ]
     },
     "execution_count": 3,
     "metadata": {},
     "output_type": "execute_result"
    }
   ],
   "source": [
    "reviews[:2000]"
   ]
  },
  {
   "cell_type": "markdown",
   "metadata": {},
   "source": [
    "## Data preprocessing\n",
    "\n",
    "The first step when building a neural network model is getting your data into the proper form to feed into the network. Since we're using embedding layers, we'll need to encode each word with an integer. We'll also want to clean it up a bit.\n",
    "\n",
    "You can see an example of the reviews data above. We'll want to get rid of those periods. Also, you might notice that the reviews are delimited with newlines `\\n`. To deal with those, I'm going to split the text into each review using `\\n` as the delimiter. Then I can combined all the reviews back together into one big string.\n",
    "\n",
    "First, let's remove all punctuation. Then get all the text without the newlines and split it into individual words."
   ]
  },
  {
   "cell_type": "code",
   "execution_count": 4,
   "metadata": {
    "collapsed": true
   },
   "outputs": [],
   "source": [
    "from string import punctuation\n",
    "all_text = ''.join([c for c in reviews if c not in punctuation])\n",
    "reviews = all_text.split('\\n')\n",
    "\n",
    "all_text = ' '.join(reviews)\n",
    "words = all_text.split()"
   ]
  },
  {
   "cell_type": "code",
   "execution_count": 5,
   "metadata": {},
   "outputs": [
    {
     "data": {
      "text/plain": [
       "'bromwell high is a cartoon comedy  it ran at the same time as some other programs about school life  such as  teachers   my   years in the teaching profession lead me to believe that bromwell high  s satire is much closer to reality than is  teachers   the scramble to survive financially  the insightful students who can see right through their pathetic teachers  pomp  the pettiness of the whole situation  all remind me of the schools i knew and their students  when i saw the episode in which a student repeatedly tried to burn down the school  i immediately recalled          at           high  a classic line inspector i  m here to sack one of your teachers  student welcome to bromwell high  i expect that many adults of my age think that bromwell high is far fetched  what a pity that it isn  t    story of a man who has unnatural feelings for a pig  starts out with a opening scene that is a terrific example of absurd comedy  a formal orchestra audience is turned into an insane  violent mob by the crazy chantings of it  s singers  unfortunately it stays absurd the whole time with no general narrative eventually making it just too off putting  even those from the era should be turned off  the cryptic dialogue would make shakespeare seem easy to a third grader  on a technical level it  s better than you might think with some good cinematography by future great vilmos zsigmond  future stars sally kirkland and frederic forrest can be seen briefly    homelessness  or houselessness as george carlin stated  has been an issue for years but never a plan to help those on the street that were once considered human who did everything from going to school  work  or vote for the matter  most people think of the homeless as just a lost cause while worrying about things such as racism  the war on iraq  pressuring kids to succeed  technology  the elections  inflation  or worrying if they  ll be next to end up on the streets   br    br   but what if you were given a bet to live on the st'"
      ]
     },
     "execution_count": 5,
     "metadata": {},
     "output_type": "execute_result"
    }
   ],
   "source": [
    "all_text[:2000]"
   ]
  },
  {
   "cell_type": "code",
   "execution_count": 6,
   "metadata": {},
   "outputs": [
    {
     "data": {
      "text/plain": [
       "['bromwell',\n",
       " 'high',\n",
       " 'is',\n",
       " 'a',\n",
       " 'cartoon',\n",
       " 'comedy',\n",
       " 'it',\n",
       " 'ran',\n",
       " 'at',\n",
       " 'the',\n",
       " 'same',\n",
       " 'time',\n",
       " 'as',\n",
       " 'some',\n",
       " 'other',\n",
       " 'programs',\n",
       " 'about',\n",
       " 'school',\n",
       " 'life',\n",
       " 'such',\n",
       " 'as',\n",
       " 'teachers',\n",
       " 'my',\n",
       " 'years',\n",
       " 'in',\n",
       " 'the',\n",
       " 'teaching',\n",
       " 'profession',\n",
       " 'lead',\n",
       " 'me',\n",
       " 'to',\n",
       " 'believe',\n",
       " 'that',\n",
       " 'bromwell',\n",
       " 'high',\n",
       " 's',\n",
       " 'satire',\n",
       " 'is',\n",
       " 'much',\n",
       " 'closer',\n",
       " 'to',\n",
       " 'reality',\n",
       " 'than',\n",
       " 'is',\n",
       " 'teachers',\n",
       " 'the',\n",
       " 'scramble',\n",
       " 'to',\n",
       " 'survive',\n",
       " 'financially',\n",
       " 'the',\n",
       " 'insightful',\n",
       " 'students',\n",
       " 'who',\n",
       " 'can',\n",
       " 'see',\n",
       " 'right',\n",
       " 'through',\n",
       " 'their',\n",
       " 'pathetic',\n",
       " 'teachers',\n",
       " 'pomp',\n",
       " 'the',\n",
       " 'pettiness',\n",
       " 'of',\n",
       " 'the',\n",
       " 'whole',\n",
       " 'situation',\n",
       " 'all',\n",
       " 'remind',\n",
       " 'me',\n",
       " 'of',\n",
       " 'the',\n",
       " 'schools',\n",
       " 'i',\n",
       " 'knew',\n",
       " 'and',\n",
       " 'their',\n",
       " 'students',\n",
       " 'when',\n",
       " 'i',\n",
       " 'saw',\n",
       " 'the',\n",
       " 'episode',\n",
       " 'in',\n",
       " 'which',\n",
       " 'a',\n",
       " 'student',\n",
       " 'repeatedly',\n",
       " 'tried',\n",
       " 'to',\n",
       " 'burn',\n",
       " 'down',\n",
       " 'the',\n",
       " 'school',\n",
       " 'i',\n",
       " 'immediately',\n",
       " 'recalled',\n",
       " 'at',\n",
       " 'high']"
      ]
     },
     "execution_count": 6,
     "metadata": {},
     "output_type": "execute_result"
    }
   ],
   "source": [
    "words[:100]"
   ]
  },
  {
   "cell_type": "markdown",
   "metadata": {},
   "source": [
    "### Encoding the words\n",
    "\n",
    "The embedding lookup requires that we pass in integers to our network. The easiest way to do this is to create dictionaries that map the words in the vocabulary to integers. Then we can convert each of our reviews into integers so they can be passed into the network.\n",
    "\n",
    "> **Exercise:** Now you're going to encode the words with integers. Build a dictionary that maps words to integers. Later we're going to pad our input vectors with zeros, so make sure the integers **start at 1, not 0**.\n",
    "> Also, convert the reviews to integers and store the reviews in a new list called `reviews_ints`. "
   ]
  },
  {
   "cell_type": "code",
   "execution_count": 7,
   "metadata": {
    "collapsed": true
   },
   "outputs": [],
   "source": [
    "# Create your dictionary that maps vocab words to integers here\n",
    "vocab_to_int = {word : i + 1 for i, word in enumerate(set(words))}\n",
    "\n",
    "# Convert the reviews to integers, same shape as reviews list, but with integers\n",
    "reviews_ints = [list(map(lambda x : vocab_to_int[x] ,review.split())) for review in reviews] "
   ]
  },
  {
   "cell_type": "markdown",
   "metadata": {},
   "source": [
    "### Encoding the labels\n",
    "\n",
    "Our labels are \"positive\" or \"negative\". To use these labels in our network, we need to convert them to 0 and 1.\n",
    "\n",
    "> **Exercise:** Convert labels from `positive` and `negative` to 1 and 0, respectively."
   ]
  },
  {
   "cell_type": "code",
   "execution_count": 8,
   "metadata": {
    "collapsed": true
   },
   "outputs": [],
   "source": [
    "# Convert labels to 1s and 0s for 'positive' and 'negative'\n",
    "labels = list(map(lambda x: 1 if x == 'positive' else 0, labels.split('\\n')))"
   ]
  },
  {
   "cell_type": "markdown",
   "metadata": {},
   "source": [
    "If you built `labels` correctly, you should see the next output."
   ]
  },
  {
   "cell_type": "code",
   "execution_count": 9,
   "metadata": {},
   "outputs": [
    {
     "name": "stdout",
     "output_type": "stream",
     "text": [
      "Zero-length reviews: 1\n",
      "Maximum review length: 2514\n"
     ]
    }
   ],
   "source": [
    "from collections import Counter\n",
    "review_lens = Counter([len(x) for x in reviews_ints])\n",
    "print(\"Zero-length reviews: {}\".format(review_lens[0]))\n",
    "print(\"Maximum review length: {}\".format(max(review_lens)))"
   ]
  },
  {
   "cell_type": "markdown",
   "metadata": {},
   "source": [
    "Okay, a couple issues here. We seem to have one review with zero length. And, the maximum review length is way too many steps for our RNN. Let's truncate to 200 steps. For reviews shorter than 200, we'll pad with 0s. For reviews longer than 200, we can truncate them to the first 200 characters.\n",
    "\n",
    "> **Exercise:** First, remove the review with zero length from the `reviews_ints` list."
   ]
  },
  {
   "cell_type": "code",
   "execution_count": 10,
   "metadata": {
    "collapsed": true
   },
   "outputs": [],
   "source": [
    "# Filter out that review with 0 length\n",
    "non_zero_idx = [i for i, review in enumerate(reviews_ints) if len(review) > 0]\n",
    "\n",
    "reviews_ints = [reviews_ints[i] for i in non_zero_idx]\n",
    "labels = np.array([labels[i] for i in non_zero_idx]).reshape(-1,1)"
   ]
  },
  {
   "cell_type": "markdown",
   "metadata": {},
   "source": [
    "> **Exercise:** Now, create an array `features` that contains the data we'll pass to the network. The data should come from `review_ints`, since we want to feed integers to the network. Each row should be 200 elements long. For reviews shorter than 200 words, left pad with 0s. That is, if the review is `['best', 'movie', 'ever']`, `[117, 18, 128]` as integers, the row will look like `[0, 0, 0, ..., 0, 117, 18, 128]`. For reviews longer than 200, use on the first 200 words as the feature vector.\n",
    "\n",
    "This isn't trivial and there are a bunch of ways to do this. But, if you're going to be building your own deep learning networks, you're going to have to get used to preparing your data.\n",
    "\n"
   ]
  },
  {
   "cell_type": "code",
   "execution_count": 11,
   "metadata": {
    "collapsed": true
   },
   "outputs": [],
   "source": [
    "seq_len = 200\n",
    "\n",
    "features = np.zeros((len(reviews_ints), seq_len), dtype=int)\n",
    "\n",
    "for i, row in enumerate(reviews_ints):\n",
    "    features[i, -len(row):] = np.array(row)[:seq_len]"
   ]
  },
  {
   "cell_type": "markdown",
   "metadata": {},
   "source": [
    "If you build features correctly, it should look like that cell output below."
   ]
  },
  {
   "cell_type": "code",
   "execution_count": 12,
   "metadata": {},
   "outputs": [
    {
     "data": {
      "text/plain": [
       "array([[    0,     0,     0,     0,     0,     0,     0,     0,     0,\n",
       "            0,     0,     0,     0,     0,     0,     0,     0,     0,\n",
       "            0,     0,     0,     0,     0,     0,     0,     0,     0,\n",
       "            0,     0,     0,     0,     0,     0,     0,     0,     0,\n",
       "            0,     0,     0,     0,     0,     0,     0,     0,     0,\n",
       "            0,     0,     0,     0,     0,     0,     0,     0,     0,\n",
       "            0,     0,     0,     0,     0,     0, 53476, 17699,  3519,\n",
       "         4512, 19105, 62335, 43499,   141, 47505,  4942, 39218, 20043,\n",
       "        10594, 17682, 36620, 73313, 35572, 57463, 11910,  2413, 10594,\n",
       "        23924, 14785, 16708, 13659,  4942, 58980, 22494, 52324, 71441,\n",
       "        46665, 12386, 59881, 53476, 17699,  3585, 10340,  3519, 30987,\n",
       "        48968],\n",
       "       [    0,     0,     0,     0,     0,     0,     0,     0,     0,\n",
       "            0,     0,     0,     0,     0,     0,     0,     0,     0,\n",
       "            0,     0,     0,     0,     0,     0,     0,     0,     0,\n",
       "            0,     0,     0,     0,     0,     0,     0,     0,     0,\n",
       "            0,     0,     0,     0,     0,     0,     0,     0,     0,\n",
       "            0,     0,     0,     0,     0,     0,     0,     0,     0,\n",
       "            0,     0,     0,     0,     0,     0,     0,     0,     0,\n",
       "            0,     0,     0,     0,     0,     0,     0,     0,     0,\n",
       "            0,     0,     0,     0,     0,     0,     0,     0,     0,\n",
       "            0,     0,     0,     0,     0, 45589,  4889,  4512, 46889,\n",
       "        11509, 34025,   823, 19529,  5080,  4512, 58101, 73225, 41800,\n",
       "        24900],\n",
       "       [61030, 33536,   892, 10594, 71643, 49311, 49265, 34025, 23736,\n",
       "        33716, 20526,  5080, 16708, 57361, 33495,  4512,  5546, 46665,\n",
       "        15870, 50368, 52182,  4942, 21004, 59881, 31792, 17176, 61591,\n",
       "        11089, 11509, 18445, 47492, 24281, 36926, 46665, 57463, 57425,\n",
       "        33536, 39170,  5080,  4942, 70908, 16970, 58134, 53401,  4889,\n",
       "         4942, 49730, 10594, 35113,  4512, 57384, 26036, 28300, 39225,\n",
       "        35572, 74059,  2413, 10594, 23264,  4942, 35904, 52182,  1975,\n",
       "        25160, 33057, 46665, 54129, 50999,  4942, 45251, 55181, 33536,\n",
       "        39225, 21502, 54883, 56301, 35923, 31523, 46665, 29469,     9,\n",
       "        52182,  4942, 10542, 45591, 45591, 57361, 69275, 21502, 57774,\n",
       "        31792,  5456,  4512,  3551, 46665, 13640, 52182,  4942, 10542,\n",
       "         5080],\n",
       "       [ 8035, 73225, 10594,  4512, 26438,   493, 41591,  5992,  3519,\n",
       "         2306,     9, 24900, 68573, 20666,  2413, 42901, 46665, 24605,\n",
       "        68877, 38517, 29372, 52264, 22417, 11509,  3519, 15657, 19331,\n",
       "         4512, 12094,  4889, 50098,  3585, 46665, 59433, 38687, 13659,\n",
       "        43526,  4889, 43499, 69359, 27748, 46665,  4942, 21022, 10594,\n",
       "         4512, 39044, 25153, 52182, 73960,  3519, 29372, 38374,  6217,\n",
       "        23307, 48542, 23087,  5069,  4942, 41591, 13802, 15443, 38638,\n",
       "        10594, 16589, 57361, 42991, 45939,  4942,  5992,  3519,   805,\n",
       "        34470, 50509,  4942, 28875, 28578, 63731, 26396, 42446, 59433,\n",
       "        46001, 26626,  3585, 19164, 10149, 12574,  6188, 21759, 23600,\n",
       "        11509, 36113,  4942, 19399, 61047, 41800, 24900, 41205, 37128,\n",
       "        54883],\n",
       "       [    0,     0,     0,     0,     0,     0,     0,     0,     0,\n",
       "            0,     0,     0,     0,     0,     0,     0,     0,     0,\n",
       "            0,     0,     0,     0,     0,     0,     0,     0,     0,\n",
       "            0,     0,     0,     0,     0,     0,     0,     0,     0,\n",
       "            0,     0,     0,     0,     0,     0,     0,     0,     0,\n",
       "            0,     0,     0,     0,     0, 10315, 31791, 70331, 50509,\n",
       "        33662, 13898, 46012, 34245, 74021, 39739, 26012, 33256,  3902,\n",
       "        33265, 67040, 26789, 67733, 38591, 13659, 14296, 37375,  3208,\n",
       "        59667, 46665, 56116,  4942, 64195, 52182, 29322,  3519,  4512,\n",
       "        66213, 10594, 65406, 10594, 64941, 13659,  3501, 46674,  4942,\n",
       "        22036, 52182, 52443,  3519, 25153,  6911, 28841, 69359, 34230,\n",
       "         4889],\n",
       "       [    0,     0,     0,     0,     0,     0,     0,     0,     0,\n",
       "            0,     0,     0,     0,     0,     0,     0,     0,     0,\n",
       "            0,     0,     0,     0,     0,     0,     0,     0,     0,\n",
       "            0,     0,     0,     0,     0,     0,     0,     0,     0,\n",
       "            0,     0,     0,     0,     0,     0,     0,     0,     0,\n",
       "            0,     0,     0,     0,     0,     0,     0,     0,     0,\n",
       "        55631, 51837, 24643, 57300, 33256,  3458, 46372, 68828, 14785,\n",
       "        37789, 52182, 47505, 46994, 37852, 52182,  4942, 52302,  4889,\n",
       "         4942, 13305, 26904, 55631, 14468, 10856, 46665, 70368,  4889,\n",
       "         9821, 18354, 37638, 17516,  4942, 71815, 24900, 23087, 13305,\n",
       "        46889, 35816,  4942,  9766, 38591, 55119,  6027, 10594, 69359,\n",
       "        31753],\n",
       "       [    0,     0,     0,     0,     0,     0,     0,     0,     0,\n",
       "            0,     0,     0,     0,     0,     0,     0,     0,     0,\n",
       "            0,     0,     0,     0,     0,     0,     0,     0,     0,\n",
       "            0,     0,     0,     0,     0,     0,     0,     0,     0,\n",
       "            0,     0,     0,     0,     0,     0,     0,     0,     0,\n",
       "            0,     0,     0,     0,     0,     0,     0,     0,     0,\n",
       "            0,     0,     0,     0,     0,     0,     0,     0,     0,\n",
       "            0,     0,     0,     0,     0,     0,     0,     0,     0,\n",
       "            0,     0,     0,     0, 55631,  3519, 10949,  4942, 16970,\n",
       "        73774, 51837, 12037,  4942, 54633, 14337, 14609, 49896, 54859,\n",
       "        43499, 48893,  9608, 18276,  4512, 11217, 45763,  4889, 61030,\n",
       "        50855],\n",
       "       [    0,     0,     0,     0,     0,     0,     0,     0,     0,\n",
       "            0,     0,     0,     0,     0,     0,     0,     0,     0,\n",
       "            0,     0,     0,     0,     0,     0,     0,     0,     0,\n",
       "            0,     0,     0,     0,     0,     0,     0,     0,     0,\n",
       "            0,     0,     0,     0,     0,     0,     0,     0,     0,\n",
       "            0,     0, 58864,  3305, 33256,  4253, 55631,  3519, 31191,\n",
       "        46665, 35923, 33716,   843, 51837, 57361, 70620, 54883, 15461,\n",
       "         3902, 44651, 41800, 48567, 47505,  4942, 62041, 30125, 58134,\n",
       "        24813, 42344, 55358, 28772, 41800, 26789,  9608,  6916,  3212,\n",
       "         4942, 25640, 11394, 26789, 44468,  3931, 36782, 24368, 55631,\n",
       "        45589,  3519, 55938, 43608, 46665,  6916,  4942, 53854,  4889,\n",
       "         4512],\n",
       "       [    0,     0,     0,     0,     0,     0,     0,     0,     0,\n",
       "            0,     0,     0,     0,     0,     0,     0,     0,     0,\n",
       "            0,     0,     0,     0,     0,     0,     0,     0,     0,\n",
       "            0,     0,     0,     0,     0,     0,     0,     0,     0,\n",
       "            0,     0,     0,     0,     0,     0,     0,     0,     0,\n",
       "            0,     0,     0,     0,     0,     0,     0,     0,     0,\n",
       "            0,     0,     0,     0,     0,     0,     0,     0,     0,\n",
       "            0,     0,     0,     0,     0,     0,     0,     0,     0,\n",
       "            0,     0,     0,     0,     0,     0,     0, 55631,  3519,\n",
       "         9608,  4942, 70091, 16484, 54633, 51837, 43499, 36782, 30987,\n",
       "         4914, 51899, 64160, 16970,  4889, 59433, 29085, 26789, 20431,\n",
       "        71821],\n",
       "       [18354, 33256, 36782, 49375, 14785,  1958, 60815, 71441, 26934,\n",
       "        46665,  4942, 60175, 46665, 59793, 26096, 43499, 36782,  8145,\n",
       "         4889, 13133, 29085, 33256, 57011, 24900, 14785,  1958, 57361,\n",
       "        55631, 36782,  4942, 20786,  8145, 72190, 65264, 41800,  4889,\n",
       "         4640, 12818, 33256, 71821, 33495, 67040, 26096, 25660, 35113,\n",
       "        34947, 26789, 33256, 24813,  3902, 16226, 41800,  4942, 61131,\n",
       "         4889, 14785, 11910,  1852, 43499, 69275,  4512, 26790, 44281,\n",
       "        26789, 45109, 55941,   945,  4889,  3585, 41538, 26789, 14879,\n",
       "        43888, 34917, 29610,  3519,  8145,  4889, 14785, 27153, 44282,\n",
       "        57361, 26096,  3519, 50509, 30178,  4942, 47501,   945,  4889,\n",
       "         6349,  4889, 59433,  5873, 13659,  4942, 31489, 22206,  4889,\n",
       "         7997]])"
      ]
     },
     "execution_count": 12,
     "metadata": {},
     "output_type": "execute_result"
    }
   ],
   "source": [
    "features[:10,:100]"
   ]
  },
  {
   "cell_type": "markdown",
   "metadata": {},
   "source": [
    "## Training, Validation, Test\n",
    "\n"
   ]
  },
  {
   "cell_type": "markdown",
   "metadata": {},
   "source": [
    "With our data in nice shape, we'll split it into training, validation, and test sets.\n",
    "\n",
    "> **Exercise:** Create the training, validation, and test sets here. You'll need to create sets for the features and the labels, `train_x` and `train_y` for example. Define a split fraction, `split_frac` as the fraction of data to keep in the training set. Usually this is set to 0.8 or 0.9. The rest of the data will be split in half to create the validation and testing data."
   ]
  },
  {
   "cell_type": "code",
   "execution_count": 13,
   "metadata": {},
   "outputs": [
    {
     "name": "stdout",
     "output_type": "stream",
     "text": [
      "\t\t\tFeature Shapes:\n",
      "Train set: \t\t(20000, 200) \n",
      "Validation set: \t(2500, 200) \n",
      "Test set: \t\t(2500, 200)\n"
     ]
    }
   ],
   "source": [
    "split_frac = 0.8\n",
    "\n",
    "def split_data(data,fraction):\n",
    "    split_index = int(len(data) * fraction)\n",
    "    return data[:split_index], data[split_index:]\n",
    "\n",
    "train_x, val_x = split_data(features,0.8)\n",
    "train_y, val_y = split_data(labels,0.8)\n",
    "\n",
    "val_x, test_x = split_data(val_x,0.5)\n",
    "val_y, test_y = split_data(val_y,0.5)\n",
    "\n",
    "print(\"\\t\\t\\tFeature Shapes:\")\n",
    "print(\"Train set: \\t\\t{}\".format(train_x.shape), \n",
    "      \"\\nValidation set: \\t{}\".format(val_x.shape),\n",
    "      \"\\nTest set: \\t\\t{}\".format(test_x.shape))"
   ]
  },
  {
   "cell_type": "markdown",
   "metadata": {},
   "source": [
    "With train, validation, and text fractions of 0.8, 0.1, 0.1, the final shapes should look like:\n",
    "```\n",
    "                    Feature Shapes:\n",
    "Train set: \t\t (20000, 200) \n",
    "Validation set: \t(2500, 200) \n",
    "Test set: \t\t  (2500, 200)\n",
    "```"
   ]
  },
  {
   "cell_type": "markdown",
   "metadata": {},
   "source": [
    "## Build the graph\n",
    "\n",
    "Here, we'll build the graph. First up, defining the hyperparameters.\n",
    "\n",
    "* `lstm_size`: Number of units in the hidden layers in the LSTM cells. Usually larger is better performance wise. Common values are 128, 256, 512, etc.\n",
    "* `lstm_layers`: Number of LSTM layers in the network. I'd start with 1, then add more if I'm underfitting.\n",
    "* `batch_size`: The number of reviews to feed the network in one training pass. Typically this should be set as high as you can go without running out of memory.\n",
    "* `learning_rate`: Learning rate"
   ]
  },
  {
   "cell_type": "code",
   "execution_count": 42,
   "metadata": {
    "collapsed": true
   },
   "outputs": [],
   "source": [
    "lstm_size = 256\n",
    "lstm_layers = 2\n",
    "batch_size = 128\n",
    "learning_rate = 0.001"
   ]
  },
  {
   "cell_type": "markdown",
   "metadata": {},
   "source": [
    "For the network itself, we'll be passing in our 200 element long review vectors. Each batch will be `batch_size` vectors. We'll also be using dropout on the LSTM layer, so we'll make a placeholder for the keep probability."
   ]
  },
  {
   "cell_type": "markdown",
   "metadata": {},
   "source": [
    "> **Exercise:** Create the `inputs_`, `labels_`, and drop out `keep_prob` placeholders using `tf.placeholder`. `labels_` needs to be two-dimensional to work with some functions later.  Since `keep_prob` is a scalar (a 0-dimensional tensor), you shouldn't provide a size to `tf.placeholder`."
   ]
  },
  {
   "cell_type": "code",
   "execution_count": 43,
   "metadata": {
    "collapsed": true
   },
   "outputs": [],
   "source": [
    "n_words = len(vocab_to_int)\n",
    "\n",
    "# Create the graph object\n",
    "graph = tf.Graph()\n",
    "# Add nodes to the graph\n",
    "with graph.as_default():\n",
    "    inputs_ = tf.placeholder(tf.int32, [None,200], name = 'inputs_')\n",
    "    labels_ = tf.placeholder(tf.int32, [None,1], name='labels_')\n",
    "    keep_prob = tf.placeholder(tf.float32, name='keep_prob')"
   ]
  },
  {
   "cell_type": "markdown",
   "metadata": {},
   "source": [
    "### Embedding\n",
    "\n",
    "Now we'll add an embedding layer. We need to do this because there are 74000 words in our vocabulary. It is massively inefficient to one-hot encode our classes here. You should remember dealing with this problem from the word2vec lesson. Instead of one-hot encoding, we can have an embedding layer and use that layer as a lookup table. You could train an embedding layer using word2vec, then load it here. But, it's fine to just make a new layer and let the network learn the weights.\n",
    "\n",
    "> **Exercise:** Create the embedding lookup matrix as a `tf.Variable`. Use that embedding matrix to get the embedded vectors to pass to the LSTM cell with [`tf.nn.embedding_lookup`](https://www.tensorflow.org/api_docs/python/tf/nn/embedding_lookup). This function takes the embedding matrix and an input tensor, such as the review vectors. Then, it'll return another tensor with the embedded vectors. So, if the embedding layer has 200 units, the function will return a tensor with size [batch_size, 200].\n",
    "\n"
   ]
  },
  {
   "cell_type": "code",
   "execution_count": 44,
   "metadata": {
    "collapsed": true
   },
   "outputs": [],
   "source": [
    "# Size of the embedding vectors (number of units in the embedding layer)\n",
    "embed_size = 300 \n",
    "\n",
    "with graph.as_default():\n",
    "    embedding = tf.Variable(tf.random_uniform([n_words, embed_size], minval=-1, maxval=1), name='embedding')\n",
    "    embed = tf.nn.embedding_lookup(embedding, inputs_) "
   ]
  },
  {
   "cell_type": "markdown",
   "metadata": {},
   "source": [
    "### LSTM cell\n",
    "\n",
    "<img src=\"assets/network_diagram.png\" width=400px>\n",
    "\n",
    "Next, we'll create our LSTM cells to use in the recurrent network ([TensorFlow documentation](https://www.tensorflow.org/api_docs/python/tf/contrib/rnn)). Here we are just defining what the cells look like. This isn't actually building the graph, just defining the type of cells we want in our graph.\n",
    "\n",
    "To create a basic LSTM cell for the graph, you'll want to use `tf.contrib.rnn.BasicLSTMCell`. Looking at the function documentation:\n",
    "\n",
    "```\n",
    "tf.contrib.rnn.BasicLSTMCell(num_units, forget_bias=1.0, input_size=None, state_is_tuple=True, activation=<function tanh at 0x109f1ef28>)\n",
    "```\n",
    "\n",
    "you can see it takes a parameter called `num_units`, the number of units in the cell, called `lstm_size` in this code. So then, you can write something like \n",
    "\n",
    "```\n",
    "lstm = tf.contrib.rnn.BasicLSTMCell(num_units)\n",
    "```\n",
    "\n",
    "to create an LSTM cell with `num_units`. Next, you can add dropout to the cell with `tf.contrib.rnn.DropoutWrapper`. This just wraps the cell in another cell, but with dropout added to the inputs and/or outputs. It's a really convenient way to make your network better with almost no effort! So you'd do something like\n",
    "\n",
    "```\n",
    "drop = tf.contrib.rnn.DropoutWrapper(cell, output_keep_prob=keep_prob)\n",
    "```\n",
    "\n",
    "Most of the time, your network will have better performance with more layers. That's sort of the magic of deep learning, adding more layers allows the network to learn really complex relationships. Again, there is a simple way to create multiple layers of LSTM cells with `tf.contrib.rnn.MultiRNNCell`:\n",
    "\n",
    "```\n",
    "cell = tf.contrib.rnn.MultiRNNCell([drop] * lstm_layers)\n",
    "```\n",
    "\n",
    "Here, `[drop] * lstm_layers` creates a list of cells (`drop`) that is `lstm_layers` long. The `MultiRNNCell` wrapper builds this into multiple layers of RNN cells, one for each cell in the list.\n",
    "\n",
    "So the final cell you're using in the network is actually multiple (or just one) LSTM cells with dropout. But it all works the same from an achitectural viewpoint, just a more complicated graph in the cell.\n",
    "\n",
    "> **Exercise:** Below, use `tf.contrib.rnn.BasicLSTMCell` to create an LSTM cell. Then, add drop out to it with `tf.contrib.rnn.DropoutWrapper`. Finally, create multiple LSTM layers with `tf.contrib.rnn.MultiRNNCell`.\n",
    "\n",
    "Here is [a tutorial on building RNNs](https://www.tensorflow.org/tutorials/recurrent) that will help you out.\n"
   ]
  },
  {
   "cell_type": "code",
   "execution_count": 45,
   "metadata": {
    "collapsed": true
   },
   "outputs": [],
   "source": [
    "with graph.as_default():\n",
    "    \n",
    "    def build_cell(lstm_size, keep_prob):\n",
    "        # Use a basic LSTM cell\n",
    "        lstm = tf.contrib.rnn.BasicLSTMCell(lstm_size)\n",
    "        \n",
    "        # Add dropout to the cell\n",
    "        drop = tf.contrib.rnn.DropoutWrapper(lstm, output_keep_prob=keep_prob)\n",
    "        \n",
    "        return drop\n",
    "    # Your basic LSTM cell\n",
    "    #lstm = \n",
    "    \n",
    "    # Add dropout to the cell\n",
    "    #drop = \n",
    "    \n",
    "    # Stack up multiple LSTM layers, for deep learning\n",
    "    cell = tf.contrib.rnn.MultiRNNCell([build_cell(lstm_size, keep_prob) for _ in range(lstm_layers)])\n",
    "    \n",
    "    # Getting an initial state of all zeros\n",
    "    initial_state = cell.zero_state(batch_size, tf.float32)"
   ]
  },
  {
   "cell_type": "markdown",
   "metadata": {},
   "source": [
    "### RNN forward pass\n",
    "\n",
    "<img src=\"assets/network_diagram.png\" width=400px>\n",
    "\n",
    "Now we need to actually run the data through the RNN nodes. You can use [`tf.nn.dynamic_rnn`](https://www.tensorflow.org/api_docs/python/tf/nn/dynamic_rnn) to do this. You'd pass in the RNN cell you created (our multiple layered LSTM `cell` for instance), and the inputs to the network.\n",
    "\n",
    "```\n",
    "outputs, final_state = tf.nn.dynamic_rnn(cell, inputs, initial_state=initial_state)\n",
    "```\n",
    "\n",
    "Above I created an initial state, `initial_state`, to pass to the RNN. This is the cell state that is passed between the hidden layers in successive time steps. `tf.nn.dynamic_rnn` takes care of most of the work for us. We pass in our cell and the input to the cell, then it does the unrolling and everything else for us. It returns outputs for each time step and the final_state of the hidden layer.\n",
    "\n",
    "> **Exercise:** Use `tf.nn.dynamic_rnn` to add the forward pass through the RNN. Remember that we're actually passing in vectors from the embedding layer, `embed`.\n",
    "\n"
   ]
  },
  {
   "cell_type": "code",
   "execution_count": 46,
   "metadata": {
    "collapsed": true
   },
   "outputs": [],
   "source": [
    "with graph.as_default():\n",
    "    outputs, final_state = tf.nn.dynamic_rnn(cell, embed, initial_state=initial_state)"
   ]
  },
  {
   "cell_type": "markdown",
   "metadata": {},
   "source": [
    "### Output\n",
    "\n",
    "We only care about the final output, we'll be using that as our sentiment prediction. So we need to grab the last output with `outputs[:, -1]`, the calculate the cost from that and `labels_`."
   ]
  },
  {
   "cell_type": "code",
   "execution_count": 47,
   "metadata": {
    "collapsed": true
   },
   "outputs": [],
   "source": [
    "with graph.as_default():\n",
    "    predictions = tf.contrib.layers.fully_connected(outputs[:, -1], 1, activation_fn=tf.sigmoid)\n",
    "    cost = tf.losses.mean_squared_error(labels_, predictions)\n",
    "    \n",
    "    optimizer = tf.train.AdamOptimizer(learning_rate).minimize(cost)"
   ]
  },
  {
   "cell_type": "markdown",
   "metadata": {},
   "source": [
    "### Validation accuracy\n",
    "\n",
    "Here we can add a few nodes to calculate the accuracy which we'll use in the validation pass."
   ]
  },
  {
   "cell_type": "code",
   "execution_count": 48,
   "metadata": {
    "collapsed": true
   },
   "outputs": [],
   "source": [
    "with graph.as_default():\n",
    "    correct_pred = tf.equal(tf.cast(tf.round(predictions), tf.int32), labels_)\n",
    "    accuracy = tf.reduce_mean(tf.cast(correct_pred, tf.float32))"
   ]
  },
  {
   "cell_type": "markdown",
   "metadata": {},
   "source": [
    "### Batching\n",
    "\n",
    "This is a simple function for returning batches from our data. First it removes data such that we only have full batches. Then it iterates through the `x` and `y` arrays and returns slices out of those arrays with size `[batch_size]`."
   ]
  },
  {
   "cell_type": "code",
   "execution_count": 49,
   "metadata": {
    "collapsed": true
   },
   "outputs": [],
   "source": [
    "def get_batches(x, y, batch_size=100):\n",
    "    \n",
    "    n_batches = len(x)//batch_size\n",
    "    x, y = x[:n_batches*batch_size], y[:n_batches*batch_size]\n",
    "    for ii in range(0, len(x), batch_size):\n",
    "        yield x[ii:ii+batch_size], y[ii:ii+batch_size]"
   ]
  },
  {
   "cell_type": "markdown",
   "metadata": {},
   "source": [
    "## Training\n",
    "\n",
    "Below is the typical training code. If you want to do this yourself, feel free to delete all this code and implement it yourself. Before you run this, make sure the `checkpoints` directory exists."
   ]
  },
  {
   "cell_type": "code",
   "execution_count": 50,
   "metadata": {},
   "outputs": [
    {
     "name": "stdout",
     "output_type": "stream",
     "text": [
      "Epoch: 0/5 Iteration: 5 Train loss: 0.249\n",
      "Epoch: 0/5 Iteration: 10 Train loss: 0.247\n",
      "Epoch: 0/5 Iteration: 15 Train loss: 0.239\n",
      "Epoch: 0/5 Iteration: 20 Train loss: 0.203\n",
      "Epoch: 0/5 Iteration: 25 Train loss: 0.227\n",
      "Val acc: 0.586\n",
      "Epoch: 0/5 Iteration: 30 Train loss: 0.254\n",
      "Epoch: 0/5 Iteration: 35 Train loss: 0.247\n",
      "Epoch: 0/5 Iteration: 40 Train loss: 0.245\n",
      "Epoch: 0/5 Iteration: 45 Train loss: 0.237\n",
      "Epoch: 0/5 Iteration: 50 Train loss: 0.241\n",
      "Val acc: 0.628\n",
      "Epoch: 0/5 Iteration: 55 Train loss: 0.205\n",
      "Epoch: 0/5 Iteration: 60 Train loss: 0.199\n",
      "Epoch: 0/5 Iteration: 65 Train loss: 0.237\n",
      "Epoch: 0/5 Iteration: 70 Train loss: 0.185\n",
      "Epoch: 0/5 Iteration: 75 Train loss: 0.170\n",
      "Val acc: 0.741\n",
      "Epoch: 0/5 Iteration: 80 Train loss: 0.183\n",
      "Epoch: 0/5 Iteration: 85 Train loss: 0.220\n",
      "Epoch: 0/5 Iteration: 90 Train loss: 0.253\n",
      "Epoch: 0/5 Iteration: 95 Train loss: 0.222\n",
      "Epoch: 0/5 Iteration: 100 Train loss: 0.172\n",
      "Val acc: 0.738\n",
      "Epoch: 0/5 Iteration: 105 Train loss: 0.240\n",
      "Epoch: 0/5 Iteration: 110 Train loss: 0.287\n",
      "Epoch: 0/5 Iteration: 115 Train loss: 0.289\n",
      "Epoch: 0/5 Iteration: 120 Train loss: 0.260\n",
      "Epoch: 0/5 Iteration: 125 Train loss: 0.262\n",
      "Val acc: 0.500\n",
      "Epoch: 0/5 Iteration: 130 Train loss: 0.253\n",
      "Epoch: 0/5 Iteration: 135 Train loss: 0.257\n",
      "Epoch: 0/5 Iteration: 140 Train loss: 0.254\n",
      "Epoch: 0/5 Iteration: 145 Train loss: 0.256\n",
      "Epoch: 0/5 Iteration: 150 Train loss: 0.250\n",
      "Val acc: 0.546\n",
      "Epoch: 0/5 Iteration: 155 Train loss: 0.251\n",
      "Epoch: 1/5 Iteration: 160 Train loss: 0.250\n",
      "Epoch: 1/5 Iteration: 165 Train loss: 0.247\n",
      "Epoch: 1/5 Iteration: 170 Train loss: 0.241\n",
      "Epoch: 1/5 Iteration: 175 Train loss: 0.227\n",
      "Val acc: 0.599\n",
      "Epoch: 1/5 Iteration: 180 Train loss: 0.232\n",
      "Epoch: 1/5 Iteration: 185 Train loss: 0.242\n",
      "Epoch: 1/5 Iteration: 190 Train loss: 0.235\n",
      "Epoch: 1/5 Iteration: 195 Train loss: 0.235\n",
      "Epoch: 1/5 Iteration: 200 Train loss: 0.242\n",
      "Val acc: 0.616\n",
      "Epoch: 1/5 Iteration: 205 Train loss: 0.217\n",
      "Epoch: 1/5 Iteration: 210 Train loss: 0.208\n",
      "Epoch: 1/5 Iteration: 215 Train loss: 0.213\n",
      "Epoch: 1/5 Iteration: 220 Train loss: 0.223\n",
      "Epoch: 1/5 Iteration: 225 Train loss: 0.232\n",
      "Val acc: 0.637\n",
      "Epoch: 1/5 Iteration: 230 Train loss: 0.211\n",
      "Epoch: 1/5 Iteration: 235 Train loss: 0.183\n",
      "Epoch: 1/5 Iteration: 240 Train loss: 0.224\n",
      "Epoch: 1/5 Iteration: 245 Train loss: 0.146\n",
      "Epoch: 1/5 Iteration: 250 Train loss: 0.231\n",
      "Val acc: 0.539\n",
      "Epoch: 1/5 Iteration: 255 Train loss: 0.193\n",
      "Epoch: 1/5 Iteration: 260 Train loss: 0.241\n",
      "Epoch: 1/5 Iteration: 265 Train loss: 0.180\n",
      "Epoch: 1/5 Iteration: 270 Train loss: 0.195\n",
      "Epoch: 1/5 Iteration: 275 Train loss: 0.223\n",
      "Val acc: 0.739\n",
      "Epoch: 1/5 Iteration: 280 Train loss: 0.192\n",
      "Epoch: 1/5 Iteration: 285 Train loss: 0.187\n",
      "Epoch: 1/5 Iteration: 290 Train loss: 0.153\n",
      "Epoch: 1/5 Iteration: 295 Train loss: 0.167\n",
      "Epoch: 1/5 Iteration: 300 Train loss: 0.192\n",
      "Val acc: 0.764\n",
      "Epoch: 1/5 Iteration: 305 Train loss: 0.165\n",
      "Epoch: 1/5 Iteration: 310 Train loss: 0.182\n",
      "Epoch: 2/5 Iteration: 315 Train loss: 0.231\n",
      "Epoch: 2/5 Iteration: 320 Train loss: 0.256\n",
      "Epoch: 2/5 Iteration: 325 Train loss: 0.177\n",
      "Val acc: 0.736\n",
      "Epoch: 2/5 Iteration: 330 Train loss: 0.184\n",
      "Epoch: 2/5 Iteration: 335 Train loss: 0.149\n",
      "Epoch: 2/5 Iteration: 340 Train loss: 0.186\n",
      "Epoch: 2/5 Iteration: 345 Train loss: 0.154\n",
      "Epoch: 2/5 Iteration: 350 Train loss: 0.149\n",
      "Val acc: 0.828\n",
      "Epoch: 2/5 Iteration: 355 Train loss: 0.118\n",
      "Epoch: 2/5 Iteration: 360 Train loss: 0.098\n",
      "Epoch: 2/5 Iteration: 365 Train loss: 0.109\n",
      "Epoch: 2/5 Iteration: 370 Train loss: 0.105\n",
      "Epoch: 2/5 Iteration: 375 Train loss: 0.095\n",
      "Val acc: 0.830\n",
      "Epoch: 2/5 Iteration: 380 Train loss: 0.143\n",
      "Epoch: 2/5 Iteration: 385 Train loss: 0.156\n",
      "Epoch: 2/5 Iteration: 390 Train loss: 0.155\n",
      "Epoch: 2/5 Iteration: 395 Train loss: 0.179\n",
      "Epoch: 2/5 Iteration: 400 Train loss: 0.108\n",
      "Val acc: 0.766\n",
      "Epoch: 2/5 Iteration: 405 Train loss: 0.091\n",
      "Epoch: 2/5 Iteration: 410 Train loss: 0.041\n",
      "Epoch: 2/5 Iteration: 415 Train loss: 0.049\n",
      "Epoch: 2/5 Iteration: 420 Train loss: 0.074\n",
      "Epoch: 2/5 Iteration: 425 Train loss: 0.056\n",
      "Val acc: 0.879\n",
      "Epoch: 2/5 Iteration: 430 Train loss: 0.045\n",
      "Epoch: 2/5 Iteration: 435 Train loss: 0.028\n",
      "Epoch: 2/5 Iteration: 440 Train loss: 0.048\n",
      "Epoch: 2/5 Iteration: 445 Train loss: 0.033\n",
      "Epoch: 2/5 Iteration: 450 Train loss: 0.009\n",
      "Val acc: 0.817\n",
      "Epoch: 2/5 Iteration: 455 Train loss: 0.019\n",
      "Epoch: 2/5 Iteration: 460 Train loss: 0.003\n",
      "Epoch: 2/5 Iteration: 465 Train loss: 0.003\n",
      "Epoch: 3/5 Iteration: 470 Train loss: 0.183\n",
      "Epoch: 3/5 Iteration: 475 Train loss: 0.121\n",
      "Val acc: 0.776\n",
      "Epoch: 3/5 Iteration: 480 Train loss: 0.106\n",
      "Epoch: 3/5 Iteration: 485 Train loss: 0.080\n",
      "Epoch: 3/5 Iteration: 490 Train loss: 0.033\n",
      "Epoch: 3/5 Iteration: 495 Train loss: 0.016\n",
      "Epoch: 3/5 Iteration: 500 Train loss: 0.011\n",
      "Val acc: 0.912\n",
      "Epoch: 3/5 Iteration: 505 Train loss: 0.015\n",
      "Epoch: 3/5 Iteration: 510 Train loss: 0.008\n",
      "Epoch: 3/5 Iteration: 515 Train loss: 0.008\n",
      "Epoch: 3/5 Iteration: 520 Train loss: 0.008\n",
      "Epoch: 3/5 Iteration: 525 Train loss: 0.015\n",
      "Val acc: 0.896\n",
      "Epoch: 3/5 Iteration: 530 Train loss: 0.008\n",
      "Epoch: 3/5 Iteration: 535 Train loss: 0.008\n",
      "Epoch: 3/5 Iteration: 540 Train loss: 0.008\n",
      "Epoch: 3/5 Iteration: 545 Train loss: 0.016\n",
      "Epoch: 3/5 Iteration: 550 Train loss: 0.016\n",
      "Val acc: 0.909\n",
      "Epoch: 3/5 Iteration: 555 Train loss: 0.016\n",
      "Epoch: 3/5 Iteration: 560 Train loss: 0.016\n",
      "Epoch: 3/5 Iteration: 565 Train loss: 0.015\n",
      "Epoch: 3/5 Iteration: 570 Train loss: 0.016\n",
      "Epoch: 3/5 Iteration: 575 Train loss: 0.016\n",
      "Val acc: 0.912\n",
      "Epoch: 3/5 Iteration: 580 Train loss: 0.015\n",
      "Epoch: 3/5 Iteration: 585 Train loss: 0.016\n",
      "Epoch: 3/5 Iteration: 590 Train loss: 0.016\n",
      "Epoch: 3/5 Iteration: 595 Train loss: 0.016\n",
      "Epoch: 3/5 Iteration: 600 Train loss: 0.015\n",
      "Val acc: 0.907\n",
      "Epoch: 3/5 Iteration: 605 Train loss: 0.015\n",
      "Epoch: 3/5 Iteration: 610 Train loss: 0.016\n",
      "Epoch: 3/5 Iteration: 615 Train loss: 0.016\n",
      "Epoch: 3/5 Iteration: 620 Train loss: 0.016\n",
      "Epoch: 4/5 Iteration: 625 Train loss: 0.156\n",
      "Val acc: 0.724\n",
      "Epoch: 4/5 Iteration: 630 Train loss: 0.294\n",
      "Epoch: 4/5 Iteration: 635 Train loss: 0.180\n",
      "Epoch: 4/5 Iteration: 640 Train loss: 0.167\n",
      "Epoch: 4/5 Iteration: 645 Train loss: 0.121\n",
      "Epoch: 4/5 Iteration: 650 Train loss: 0.032\n",
      "Val acc: 0.698\n",
      "Epoch: 4/5 Iteration: 655 Train loss: 0.063\n",
      "Epoch: 4/5 Iteration: 660 Train loss: 0.164\n",
      "Epoch: 4/5 Iteration: 665 Train loss: 0.041\n",
      "Epoch: 4/5 Iteration: 670 Train loss: 0.075\n",
      "Epoch: 4/5 Iteration: 675 Train loss: 0.103\n",
      "Val acc: 0.787\n",
      "Epoch: 4/5 Iteration: 680 Train loss: 0.040\n",
      "Epoch: 4/5 Iteration: 685 Train loss: 0.025\n",
      "Epoch: 4/5 Iteration: 690 Train loss: 0.057\n",
      "Epoch: 4/5 Iteration: 695 Train loss: 0.024\n",
      "Epoch: 4/5 Iteration: 700 Train loss: 0.026\n",
      "Val acc: 0.914\n",
      "Epoch: 4/5 Iteration: 705 Train loss: 0.019\n",
      "Epoch: 4/5 Iteration: 710 Train loss: 0.017\n",
      "Epoch: 4/5 Iteration: 715 Train loss: 0.015\n",
      "Epoch: 4/5 Iteration: 720 Train loss: 0.017\n",
      "Epoch: 4/5 Iteration: 725 Train loss: 0.014\n",
      "Val acc: 0.934\n",
      "Epoch: 4/5 Iteration: 730 Train loss: 0.023\n",
      "Epoch: 4/5 Iteration: 735 Train loss: 0.015\n",
      "Epoch: 4/5 Iteration: 740 Train loss: 0.023\n",
      "Epoch: 4/5 Iteration: 745 Train loss: 0.016\n",
      "Epoch: 4/5 Iteration: 750 Train loss: 0.015\n",
      "Val acc: 0.944\n",
      "Epoch: 4/5 Iteration: 755 Train loss: 0.016\n",
      "Epoch: 4/5 Iteration: 760 Train loss: 0.015\n",
      "Epoch: 4/5 Iteration: 765 Train loss: 0.016\n",
      "Epoch: 4/5 Iteration: 770 Train loss: 0.013\n",
      "Epoch: 4/5 Iteration: 775 Train loss: 0.015\n",
      "Val acc: 0.941\n",
      "Epoch: 4/5 Iteration: 780 Train loss: 0.016\n"
     ]
    }
   ],
   "source": [
    "epochs = 5\n",
    "\n",
    "with graph.as_default():\n",
    "    saver = tf.train.Saver()\n",
    "\n",
    "with tf.Session(graph=graph) as sess:\n",
    "    sess.run(tf.global_variables_initializer())\n",
    "    iteration = 1\n",
    "    for e in range(epochs):\n",
    "        state = sess.run(initial_state)\n",
    "        \n",
    "        for ii, (x, y) in enumerate(get_batches(train_x, train_y, batch_size), 1):\n",
    "            feed = {inputs_: x,\n",
    "                    labels_: y,\n",
    "                    keep_prob: 0.5,\n",
    "                    initial_state: state}\n",
    "            loss, state, _ = sess.run([cost, final_state, optimizer], feed_dict=feed)\n",
    "            \n",
    "            if iteration%5==0:\n",
    "                print(\"Epoch: {}/{}\".format(e, epochs),\n",
    "                      \"Iteration: {}\".format(iteration),\n",
    "                      \"Train loss: {:.3f}\".format(loss))\n",
    "\n",
    "            if iteration%25==0:\n",
    "                val_acc = []\n",
    "                val_state = sess.run(cell.zero_state(batch_size, tf.float32))\n",
    "                for x, y in get_batches(val_x, val_y, batch_size):\n",
    "                    feed = {inputs_: x,\n",
    "                            labels_: y,\n",
    "                            keep_prob: 1,\n",
    "                            initial_state: val_state}\n",
    "                    batch_acc, val_state = sess.run([accuracy, final_state], feed_dict=feed)\n",
    "                    val_acc.append(batch_acc)\n",
    "                print(\"Val acc: {:.3f}\".format(np.mean(val_acc)))\n",
    "            iteration +=1\n",
    "    saver.save(sess, \"checkpoints/sentiment.ckpt\")"
   ]
  },
  {
   "cell_type": "markdown",
   "metadata": {},
   "source": [
    "## Testing"
   ]
  },
  {
   "cell_type": "code",
   "execution_count": 51,
   "metadata": {},
   "outputs": [
    {
     "name": "stdout",
     "output_type": "stream",
     "text": [
      "INFO:tensorflow:Restoring parameters from checkpoints\\sentiment.ckpt\n",
      "Test accuracy: 0.953\n"
     ]
    }
   ],
   "source": [
    "test_acc = []\n",
    "with tf.Session(graph=graph) as sess:\n",
    "    saver.restore(sess, tf.train.latest_checkpoint('checkpoints'))\n",
    "    test_state = sess.run(cell.zero_state(batch_size, tf.float32))\n",
    "    for ii, (x, y) in enumerate(get_batches(test_x, test_y, batch_size), 1):\n",
    "        feed = {inputs_: x,\n",
    "                labels_: y,\n",
    "                keep_prob: 1,\n",
    "                initial_state: test_state}\n",
    "        batch_acc, test_state = sess.run([accuracy, final_state], feed_dict=feed)\n",
    "        test_acc.append(batch_acc)\n",
    "    print(\"Test accuracy: {:.3f}\".format(np.mean(test_acc)))"
   ]
  }
 ],
 "metadata": {
  "kernelspec": {
   "display_name": "Python 3",
   "language": "python",
   "name": "python3"
  },
  "language_info": {
   "codemirror_mode": {
    "name": "ipython",
    "version": 3
   },
   "file_extension": ".py",
   "mimetype": "text/x-python",
   "name": "python",
   "nbconvert_exporter": "python",
   "pygments_lexer": "ipython3",
   "version": "3.5.2"
  }
 },
 "nbformat": 4,
 "nbformat_minor": 2
}

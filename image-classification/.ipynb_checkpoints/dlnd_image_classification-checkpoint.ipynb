{
 "cells": [
  {
   "cell_type": "markdown",
   "metadata": {
    "collapsed": true,
    "deletable": true,
    "editable": true
   },
   "source": [
    "# Image Classification\n",
    "In this project, you'll classify images from the [CIFAR-10 dataset](https://www.cs.toronto.edu/~kriz/cifar.html).  The dataset consists of airplanes, dogs, cats, and other objects. You'll preprocess the images, then train a convolutional neural network on all the samples. The images need to be normalized and the labels need to be one-hot encoded.  You'll get to apply what you learned and build a convolutional, max pooling, dropout, and fully connected layers.  At the end, you'll get to see your neural network's predictions on the sample images.\n",
    "## Get the Data\n",
    "Run the following cell to download the [CIFAR-10 dataset for python](https://www.cs.toronto.edu/~kriz/cifar-10-python.tar.gz)."
   ]
  },
  {
   "cell_type": "code",
   "execution_count": 1,
   "metadata": {
    "collapsed": false,
    "deletable": true,
    "editable": true
   },
   "outputs": [
    {
     "name": "stdout",
     "output_type": "stream",
     "text": [
      "All files found!\n"
     ]
    }
   ],
   "source": [
    "\"\"\"\n",
    "DON'T MODIFY ANYTHING IN THIS CELL THAT IS BELOW THIS LINE\n",
    "\"\"\"\n",
    "from urllib.request import urlretrieve\n",
    "from os.path import isfile, isdir\n",
    "from tqdm import tqdm\n",
    "import problem_unittests as tests\n",
    "import tarfile\n",
    "\n",
    "cifar10_dataset_folder_path = 'cifar-10-batches-py'\n",
    "\n",
    "# Use Floyd's cifar-10 dataset if present\n",
    "floyd_cifar10_location = '/input/cifar-10/python.tar.gz'\n",
    "if isfile(floyd_cifar10_location):\n",
    "    tar_gz_path = floyd_cifar10_location\n",
    "else:\n",
    "    tar_gz_path = 'cifar-10-python.tar.gz'\n",
    "\n",
    "class DLProgress(tqdm):\n",
    "    last_block = 0\n",
    "\n",
    "    def hook(self, block_num=1, block_size=1, total_size=None):\n",
    "        self.total = total_size\n",
    "        self.update((block_num - self.last_block) * block_size)\n",
    "        self.last_block = block_num\n",
    "\n",
    "if not isfile(tar_gz_path):\n",
    "    with DLProgress(unit='B', unit_scale=True, miniters=1, desc='CIFAR-10 Dataset') as pbar:\n",
    "        urlretrieve(\n",
    "            'https://www.cs.toronto.edu/~kriz/cifar-10-python.tar.gz',\n",
    "            tar_gz_path,\n",
    "            pbar.hook)\n",
    "\n",
    "if not isdir(cifar10_dataset_folder_path):\n",
    "    with tarfile.open(tar_gz_path) as tar:\n",
    "        tar.extractall()\n",
    "        tar.close()\n",
    "\n",
    "\n",
    "tests.test_folder_path(cifar10_dataset_folder_path)"
   ]
  },
  {
   "cell_type": "markdown",
   "metadata": {
    "deletable": true,
    "editable": true
   },
   "source": [
    "## Explore the Data\n",
    "The dataset is broken into batches to prevent your machine from running out of memory.  The CIFAR-10 dataset consists of 5 batches, named `data_batch_1`, `data_batch_2`, etc.. Each batch contains the labels and images that are one of the following:\n",
    "* airplane\n",
    "* automobile\n",
    "* bird\n",
    "* cat\n",
    "* deer\n",
    "* dog\n",
    "* frog\n",
    "* horse\n",
    "* ship\n",
    "* truck\n",
    "\n",
    "Understanding a dataset is part of making predictions on the data.  Play around with the code cell below by changing the `batch_id` and `sample_id`. The `batch_id` is the id for a batch (1-5). The `sample_id` is the id for a image and label pair in the batch.\n",
    "\n",
    "Ask yourself \"What are all possible labels?\", \"What is the range of values for the image data?\", \"Are the labels in order or random?\".  Answers to questions like these will help you preprocess the data and end up with better predictions."
   ]
  },
  {
   "cell_type": "code",
   "execution_count": 2,
   "metadata": {
    "collapsed": false,
    "deletable": true,
    "editable": true
   },
   "outputs": [
    {
     "name": "stdout",
     "output_type": "stream",
     "text": [
      "\n",
      "Stats of batch 1:\n",
      "Samples: 10000\n",
      "Label Counts: {0: 1005, 1: 974, 2: 1032, 3: 1016, 4: 999, 5: 937, 6: 1030, 7: 1001, 8: 1025, 9: 981}\n",
      "First 20 Labels: [6, 9, 9, 4, 1, 1, 2, 7, 8, 3, 4, 7, 7, 2, 9, 9, 9, 3, 2, 6]\n",
      "\n",
      "Example of Image 72:\n",
      "Image - Min Value: 1 Max Value: 254\n",
      "Image - Shape: (32, 32, 3)\n",
      "Label - Label Id: 6 Name: frog\n"
     ]
    },
    {
     "data": {
      "image/png": "[encoded data removed]",
      "text/plain": [
       "<matplotlib.figure.Figure at 0x7f312a72ac88>"
      ]
     },
     "metadata": {
      "image/png": {
       "height": 250,
       "width": 253
      }
     },
     "output_type": "display_data"
    }
   ],
   "source": [
    "%matplotlib inline\n",
    "%config InlineBackend.figure_format = 'retina'\n",
    "\n",
    "import helper\n",
    "import numpy as np\n",
    "\n",
    "# Explore the dataset\n",
    "batch_id = 1\n",
    "sample_id = 72\n",
    "helper.display_stats(cifar10_dataset_folder_path, batch_id, sample_id)"
   ]
  },
  {
   "cell_type": "markdown",
   "metadata": {
    "deletable": true,
    "editable": true
   },
   "source": [
    "## Implement Preprocess Functions\n",
    "### Normalize\n",
    "In the cell below, implement the `normalize` function to take in image data, `x`, and return it as a normalized Numpy array. The values should be in the range of 0 to 1, inclusive.  The return object should be the same shape as `x`."
   ]
  },
  {
   "cell_type": "code",
   "execution_count": 3,
   "metadata": {
    "collapsed": false,
    "deletable": true,
    "editable": true
   },
   "outputs": [
    {
     "name": "stdout",
     "output_type": "stream",
     "text": [
      "Tests Passed\n"
     ]
    }
   ],
   "source": [
    "def normalize(x):\n",
    "    \"\"\"\n",
    "    Normalize a list of sample image data in the range of 0 to 1\n",
    "    : x: List of image data.  The image shape is (32, 32, 3)\n",
    "    : return: Numpy array of normalize data\n",
    "    \"\"\"\n",
    "    return x / 255\n",
    "\n",
    "\n",
    "\"\"\"\n",
    "DON'T MODIFY ANYTHING IN THIS CELL THAT IS BELOW THIS LINE\n",
    "\"\"\"\n",
    "tests.test_normalize(normalize)"
   ]
  },
  {
   "cell_type": "markdown",
   "metadata": {
    "deletable": true,
    "editable": true
   },
   "source": [
    "### One-hot encode\n",
    "Just like the previous code cell, you'll be implementing a function for preprocessing.  This time, you'll implement the `one_hot_encode` function. The input, `x`, are a list of labels.  Implement the function to return the list of labels as One-Hot encoded Numpy array.  The possible values for labels are 0 to 9. The one-hot encoding function should return the same encoding for each value between each call to `one_hot_encode`.  Make sure to save the map of encodings outside the function.\n",
    "\n",
    "Hint: Don't reinvent the wheel."
   ]
  },
  {
   "cell_type": "code",
   "execution_count": 4,
   "metadata": {
    "collapsed": false,
    "deletable": true,
    "editable": true
   },
   "outputs": [
    {
     "name": "stdout",
     "output_type": "stream",
     "text": [
      "Tests Passed\n"
     ]
    }
   ],
   "source": [
    "from sklearn.preprocessing import OneHotEncoder\n",
    "\n",
    "label_values = list(range(len(helper._load_label_names())))\n",
    "label_encoder = OneHotEncoder()\n",
    "label_encoder.fit(np.array(label_values).reshape(-1,1))\n",
    "\n",
    "def one_hot_encode(x):\n",
    "    \"\"\"\n",
    "    One hot encode a list of sample labels. Return a one-hot encoded vector for each label.\n",
    "    : x: List of sample Labels\n",
    "    : return: Numpy array of one-hot encoded labels\n",
    "    \"\"\"\n",
    "\n",
    "    result = label_encoder.transform(np.array(x).reshape(-1,1)).toarray()\n",
    "    return result\n",
    "\n",
    "\n",
    "\"\"\"\n",
    "DON'T MODIFY ANYTHING IN THIS CELL THAT IS BELOW THIS LINE\n",
    "\"\"\"\n",
    "tests.test_one_hot_encode(one_hot_encode)"
   ]
  },
  {
   "cell_type": "markdown",
   "metadata": {
    "deletable": true,
    "editable": true
   },
   "source": [
    "### Randomize Data\n",
    "As you saw from exploring the data above, the order of the samples are randomized.  It doesn't hurt to randomize it again, but you don't need to for this dataset."
   ]
  },
  {
   "cell_type": "markdown",
   "metadata": {
    "deletable": true,
    "editable": true
   },
   "source": [
    "## Preprocess all the data and save it\n",
    "Running the code cell below will preprocess all the CIFAR-10 data and save it to file. The code below also uses 10% of the training data for validation."
   ]
  },
  {
   "cell_type": "code",
   "execution_count": 5,
   "metadata": {
    "collapsed": false,
    "deletable": true,
    "editable": true
   },
   "outputs": [],
   "source": [
    "\"\"\"\n",
    "DON'T MODIFY ANYTHING IN THIS CELL\n",
    "\"\"\"\n",
    "# Preprocess Training, Validation, and Testing Data\n",
    "helper.preprocess_and_save_data(cifar10_dataset_folder_path, normalize, one_hot_encode)"
   ]
  },
  {
   "cell_type": "markdown",
   "metadata": {
    "deletable": true,
    "editable": true
   },
   "source": [
    "# Check Point\n",
    "This is your first checkpoint.  If you ever decide to come back to this notebook or have to restart the notebook, you can start from here.  The preprocessed data has been saved to disk."
   ]
  },
  {
   "cell_type": "code",
   "execution_count": 6,
   "metadata": {
    "collapsed": true,
    "deletable": true,
    "editable": true
   },
   "outputs": [],
   "source": [
    "\"\"\"\n",
    "DON'T MODIFY ANYTHING IN THIS CELL\n",
    "\"\"\"\n",
    "import pickle\n",
    "import problem_unittests as tests\n",
    "import helper\n",
    "\n",
    "# Load the Preprocessed Validation data\n",
    "valid_features, valid_labels = pickle.load(open('preprocess_validation.p', mode='rb'))"
   ]
  },
  {
   "cell_type": "code",
   "execution_count": 7,
   "metadata": {
    "collapsed": false,
    "deletable": true,
    "editable": true
   },
   "outputs": [
    {
     "data": {
      "text/plain": [
       "(5000, 10)"
      ]
     },
     "execution_count": 7,
     "metadata": {},
     "output_type": "execute_result"
    }
   ],
   "source": [
    "valid_labels.shape"
   ]
  },
  {
   "cell_type": "markdown",
   "metadata": {
    "deletable": true,
    "editable": true
   },
   "source": [
    "## Build the network\n",
    "For the neural network, you'll build each layer into a function.  Most of the code you've seen has been outside of functions. To test your code more thoroughly, we require that you put each layer in a function.  This allows us to give you better feedback and test for simple mistakes using our unittests before you submit your project.\n",
    "\n",
    ">**Note:** If you're finding it hard to dedicate enough time for this course each week, we've provided a small shortcut to this part of the project. In the next couple of problems, you'll have the option to use classes from the [TensorFlow Layers](https://www.tensorflow.org/api_docs/python/tf/layers) or [TensorFlow Layers (contrib)](https://www.tensorflow.org/api_guides/python/contrib.layers) packages to build each layer, except the layers you build in the \"Convolutional and Max Pooling Layer\" section.  TF Layers is similar to Keras's and TFLearn's abstraction to layers, so it's easy to pickup.\n",
    "\n",
    ">However, if you would like to get the most out of this course, try to solve all the problems _without_ using anything from the TF Layers packages. You **can** still use classes from other packages that happen to have the same name as ones you find in TF Layers! For example, instead of using the TF Layers version of the `conv2d` class, [tf.layers.conv2d](https://www.tensorflow.org/api_docs/python/tf/layers/conv2d), you would want to use the TF Neural Network version of `conv2d`, [tf.nn.conv2d](https://www.tensorflow.org/api_docs/python/tf/nn/conv2d). \n",
    "\n",
    "Let's begin!\n",
    "\n",
    "### Input\n",
    "The neural network needs to read the image data, one-hot encoded labels, and dropout keep probability. Implement the following functions\n",
    "* Implement `neural_net_image_input`\n",
    " * Return a [TF Placeholder](https://www.tensorflow.org/api_docs/python/tf/placeholder)\n",
    " * Set the shape using `image_shape` with batch size set to `None`.\n",
    " * Name the TensorFlow placeholder \"x\" using the TensorFlow `name` parameter in the [TF Placeholder](https://www.tensorflow.org/api_docs/python/tf/placeholder).\n",
    "* Implement `neural_net_label_input`\n",
    " * Return a [TF Placeholder](https://www.tensorflow.org/api_docs/python/tf/placeholder)\n",
    " * Set the shape using `n_classes` with batch size set to `None`.\n",
    " * Name the TensorFlow placeholder \"y\" using the TensorFlow `name` parameter in the [TF Placeholder](https://www.tensorflow.org/api_docs/python/tf/placeholder).\n",
    "* Implement `neural_net_keep_prob_input`\n",
    " * Return a [TF Placeholder](https://www.tensorflow.org/api_docs/python/tf/placeholder) for dropout keep probability.\n",
    " * Name the TensorFlow placeholder \"keep_prob\" using the TensorFlow `name` parameter in the [TF Placeholder](https://www.tensorflow.org/api_docs/python/tf/placeholder).\n",
    "\n",
    "These names will be used at the end of the project to load your saved model.\n",
    "\n",
    "Note: `None` for shapes in TensorFlow allow for a dynamic size."
   ]
  },
  {
   "cell_type": "code",
   "execution_count": 8,
   "metadata": {
    "collapsed": false,
    "deletable": true,
    "editable": true
   },
   "outputs": [
    {
     "name": "stdout",
     "output_type": "stream",
     "text": [
      "Image Input Tests Passed.\n",
      "Label Input Tests Passed.\n",
      "Keep Prob Tests Passed.\n"
     ]
    }
   ],
   "source": [
    "import tensorflow as tf\n",
    "\n",
    "def neural_net_image_input(image_shape):\n",
    "    \"\"\"\n",
    "    Return a Tensor for a batch of image input\n",
    "    : image_shape: Shape of the images\n",
    "    : return: Tensor for image input.\n",
    "    \"\"\"\n",
    "    # TODO: Implement Function\n",
    "    # image_shape = (32, 32, 3)\n",
    "    return tf.placeholder(tf.float32, [None] + list(image_shape), name='x')\n",
    "\n",
    "\n",
    "def neural_net_label_input(n_classes):\n",
    "    \"\"\"\n",
    "    Return a Tensor for a batch of label input\n",
    "    : n_classes: Number of classes\n",
    "    : return: Tensor for label input.\n",
    "    \"\"\"\n",
    "    # TODO: Implement Function\n",
    "    return tf.placeholder(tf.float32, [None,n_classes], name='y')\n",
    "\n",
    "\n",
    "def neural_net_keep_prob_input():\n",
    "    \"\"\"\n",
    "    Return a Tensor for keep probability\n",
    "    : return: Tensor for keep probability.\n",
    "    \"\"\"\n",
    "    # TODO: Implement Function\n",
    "    return tf.placeholder(tf.float32, name='keep_prob')\n",
    "\n",
    "\n",
    "\"\"\"\n",
    "DON'T MODIFY ANYTHING IN THIS CELL THAT IS BELOW THIS LINE\n",
    "\"\"\"\n",
    "tf.reset_default_graph()\n",
    "tests.test_nn_image_inputs(neural_net_image_input)\n",
    "tests.test_nn_label_inputs(neural_net_label_input)\n",
    "tests.test_nn_keep_prob_inputs(neural_net_keep_prob_input)"
   ]
  },
  {
   "cell_type": "markdown",
   "metadata": {
    "deletable": true,
    "editable": true
   },
   "source": [
    "### Convolution and Max Pooling Layer\n",
    "Convolution layers have a lot of success with images. For this code cell, you should implement the function `conv2d_maxpool` to apply convolution then max pooling:\n",
    "* Create the weight and bias using `conv_ksize`, `conv_num_outputs` and the shape of `x_tensor`.\n",
    "* Apply a convolution to `x_tensor` using weight and `conv_strides`.\n",
    " * We recommend you use same padding, but you're welcome to use any padding.\n",
    "* Add bias\n",
    "* Add a nonlinear activation to the convolution.\n",
    "* Apply Max Pooling using `pool_ksize` and `pool_strides`.\n",
    " * We recommend you use same padding, but you're welcome to use any padding.\n",
    "\n",
    "**Note:** You **can't** use [TensorFlow Layers](https://www.tensorflow.org/api_docs/python/tf/layers) or [TensorFlow Layers (contrib)](https://www.tensorflow.org/api_guides/python/contrib.layers) for **this** layer, but you can still use TensorFlow's [Neural Network](https://www.tensorflow.org/api_docs/python/tf/nn) package. You may still use the shortcut option for all the **other** layers."
   ]
  },
  {
   "cell_type": "code",
   "execution_count": 32,
   "metadata": {
    "collapsed": false,
    "deletable": true,
    "editable": true
   },
   "outputs": [
    {
     "name": "stdout",
     "output_type": "stream",
     "text": [
      "Tests Passed\n"
     ]
    }
   ],
   "source": [
    "def conv2d_maxpool(x_tensor, conv_num_outputs, conv_ksize, conv_strides, pool_ksize, pool_strides):\n",
    "    \"\"\"\n",
    "    Apply convolution then max pooling to x_tensor\n",
    "    :param x_tensor: TensorFlow Tensor\n",
    "    :param conv_num_outputs: Number of outputs for the convolutional layer\n",
    "    :param conv_ksize: kernal size 2-D Tuple for the convolutional layer\n",
    "    :param conv_strides: Stride 2-D Tuple for convolution\n",
    "    :param pool_ksize: kernal size 2-D Tuple for pool\n",
    "    :param pool_strides: Stride 2-D Tuple for pool\n",
    "    : return: A tensor that represents convolution and max pooling of x_tensor\n",
    "    \"\"\"\n",
    "    # TODO: Implement Function\n",
    "    \n",
    "    image_shape = x_tensor.get_shape().as_list()[1:]\n",
    "    \n",
    "    color_channels = image_shape[2]\n",
    "\n",
    "    weights = tf.Variable(tf.truncated_normal([conv_ksize[0],conv_ksize[1],color_channels,conv_num_outputs], stddev=0.1))\n",
    "    bias = tf.Variable(tf.zeros([conv_num_outputs]))\n",
    "    \n",
    "    result = tf.nn.conv2d(x_tensor, weights, strides= [1,conv_strides[0],conv_strides[1],1],padding='SAME')\n",
    "    result = tf.nn.bias_add(result,bias)\n",
    "    result = tf.nn.relu(result)\n",
    "    \n",
    "    result = tf.nn.max_pool(\n",
    "        result,\n",
    "        ksize=[1,pool_ksize[0],pool_ksize[1],1],\n",
    "        strides = [1,pool_strides[0],pool_strides[1],1],\n",
    "        padding='SAME')\n",
    "    return result \n",
    "\n",
    "\n",
    "\"\"\"\n",
    "DON'T MODIFY ANYTHING IN THIS CELL THAT IS BELOW THIS LINE\n",
    "\"\"\"\n",
    "tests.test_con_pool(conv2d_maxpool)"
   ]
  },
  {
   "cell_type": "markdown",
   "metadata": {
    "deletable": true,
    "editable": true
   },
   "source": [
    "### Flatten Layer\n",
    "Implement the `flatten` function to change the dimension of `x_tensor` from a 4-D tensor to a 2-D tensor.  The output should be the shape (*Batch Size*, *Flattened Image Size*). Shortcut option: you can use classes from the [TensorFlow Layers](https://www.tensorflow.org/api_docs/python/tf/layers) or [TensorFlow Layers (contrib)](https://www.tensorflow.org/api_guides/python/contrib.layers) packages for this layer. For more of a challenge, only use other TensorFlow packages."
   ]
  },
  {
   "cell_type": "code",
   "execution_count": 15,
   "metadata": {
    "collapsed": false,
    "deletable": true,
    "editable": true
   },
   "outputs": [
    {
     "name": "stdout",
     "output_type": "stream",
     "text": [
      "Tests Passed\n"
     ]
    }
   ],
   "source": [
    "import numpy as np\n",
    "\n",
    "def flatten(x_tensor):\n",
    "    \"\"\"\n",
    "    Flatten x_tensor to (Batch Size, Flattened Image Size)\n",
    "    : x_tensor: A tensor of size (Batch Size, ...), where ... are the image dimensions.\n",
    "    : return: A tensor of size (Batch Size, Flattened Image Size).\n",
    "    \"\"\"\n",
    "    # TODO: Implement Function\n",
    "    feature_shape = x_tensor.get_shape().as_list()[1:]\n",
    "    feature_size = np.prod(feature_shape)\n",
    "    \n",
    "\n",
    "    result = tf.reshape(x_tensor,[-1,feature_size])\n",
    "    \n",
    "    return result\n",
    "\n",
    "\n",
    "\"\"\"\n",
    "DON'T MODIFY ANYTHING IN THIS CELL THAT IS BELOW THIS LINE\n",
    "\"\"\"\n",
    "tests.test_flatten(flatten)"
   ]
  },
  {
   "cell_type": "markdown",
   "metadata": {
    "deletable": true,
    "editable": true
   },
   "source": [
    "### Fully-Connected Layer\n",
    "Implement the `fully_conn` function to apply a fully connected layer to `x_tensor` with the shape (*Batch Size*, *num_outputs*). Shortcut option: you can use classes from the [TensorFlow Layers](https://www.tensorflow.org/api_docs/python/tf/layers) or [TensorFlow Layers (contrib)](https://www.tensorflow.org/api_guides/python/contrib.layers) packages for this layer. For more of a challenge, only use other TensorFlow packages."
   ]
  },
  {
   "cell_type": "code",
   "execution_count": 16,
   "metadata": {
    "collapsed": false,
    "deletable": true,
    "editable": true
   },
   "outputs": [
    {
     "name": "stdout",
     "output_type": "stream",
     "text": [
      "Tests Passed\n"
     ]
    }
   ],
   "source": [
    "def fully_conn(x_tensor, num_outputs):\n",
    "    \"\"\"\n",
    "    Apply a fully connected layer to x_tensor using weight and bias\n",
    "    : x_tensor: A 2-D tensor where the first dimension is batch size.\n",
    "    : num_outputs: The number of output that the new tensor should be.\n",
    "    : return: A 2-D tensor where the second dimension is num_outputs.\n",
    "    \"\"\"\n",
    "    # TODO: Implement Function\n",
    "    feature_shape = x_tensor.get_shape().as_list()[1:]\n",
    "\n",
    "    weights = tf.Variable(tf.truncated_normal(feature_shape + [num_outputs], stddev=0.1))\n",
    "    bias = tf.Variable(tf.zeros([num_outputs]))\n",
    "\n",
    "    result = tf.add(tf.matmul(x_tensor,weights),bias)\n",
    "    result = tf.nn.relu(result)\n",
    "    \n",
    "    return result\n",
    "\n",
    "\n",
    "\"\"\"\n",
    "DON'T MODIFY ANYTHING IN THIS CELL THAT IS BELOW THIS LINE\n",
    "\"\"\"\n",
    "tests.test_fully_conn(fully_conn)"
   ]
  },
  {
   "cell_type": "markdown",
   "metadata": {
    "deletable": true,
    "editable": true
   },
   "source": [
    "### Output Layer\n",
    "Implement the `output` function to apply a fully connected layer to `x_tensor` with the shape (*Batch Size*, *num_outputs*). Shortcut option: you can use classes from the [TensorFlow Layers](https://www.tensorflow.org/api_docs/python/tf/layers) or [TensorFlow Layers (contrib)](https://www.tensorflow.org/api_guides/python/contrib.layers) packages for this layer. For more of a challenge, only use other TensorFlow packages.\n",
    "\n",
    "**Note:** Activation, softmax, or cross entropy should **not** be applied to this."
   ]
  },
  {
   "cell_type": "code",
   "execution_count": 17,
   "metadata": {
    "collapsed": false,
    "deletable": true,
    "editable": true
   },
   "outputs": [
    {
     "name": "stdout",
     "output_type": "stream",
     "text": [
      "Tests Passed\n"
     ]
    }
   ],
   "source": [
    "def output(x_tensor, num_outputs):\n",
    "    \"\"\"\n",
    "    Apply a output layer to x_tensor using weight and bias\n",
    "    : x_tensor: A 2-D tensor where the first dimension is batch size.\n",
    "    : num_outputs: The number of output that the new tensor should be.\n",
    "    : return: A 2-D tensor where the second dimension is num_outputs.\n",
    "    \"\"\"\n",
    "    # TODO: Implement Function\n",
    "    feature_shape = x_tensor.get_shape().as_list()[1:]\n",
    "\n",
    "    weights = tf.Variable(tf.truncated_normal(feature_shape + [num_outputs]))\n",
    "    bias = tf.Variable(tf.truncated_normal([num_outputs]))\n",
    "\n",
    "    result = tf.add(tf.matmul(x_tensor,weights),bias)\n",
    "    return result\n",
    "\n",
    "\n",
    "\"\"\"\n",
    "DON'T MODIFY ANYTHING IN THIS CELL THAT IS BELOW THIS LINE\n",
    "\"\"\"\n",
    "tests.test_output(output)"
   ]
  },
  {
   "cell_type": "markdown",
   "metadata": {
    "deletable": true,
    "editable": true
   },
   "source": [
    "### Create Convolutional Model\n",
    "Implement the function `conv_net` to create a convolutional neural network model. The function takes in a batch of images, `x`, and outputs logits.  Use the layers you created above to create this model:\n",
    "\n",
    "* Apply 1, 2, or 3 Convolution and Max Pool layers\n",
    "* Apply a Flatten Layer\n",
    "* Apply 1, 2, or 3 Fully Connected Layers\n",
    "* Apply an Output Layer\n",
    "* Return the output\n",
    "* Apply [TensorFlow's Dropout](https://www.tensorflow.org/api_docs/python/tf/nn/dropout) to one or more layers in the model using `keep_prob`. "
   ]
  },
  {
   "cell_type": "code",
   "execution_count": 58,
   "metadata": {
    "collapsed": false,
    "deletable": true,
    "editable": true
   },
   "outputs": [
    {
     "name": "stdout",
     "output_type": "stream",
     "text": [
      "Neural Network Built!\n"
     ]
    }
   ],
   "source": [
    "def conv_net(x, keep_prob):\n",
    "    \"\"\"\n",
    "    Create a convolutional neural network model\n",
    "    : x: Placeholder tensor that holds image data.\n",
    "    : keep_prob: Placeholder tensor that hold dropout keep probability.\n",
    "    : return: Tensor that represents logits\n",
    "    \"\"\"\n",
    "    # TODO: Apply 1, 2, or 3 Convolution and Max Pool layers\n",
    "    #    Play around with different number of outputs, kernel size and stride\n",
    "    # Function Definition from Above:\n",
    "    #conv2d_maxpool(x_tensor, conv_num_outputs, conv_ksize, conv_strides, pool_ksize, pool_strides)\n",
    "    result = conv2d_maxpool(x, 16 , conv_ksize = (5,5), conv_strides = (1,1), pool_ksize = (2,2), pool_strides = (2,2))\n",
    "    result = tf.nn.dropout(result,keep_prob)\n",
    "    \n",
    "    result = conv2d_maxpool(x, 16 , conv_ksize = (5,5), conv_strides = (1,1), pool_ksize = (2,2), pool_strides = (2,2))\n",
    "    result = tf.nn.dropout(result,keep_prob)\n",
    "    \n",
    "    result = conv2d_maxpool(x, 16 , conv_ksize = (5,5), conv_strides = (1,1), pool_ksize = (2,2), pool_strides = (2,2))\n",
    "    result = tf.nn.dropout(result,keep_prob)\n",
    "    \n",
    "    # TODO: Apply a Flatten Layer\n",
    "    # Function Definition from Above:\n",
    "    #   flatten(x_tensor)\n",
    "    \n",
    "    result = flatten(result)\n",
    "\n",
    "    # TODO: Apply 1, 2, or 3 Fully Connected Layers\n",
    "    #    Play around with different number of outputs\n",
    "    # Function Definition from Above:\n",
    "    #   fully_conn(x_tensor, num_outputs)\n",
    "    \n",
    "    result = fully_conn(result, num_outputs= 128)\n",
    "    result = tf.nn.dropout(result,keep_prob)\n",
    "    \n",
    "    result = fully_conn(result, num_outputs= 128)\n",
    "    result = tf.nn.dropout(result,keep_prob)\n",
    "    \n",
    "    # TODO: Apply an Output Layer\n",
    "    #    Set this to the number of classes\n",
    "    # Function Definition from Above:\n",
    "    #   output(x_tensor, num_outputs)\n",
    "    \n",
    "    result = output(result,10)\n",
    "    \n",
    "    # TODO: return output\n",
    "    return result\n",
    "\n",
    "\n",
    "\"\"\"\n",
    "DON'T MODIFY ANYTHING IN THIS CELL THAT IS BELOW THIS LINE\n",
    "\"\"\"\n",
    "\n",
    "##############################\n",
    "## Build the Neural Network ##\n",
    "##############################\n",
    "\n",
    "# Remove previous weights, bias, inputs, etc..\n",
    "tf.reset_default_graph()\n",
    "\n",
    "# Inputs\n",
    "x = neural_net_image_input((32, 32, 3))\n",
    "y = neural_net_label_input(10)\n",
    "keep_prob = neural_net_keep_prob_input()\n",
    "\n",
    "# Model\n",
    "logits = conv_net(x, keep_prob)\n",
    "\n",
    "# Name logits Tensor, so that is can be loaded from disk after training\n",
    "logits = tf.identity(logits, name='logits')\n",
    "\n",
    "# Loss and Optimizer\n",
    "cost = tf.reduce_mean(tf.nn.softmax_cross_entropy_with_logits(logits=logits, labels=y))\n",
    "#optimizer = tf.train.GradientDescentOptimizer(learning_rate=0.00001).minimize(cost)\n",
    "optimizer = tf.train.AdamOptimizer().minimize(cost)\n",
    "\n",
    "# Accuracy\n",
    "correct_pred = tf.equal(tf.argmax(logits, 1), tf.argmax(y, 1))\n",
    "accuracy = tf.reduce_mean(tf.cast(correct_pred, tf.float32), name='accuracy')\n",
    "\n",
    "tests.test_conv_net(conv_net)"
   ]
  },
  {
   "cell_type": "markdown",
   "metadata": {
    "deletable": true,
    "editable": true
   },
   "source": [
    "## Train the Neural Network\n",
    "### Single Optimization\n",
    "Implement the function `train_neural_network` to do a single optimization.  The optimization should use `optimizer` to optimize in `session` with a `feed_dict` of the following:\n",
    "* `x` for image input\n",
    "* `y` for labels\n",
    "* `keep_prob` for keep probability for dropout\n",
    "\n",
    "This function will be called for each batch, so `tf.global_variables_initializer()` has already been called.\n",
    "\n",
    "Note: Nothing needs to be returned. This function is only optimizing the neural network."
   ]
  },
  {
   "cell_type": "code",
   "execution_count": 19,
   "metadata": {
    "collapsed": false,
    "deletable": true,
    "editable": true
   },
   "outputs": [
    {
     "name": "stdout",
     "output_type": "stream",
     "text": [
      "Tests Passed\n"
     ]
    }
   ],
   "source": [
    "def train_neural_network(session, optimizer, keep_probability, feature_batch, label_batch):\n",
    "    \"\"\"\n",
    "    Optimize the session on a batch of images and labels\n",
    "    : session: Current TensorFlow session\n",
    "    : optimizer: TensorFlow optimizer function\n",
    "    : keep_probability: keep probability\n",
    "    : feature_batch: Batch of Numpy image data\n",
    "    : label_batch: Batch of Numpy label data\n",
    "    \"\"\"\n",
    "    # TODO: Implement Function\n",
    "    session.run(optimizer, feed_dict={x: feature_batch, y: label_batch, keep_prob: keep_probability})\n",
    "\n",
    "\n",
    "\"\"\"\n",
    "DON'T MODIFY ANYTHING IN THIS CELL THAT IS BELOW THIS LINE\n",
    "\"\"\"\n",
    "tests.test_train_nn(train_neural_network)"
   ]
  },
  {
   "cell_type": "markdown",
   "metadata": {
    "deletable": true,
    "editable": true
   },
   "source": [
    "### Show Stats\n",
    "Implement the function `print_stats` to print loss and validation accuracy.  Use the global variables `valid_features` and `valid_labels` to calculate validation accuracy.  Use a keep probability of `1.0` to calculate the loss and validation accuracy."
   ]
  },
  {
   "cell_type": "code",
   "execution_count": 20,
   "metadata": {
    "collapsed": false,
    "deletable": true,
    "editable": true
   },
   "outputs": [],
   "source": [
    "def print_stats(session, feature_batch, label_batch, cost, accuracy):\n",
    "    \"\"\"\n",
    "    Print information about loss and validation accuracy\n",
    "    : session: Current TensorFlow session\n",
    "    : feature_batch: Batch of Numpy image data\n",
    "    : label_batch: Batch of Numpy label data\n",
    "    : cost: TensorFlow cost function\n",
    "    : accuracy: TensorFlow accuracy function\n",
    "    \"\"\"\n",
    "    # TODO: Implement Function\n",
    "    c = session.run(cost, feed_dict={x: feature_batch, y: label_batch, keep_prob: 1.0})\n",
    "    a = session.run(accuracy, feed_dict={x: valid_features, y: valid_labels, keep_prob: 1.0})\n",
    "    print('Loss = {0}, Accuracy = {1}'.format(c,a))"
   ]
  },
  {
   "cell_type": "markdown",
   "metadata": {
    "deletable": true,
    "editable": true
   },
   "source": [
    "### Hyperparameters\n",
    "Tune the following parameters:\n",
    "* Set `epochs` to the number of iterations until the network stops learning or start overfitting\n",
    "* Set `batch_size` to the highest number that your machine has memory for.  Most people set them to common sizes of memory:\n",
    " * 64\n",
    " * 128\n",
    " * 256\n",
    " * ...\n",
    "* Set `keep_probability` to the probability of keeping a node using dropout"
   ]
  },
  {
   "cell_type": "code",
   "execution_count": 56,
   "metadata": {
    "collapsed": true,
    "deletable": true,
    "editable": true
   },
   "outputs": [],
   "source": [
    "# TODO: Tune Parameters\n",
    "epochs = 50\n",
    "batch_size = 64\n",
    "keep_probability = 0.5"
   ]
  },
  {
   "cell_type": "markdown",
   "metadata": {
    "deletable": true,
    "editable": true
   },
   "source": [
    "### Train on a Single CIFAR-10 Batch\n",
    "Instead of training the neural network on all the CIFAR-10 batches of data, let's use a single batch. This should save time while you iterate on the model to get a better accuracy.  Once the final validation accuracy is 50% or greater, run the model on all the data in the next section."
   ]
  },
  {
   "cell_type": "code",
   "execution_count": 59,
   "metadata": {
    "collapsed": false,
    "deletable": true,
    "editable": true
   },
   "outputs": [
    {
     "name": "stdout",
     "output_type": "stream",
     "text": [
      "Checking the Training on a Single Batch...\n",
      "Epoch  1, CIFAR-10 Batch 1:  Loss = 2.3638672828674316, Accuracy = 0.10559999942779541\n",
      "Epoch  2, CIFAR-10 Batch 1:  Loss = 2.298553466796875, Accuracy = 0.131400004029274\n",
      "Epoch  3, CIFAR-10 Batch 1:  Loss = 2.274001121520996, Accuracy = 0.17059999704360962\n",
      "Epoch  4, CIFAR-10 Batch 1:  Loss = 2.2121071815490723, Accuracy = 0.2181999832391739\n",
      "Epoch  5, CIFAR-10 Batch 1:  Loss = 2.1153767108917236, Accuracy = 0.2612000107765198\n",
      "Epoch  6, CIFAR-10 Batch 1:  Loss = 2.0729782581329346, Accuracy = 0.27639999985694885\n",
      "Epoch  7, CIFAR-10 Batch 1:  Loss = 2.059657096862793, Accuracy = 0.3065999746322632\n",
      "Epoch  8, CIFAR-10 Batch 1:  Loss = 2.039970636367798, Accuracy = 0.27459999918937683\n",
      "Epoch  9, CIFAR-10 Batch 1:  Loss = 2.004310369491577, Accuracy = 0.3033999800682068\n",
      "Epoch 10, CIFAR-10 Batch 1:  Loss = 2.023789882659912, Accuracy = 0.32359999418258667\n",
      "Epoch 11, CIFAR-10 Batch 1:  Loss = 1.9793075323104858, Accuracy = 0.32519999146461487\n",
      "Epoch 12, CIFAR-10 Batch 1:  Loss = 1.888784646987915, Accuracy = 0.3649999797344208\n",
      "Epoch 13, CIFAR-10 Batch 1:  Loss = 1.8990159034729004, Accuracy = 0.3535999655723572\n",
      "Epoch 14, CIFAR-10 Batch 1:  Loss = 1.856016755104065, Accuracy = 0.36079999804496765\n",
      "Epoch 15, CIFAR-10 Batch 1:  Loss = 1.8385144472122192, Accuracy = 0.38419994711875916\n",
      "Epoch 16, CIFAR-10 Batch 1:  Loss = 1.7736093997955322, Accuracy = 0.38519996404647827\n",
      "Epoch 17, CIFAR-10 Batch 1:  Loss = 1.7192776203155518, Accuracy = 0.4041999578475952\n",
      "Epoch 18, CIFAR-10 Batch 1:  Loss = 1.6482571363449097, Accuracy = 0.3944000005722046\n",
      "Epoch 19, CIFAR-10 Batch 1:  Loss = 1.5941424369812012, Accuracy = 0.42899996042251587\n",
      "Epoch 20, CIFAR-10 Batch 1:  Loss = 1.5568164587020874, Accuracy = 0.4339999556541443\n",
      "Epoch 21, CIFAR-10 Batch 1:  Loss = 1.5177388191223145, Accuracy = 0.42559999227523804\n",
      "Epoch 22, CIFAR-10 Batch 1:  Loss = 1.5528826713562012, Accuracy = 0.41999998688697815\n",
      "Epoch 23, CIFAR-10 Batch 1:  Loss = 1.500633955001831, Accuracy = 0.42699992656707764\n",
      "Epoch 24, CIFAR-10 Batch 1:  Loss = 1.3975247144699097, Accuracy = 0.4577999711036682\n",
      "Epoch 25, CIFAR-10 Batch 1:  Loss = 1.4178776741027832, Accuracy = 0.4327999949455261\n",
      "Epoch 26, CIFAR-10 Batch 1:  Loss = 1.3866915702819824, Accuracy = 0.4363999664783478\n",
      "Epoch 27, CIFAR-10 Batch 1:  Loss = 1.3209636211395264, Accuracy = 0.4438000023365021\n",
      "Epoch 28, CIFAR-10 Batch 1:  Loss = 1.3188620805740356, Accuracy = 0.4699999690055847\n",
      "Epoch 29, CIFAR-10 Batch 1:  Loss = 1.3498845100402832, Accuracy = 0.4655999541282654\n",
      "Epoch 30, CIFAR-10 Batch 1:  Loss = 1.2996851205825806, Accuracy = 0.4665999710559845\n",
      "Epoch 31, CIFAR-10 Batch 1:  Loss = 1.21592116355896, Accuracy = 0.47179996967315674\n",
      "Epoch 32, CIFAR-10 Batch 1:  Loss = 1.2702584266662598, Accuracy = 0.4801999628543854\n",
      "Epoch 33, CIFAR-10 Batch 1:  Loss = 1.1608027219772339, Accuracy = 0.4719999134540558\n",
      "Epoch 34, CIFAR-10 Batch 1:  Loss = 1.1767510175704956, Accuracy = 0.48179998993873596\n",
      "Epoch 35, CIFAR-10 Batch 1:  Loss = 1.0599571466445923, Accuracy = 0.47739994525909424\n",
      "Epoch 36, CIFAR-10 Batch 1:  Loss = 1.0447473526000977, Accuracy = 0.49599993228912354\n",
      "Epoch 37, CIFAR-10 Batch 1:  Loss = 1.0782580375671387, Accuracy = 0.495199978351593\n",
      "Epoch 38, CIFAR-10 Batch 1:  Loss = 1.0545976161956787, Accuracy = 0.4813999533653259\n",
      "Epoch 39, CIFAR-10 Batch 1:  Loss = 0.9977253675460815, Accuracy = 0.47839996218681335\n",
      "Epoch 40, CIFAR-10 Batch 1:  Loss = 1.0042107105255127, Accuracy = 0.4975999593734741\n",
      "Epoch 41, CIFAR-10 Batch 1:  Loss = 1.0152231454849243, Accuracy = 0.5105999708175659\n",
      "Epoch 42, CIFAR-10 Batch 1:  Loss = 1.0283602476119995, Accuracy = 0.4829999506473541\n",
      "Epoch 43, CIFAR-10 Batch 1:  Loss = 0.9177517890930176, Accuracy = 0.507599949836731\n",
      "Epoch 44, CIFAR-10 Batch 1:  Loss = 0.8726241588592529, Accuracy = 0.5035998821258545\n",
      "Epoch 45, CIFAR-10 Batch 1:  Loss = 0.8947051167488098, Accuracy = 0.5027999877929688\n",
      "Epoch 46, CIFAR-10 Batch 1:  Loss = 0.8425719141960144, Accuracy = 0.501800000667572\n",
      "Epoch 47, CIFAR-10 Batch 1:  Loss = 0.9413936734199524, Accuracy = 0.4975999593734741\n",
      "Epoch 48, CIFAR-10 Batch 1:  Loss = 0.8040593862533569, Accuracy = 0.5157999992370605\n",
      "Epoch 49, CIFAR-10 Batch 1:  Loss = 0.7408523559570312, Accuracy = 0.5155999660491943\n",
      "Epoch 50, CIFAR-10 Batch 1:  Loss = 0.7637581825256348, Accuracy = 0.5105999112129211\n"
     ]
    }
   ],
   "source": [
    "\"\"\"\n",
    "DON'T MODIFY ANYTHING IN THIS CELL\n",
    "\"\"\"\n",
    "print('Checking the Training on a Single Batch...')\n",
    "with tf.Session() as sess:\n",
    "    # Initializing the variables\n",
    "    sess.run(tf.global_variables_initializer())\n",
    "    \n",
    "    # Training cycle\n",
    "    for epoch in range(epochs):\n",
    "        batch_i = 1\n",
    "        for batch_features, batch_labels in helper.load_preprocess_training_batch(batch_i, batch_size):\n",
    "            train_neural_network(sess, optimizer, keep_probability, batch_features, batch_labels)\n",
    "        print('Epoch {:>2}, CIFAR-10 Batch {}:  '.format(epoch + 1, batch_i), end='')\n",
    "        print_stats(sess, batch_features, batch_labels, cost, accuracy)"
   ]
  },
  {
   "cell_type": "markdown",
   "metadata": {
    "deletable": true,
    "editable": true
   },
   "source": [
    "### Fully Train the Model\n",
    "Now that you got a good accuracy with a single CIFAR-10 batch, try it with all five batches."
   ]
  },
  {
   "cell_type": "code",
   "execution_count": 60,
   "metadata": {
    "collapsed": false,
    "deletable": true,
    "editable": true
   },
   "outputs": [
    {
     "name": "stdout",
     "output_type": "stream",
     "text": [
      "Training...\n",
      "Epoch  1, CIFAR-10 Batch 1:  Loss = 2.3081932067871094, Accuracy = 0.12119999527931213\n",
      "Epoch  1, CIFAR-10 Batch 2:  Loss = 2.2445969581604004, Accuracy = 0.16279999911785126\n",
      "Epoch  1, CIFAR-10 Batch 3:  Loss = 2.1816864013671875, Accuracy = 0.15219999849796295\n",
      "Epoch  1, CIFAR-10 Batch 4:  Loss = 2.1809675693511963, Accuracy = 0.1817999929189682\n",
      "Epoch  1, CIFAR-10 Batch 5:  Loss = 2.1737170219421387, Accuracy = 0.21159997582435608\n",
      "Epoch  2, CIFAR-10 Batch 1:  Loss = 2.0795230865478516, Accuracy = 0.24839997291564941\n",
      "Epoch  2, CIFAR-10 Batch 2:  Loss = 1.972529411315918, Accuracy = 0.2863999903202057\n",
      "Epoch  2, CIFAR-10 Batch 3:  Loss = 1.8624775409698486, Accuracy = 0.2793999910354614\n",
      "Epoch  2, CIFAR-10 Batch 4:  Loss = 1.8817014694213867, Accuracy = 0.3009999990463257\n",
      "Epoch  2, CIFAR-10 Batch 5:  Loss = 1.8738811016082764, Accuracy = 0.3025999665260315\n",
      "Epoch  3, CIFAR-10 Batch 1:  Loss = 1.975478172302246, Accuracy = 0.3375999629497528\n",
      "Epoch  3, CIFAR-10 Batch 2:  Loss = 1.8295215368270874, Accuracy = 0.35339999198913574\n",
      "Epoch  3, CIFAR-10 Batch 3:  Loss = 1.739554524421692, Accuracy = 0.31060001254081726\n",
      "Epoch  3, CIFAR-10 Batch 4:  Loss = 1.761871576309204, Accuracy = 0.35519999265670776\n",
      "Epoch  3, CIFAR-10 Batch 5:  Loss = 1.9120447635650635, Accuracy = 0.3203999996185303\n",
      "Epoch  4, CIFAR-10 Batch 1:  Loss = 1.9374767541885376, Accuracy = 0.38339996337890625\n",
      "Epoch  4, CIFAR-10 Batch 2:  Loss = 1.7438386678695679, Accuracy = 0.38339996337890625\n",
      "Epoch  4, CIFAR-10 Batch 3:  Loss = 1.5352513790130615, Accuracy = 0.37699997425079346\n",
      "Epoch  4, CIFAR-10 Batch 4:  Loss = 1.6726337671279907, Accuracy = 0.37779998779296875\n",
      "Epoch  4, CIFAR-10 Batch 5:  Loss = 1.6987851858139038, Accuracy = 0.3895999789237976\n",
      "Epoch  5, CIFAR-10 Batch 1:  Loss = 1.838049054145813, Accuracy = 0.3845999836921692\n",
      "Epoch  5, CIFAR-10 Batch 2:  Loss = 1.6690046787261963, Accuracy = 0.3919999897480011\n",
      "Epoch  5, CIFAR-10 Batch 3:  Loss = 1.4152686595916748, Accuracy = 0.42260000109672546\n",
      "Epoch  5, CIFAR-10 Batch 4:  Loss = 1.5460004806518555, Accuracy = 0.43059995770454407\n",
      "Epoch  5, CIFAR-10 Batch 5:  Loss = 1.6133646965026855, Accuracy = 0.4301999509334564\n",
      "Epoch  6, CIFAR-10 Batch 1:  Loss = 1.5897982120513916, Accuracy = 0.4261999726295471\n",
      "Epoch  6, CIFAR-10 Batch 2:  Loss = 1.5626778602600098, Accuracy = 0.45799997448921204\n",
      "Epoch  6, CIFAR-10 Batch 3:  Loss = 1.3492834568023682, Accuracy = 0.44159996509552\n",
      "Epoch  6, CIFAR-10 Batch 4:  Loss = 1.498382806777954, Accuracy = 0.44039997458457947\n",
      "Epoch  6, CIFAR-10 Batch 5:  Loss = 1.612550139427185, Accuracy = 0.4472000002861023\n",
      "Epoch  7, CIFAR-10 Batch 1:  Loss = 1.6156435012817383, Accuracy = 0.45899999141693115\n",
      "Epoch  7, CIFAR-10 Batch 2:  Loss = 1.4401063919067383, Accuracy = 0.4647999703884125\n",
      "Epoch  7, CIFAR-10 Batch 3:  Loss = 1.2703680992126465, Accuracy = 0.47359997034072876\n",
      "Epoch  7, CIFAR-10 Batch 4:  Loss = 1.4126497507095337, Accuracy = 0.48219993710517883\n",
      "Epoch  7, CIFAR-10 Batch 5:  Loss = 1.6704624891281128, Accuracy = 0.4285999834537506\n",
      "Epoch  8, CIFAR-10 Batch 1:  Loss = 1.3465099334716797, Accuracy = 0.4845999479293823\n",
      "Epoch  8, CIFAR-10 Batch 2:  Loss = 1.3699309825897217, Accuracy = 0.48820000886917114\n",
      "Epoch  8, CIFAR-10 Batch 3:  Loss = 1.1847634315490723, Accuracy = 0.4963999390602112\n",
      "Epoch  8, CIFAR-10 Batch 4:  Loss = 1.3766940832138062, Accuracy = 0.5041999220848083\n",
      "Epoch  8, CIFAR-10 Batch 5:  Loss = 1.4488134384155273, Accuracy = 0.4865999221801758\n",
      "Epoch  9, CIFAR-10 Batch 1:  Loss = 1.3067822456359863, Accuracy = 0.5103999376296997\n",
      "Epoch  9, CIFAR-10 Batch 2:  Loss = 1.3022174835205078, Accuracy = 0.5023999810218811\n",
      "Epoch  9, CIFAR-10 Batch 3:  Loss = 1.1637370586395264, Accuracy = 0.5121999382972717\n",
      "Epoch  9, CIFAR-10 Batch 4:  Loss = 1.3099052906036377, Accuracy = 0.5179998874664307\n",
      "Epoch  9, CIFAR-10 Batch 5:  Loss = 1.425785779953003, Accuracy = 0.4893999695777893\n",
      "Epoch 10, CIFAR-10 Batch 1:  Loss = 1.294234275817871, Accuracy = 0.5313999056816101\n",
      "Epoch 10, CIFAR-10 Batch 2:  Loss = 1.2863874435424805, Accuracy = 0.5193999409675598\n",
      "Epoch 10, CIFAR-10 Batch 3:  Loss = 1.220054030418396, Accuracy = 0.5095999836921692\n",
      "Epoch 10, CIFAR-10 Batch 4:  Loss = 1.2368618249893188, Accuracy = 0.5183999538421631\n",
      "Epoch 10, CIFAR-10 Batch 5:  Loss = 1.3405330181121826, Accuracy = 0.5278000235557556\n",
      "Epoch 11, CIFAR-10 Batch 1:  Loss = 1.252885341644287, Accuracy = 0.5251999497413635\n",
      "Epoch 11, CIFAR-10 Batch 2:  Loss = 1.2599356174468994, Accuracy = 0.5297998785972595\n",
      "Epoch 11, CIFAR-10 Batch 3:  Loss = 1.0892146825790405, Accuracy = 0.5353999137878418\n",
      "Epoch 11, CIFAR-10 Batch 4:  Loss = 1.2315547466278076, Accuracy = 0.5460000038146973\n",
      "Epoch 11, CIFAR-10 Batch 5:  Loss = 1.3472905158996582, Accuracy = 0.5305999517440796\n",
      "Epoch 12, CIFAR-10 Batch 1:  Loss = 1.2484887838363647, Accuracy = 0.5329999923706055\n",
      "Epoch 12, CIFAR-10 Batch 2:  Loss = 1.1349152326583862, Accuracy = 0.5495999455451965\n",
      "Epoch 12, CIFAR-10 Batch 3:  Loss = 1.0805305242538452, Accuracy = 0.5429999828338623\n",
      "Epoch 12, CIFAR-10 Batch 4:  Loss = 1.1920169591903687, Accuracy = 0.543999969959259\n",
      "Epoch 12, CIFAR-10 Batch 5:  Loss = 1.292763113975525, Accuracy = 0.5397999286651611\n",
      "Epoch 13, CIFAR-10 Batch 1:  Loss = 1.1801403760910034, Accuracy = 0.5639998912811279\n",
      "Epoch 13, CIFAR-10 Batch 2:  Loss = 1.1092867851257324, Accuracy = 0.5495999455451965\n",
      "Epoch 13, CIFAR-10 Batch 3:  Loss = 1.0709284543991089, Accuracy = 0.5619999170303345\n",
      "Epoch 13, CIFAR-10 Batch 4:  Loss = 1.1214145421981812, Accuracy = 0.5717999339103699\n",
      "Epoch 13, CIFAR-10 Batch 5:  Loss = 1.2144891023635864, Accuracy = 0.5611999034881592\n",
      "Epoch 14, CIFAR-10 Batch 1:  Loss = 1.138052225112915, Accuracy = 0.554599940776825\n",
      "Epoch 14, CIFAR-10 Batch 2:  Loss = 1.1306718587875366, Accuracy = 0.5594000220298767\n",
      "Epoch 14, CIFAR-10 Batch 3:  Loss = 1.0274354219436646, Accuracy = 0.5595999956130981\n",
      "Epoch 14, CIFAR-10 Batch 4:  Loss = 1.0945616960525513, Accuracy = 0.5659998655319214\n",
      "Epoch 14, CIFAR-10 Batch 5:  Loss = 1.184066653251648, Accuracy = 0.5505999326705933\n",
      "Epoch 15, CIFAR-10 Batch 1:  Loss = 1.1878111362457275, Accuracy = 0.5753999352455139\n",
      "Epoch 15, CIFAR-10 Batch 2:  Loss = 1.1545727252960205, Accuracy = 0.556399941444397\n",
      "Epoch 15, CIFAR-10 Batch 3:  Loss = 1.0347106456756592, Accuracy = 0.5507999658584595\n",
      "Epoch 15, CIFAR-10 Batch 4:  Loss = 1.124200463294983, Accuracy = 0.5729999542236328\n",
      "Epoch 15, CIFAR-10 Batch 5:  Loss = 1.1455127000808716, Accuracy = 0.5681999325752258\n",
      "Epoch 16, CIFAR-10 Batch 1:  Loss = 1.1160880327224731, Accuracy = 0.5651999711990356\n",
      "Epoch 16, CIFAR-10 Batch 2:  Loss = 1.0744818449020386, Accuracy = 0.5797999501228333\n",
      "Epoch 16, CIFAR-10 Batch 3:  Loss = 1.0617706775665283, Accuracy = 0.5687999725341797\n",
      "Epoch 16, CIFAR-10 Batch 4:  Loss = 1.0665090084075928, Accuracy = 0.5719999074935913\n",
      "Epoch 16, CIFAR-10 Batch 5:  Loss = 1.100746512413025, Accuracy = 0.5753999352455139\n",
      "Epoch 17, CIFAR-10 Batch 1:  Loss = 1.1043415069580078, Accuracy = 0.5743999481201172\n",
      "Epoch 17, CIFAR-10 Batch 2:  Loss = 1.0454119443893433, Accuracy = 0.5857999920845032\n",
      "Epoch 17, CIFAR-10 Batch 3:  Loss = 0.9612181186676025, Accuracy = 0.5755999088287354\n",
      "Epoch 17, CIFAR-10 Batch 4:  Loss = 1.0451722145080566, Accuracy = 0.5843998789787292\n",
      "Epoch 17, CIFAR-10 Batch 5:  Loss = 1.105385184288025, Accuracy = 0.5603999495506287\n",
      "Epoch 18, CIFAR-10 Batch 1:  Loss = 1.114362359046936, Accuracy = 0.591999888420105\n",
      "Epoch 18, CIFAR-10 Batch 2:  Loss = 1.0295219421386719, Accuracy = 0.5685999393463135\n",
      "Epoch 18, CIFAR-10 Batch 3:  Loss = 0.9438847303390503, Accuracy = 0.5815999507904053\n",
      "Epoch 18, CIFAR-10 Batch 4:  Loss = 1.0225589275360107, Accuracy = 0.578999936580658\n",
      "Epoch 18, CIFAR-10 Batch 5:  Loss = 1.053198218345642, Accuracy = 0.5841999650001526\n",
      "Epoch 19, CIFAR-10 Batch 1:  Loss = 1.1362104415893555, Accuracy = 0.5765998959541321\n",
      "Epoch 19, CIFAR-10 Batch 2:  Loss = 0.9923437237739563, Accuracy = 0.5843998789787292\n",
      "Epoch 19, CIFAR-10 Batch 3:  Loss = 0.9202978610992432, Accuracy = 0.5773999094963074\n",
      "Epoch 19, CIFAR-10 Batch 4:  Loss = 0.9854685068130493, Accuracy = 0.592799961566925\n",
      "Epoch 19, CIFAR-10 Batch 5:  Loss = 1.0319571495056152, Accuracy = 0.5849999189376831\n",
      "Epoch 20, CIFAR-10 Batch 1:  Loss = 1.0192949771881104, Accuracy = 0.5929999351501465\n",
      "Epoch 20, CIFAR-10 Batch 2:  Loss = 1.0420693159103394, Accuracy = 0.5749999284744263\n",
      "Epoch 20, CIFAR-10 Batch 3:  Loss = 0.8376764059066772, Accuracy = 0.5935999155044556\n",
      "Epoch 20, CIFAR-10 Batch 4:  Loss = 0.9211004972457886, Accuracy = 0.5995998978614807\n",
      "Epoch 20, CIFAR-10 Batch 5:  Loss = 1.0543792247772217, Accuracy = 0.5801998972892761\n",
      "Epoch 21, CIFAR-10 Batch 1:  Loss = 1.0340451002120972, Accuracy = 0.5769999027252197\n",
      "Epoch 21, CIFAR-10 Batch 2:  Loss = 0.9863302111625671, Accuracy = 0.5835999250411987\n",
      "Epoch 21, CIFAR-10 Batch 3:  Loss = 0.8117787837982178, Accuracy = 0.5989999175071716\n",
      "Epoch 21, CIFAR-10 Batch 4:  Loss = 0.9844189882278442, Accuracy = 0.5989999175071716\n",
      "Epoch 21, CIFAR-10 Batch 5:  Loss = 1.023296594619751, Accuracy = 0.5931999087333679\n",
      "Epoch 22, CIFAR-10 Batch 1:  Loss = 0.9652715921401978, Accuracy = 0.5909999012947083\n",
      "Epoch 22, CIFAR-10 Batch 2:  Loss = 1.0359902381896973, Accuracy = 0.5787999629974365\n",
      "Epoch 22, CIFAR-10 Batch 3:  Loss = 0.8587068915367126, Accuracy = 0.597599983215332\n",
      "Epoch 22, CIFAR-10 Batch 4:  Loss = 0.9915785789489746, Accuracy = 0.5991998910903931\n",
      "Epoch 22, CIFAR-10 Batch 5:  Loss = 1.0395090579986572, Accuracy = 0.5879999399185181\n",
      "Epoch 23, CIFAR-10 Batch 1:  Loss = 0.9580049514770508, Accuracy = 0.5889999270439148\n",
      "Epoch 23, CIFAR-10 Batch 2:  Loss = 0.9644166827201843, Accuracy = 0.5811998844146729\n",
      "Epoch 23, CIFAR-10 Batch 3:  Loss = 0.8324196934700012, Accuracy = 0.5997999310493469\n",
      "Epoch 23, CIFAR-10 Batch 4:  Loss = 0.9037242531776428, Accuracy = 0.6049998998641968\n",
      "Epoch 23, CIFAR-10 Batch 5:  Loss = 1.0168635845184326, Accuracy = 0.5899999141693115\n",
      "Epoch 24, CIFAR-10 Batch 1:  Loss = 1.0001280307769775, Accuracy = 0.5927999019622803\n",
      "Epoch 24, CIFAR-10 Batch 2:  Loss = 0.9429632425308228, Accuracy = 0.5979998707771301\n",
      "Epoch 24, CIFAR-10 Batch 3:  Loss = 0.8360837697982788, Accuracy = 0.5953999161720276\n",
      "Epoch 24, CIFAR-10 Batch 4:  Loss = 0.9192290306091309, Accuracy = 0.6055998802185059\n",
      "Epoch 24, CIFAR-10 Batch 5:  Loss = 0.9706839323043823, Accuracy = 0.603399932384491\n",
      "Epoch 25, CIFAR-10 Batch 1:  Loss = 0.9826712012290955, Accuracy = 0.6061999201774597\n",
      "Epoch 25, CIFAR-10 Batch 2:  Loss = 0.9479588866233826, Accuracy = 0.5947999358177185\n",
      "Epoch 25, CIFAR-10 Batch 3:  Loss = 0.8030820488929749, Accuracy = 0.6103999018669128\n",
      "Epoch 25, CIFAR-10 Batch 4:  Loss = 0.9061905741691589, Accuracy = 0.6051998734474182\n",
      "Epoch 25, CIFAR-10 Batch 5:  Loss = 0.9726025462150574, Accuracy = 0.6041998863220215\n",
      "Epoch 26, CIFAR-10 Batch 1:  Loss = 0.9370704889297485, Accuracy = 0.6029999852180481\n",
      "Epoch 26, CIFAR-10 Batch 2:  Loss = 0.9249380826950073, Accuracy = 0.6031999588012695\n",
      "Epoch 26, CIFAR-10 Batch 3:  Loss = 0.7765980958938599, Accuracy = 0.6049999594688416\n",
      "Epoch 26, CIFAR-10 Batch 4:  Loss = 0.8919699192047119, Accuracy = 0.6117998957633972\n",
      "Epoch 26, CIFAR-10 Batch 5:  Loss = 0.9267392158508301, Accuracy = 0.6019998788833618\n",
      "Epoch 27, CIFAR-10 Batch 1:  Loss = 0.918921709060669, Accuracy = 0.615399956703186\n",
      "Epoch 27, CIFAR-10 Batch 2:  Loss = 0.870084822177887, Accuracy = 0.6067999005317688\n",
      "Epoch 27, CIFAR-10 Batch 3:  Loss = 0.7537962198257446, Accuracy = 0.607999861240387\n",
      "Epoch 27, CIFAR-10 Batch 4:  Loss = 0.8542025089263916, Accuracy = 0.6111999750137329\n",
      "Epoch 27, CIFAR-10 Batch 5:  Loss = 0.9036152362823486, Accuracy = 0.605199933052063\n",
      "Epoch 28, CIFAR-10 Batch 1:  Loss = 0.8888082504272461, Accuracy = 0.6099998950958252\n",
      "Epoch 28, CIFAR-10 Batch 2:  Loss = 0.9439188241958618, Accuracy = 0.6093999147415161\n",
      "Epoch 28, CIFAR-10 Batch 3:  Loss = 0.7547494173049927, Accuracy = 0.6061999201774597\n",
      "Epoch 28, CIFAR-10 Batch 4:  Loss = 0.8248604536056519, Accuracy = 0.608199954032898\n",
      "Epoch 28, CIFAR-10 Batch 5:  Loss = 0.9379291534423828, Accuracy = 0.6031999588012695\n",
      "Epoch 29, CIFAR-10 Batch 1:  Loss = 0.8705991506576538, Accuracy = 0.5983998775482178\n",
      "Epoch 29, CIFAR-10 Batch 2:  Loss = 0.8547918200492859, Accuracy = 0.606999933719635\n",
      "Epoch 29, CIFAR-10 Batch 3:  Loss = 0.752348780632019, Accuracy = 0.6205999255180359\n",
      "Epoch 29, CIFAR-10 Batch 4:  Loss = 0.873059868812561, Accuracy = 0.6103999018669128\n",
      "Epoch 29, CIFAR-10 Batch 5:  Loss = 0.8996033668518066, Accuracy = 0.6175999045372009\n",
      "Epoch 30, CIFAR-10 Batch 1:  Loss = 0.9021650552749634, Accuracy = 0.6205998659133911\n",
      "Epoch 30, CIFAR-10 Batch 2:  Loss = 0.8877527117729187, Accuracy = 0.6207998991012573\n",
      "Epoch 30, CIFAR-10 Batch 3:  Loss = 0.7341786623001099, Accuracy = 0.6179999113082886\n",
      "Epoch 30, CIFAR-10 Batch 4:  Loss = 0.8031690716743469, Accuracy = 0.6253998875617981\n",
      "Epoch 30, CIFAR-10 Batch 5:  Loss = 0.9246007204055786, Accuracy = 0.6107999086380005\n",
      "Epoch 31, CIFAR-10 Batch 1:  Loss = 0.8442519903182983, Accuracy = 0.6115999221801758\n",
      "Epoch 31, CIFAR-10 Batch 2:  Loss = 0.8131990432739258, Accuracy = 0.619999885559082\n",
      "Epoch 31, CIFAR-10 Batch 3:  Loss = 0.7241973280906677, Accuracy = 0.6101998686790466\n",
      "Epoch 31, CIFAR-10 Batch 4:  Loss = 0.8684777021408081, Accuracy = 0.6165999174118042\n",
      "Epoch 31, CIFAR-10 Batch 5:  Loss = 0.8890727758407593, Accuracy = 0.627599835395813\n",
      "Epoch 32, CIFAR-10 Batch 1:  Loss = 0.850566565990448, Accuracy = 0.619399905204773\n",
      "Epoch 32, CIFAR-10 Batch 2:  Loss = 0.8833299875259399, Accuracy = 0.5853999257087708\n",
      "Epoch 32, CIFAR-10 Batch 3:  Loss = 0.6972090005874634, Accuracy = 0.6175999641418457\n",
      "Epoch 32, CIFAR-10 Batch 4:  Loss = 0.7919012904167175, Accuracy = 0.6251998543739319\n",
      "Epoch 32, CIFAR-10 Batch 5:  Loss = 0.9635484218597412, Accuracy = 0.5861998796463013\n",
      "Epoch 33, CIFAR-10 Batch 1:  Loss = 0.858555257320404, Accuracy = 0.6095998883247375\n",
      "Epoch 33, CIFAR-10 Batch 2:  Loss = 0.7829297780990601, Accuracy = 0.6227998733520508\n",
      "Epoch 33, CIFAR-10 Batch 3:  Loss = 0.7248393893241882, Accuracy = 0.6219999194145203\n",
      "Epoch 33, CIFAR-10 Batch 4:  Loss = 0.8003525733947754, Accuracy = 0.6167998909950256\n",
      "Epoch 33, CIFAR-10 Batch 5:  Loss = 0.8502615094184875, Accuracy = 0.6215999126434326\n",
      "Epoch 34, CIFAR-10 Batch 1:  Loss = 0.8337415456771851, Accuracy = 0.6267998814582825\n",
      "Epoch 34, CIFAR-10 Batch 2:  Loss = 0.8361778259277344, Accuracy = 0.6045999526977539\n",
      "Epoch 34, CIFAR-10 Batch 3:  Loss = 0.6832805871963501, Accuracy = 0.6253999471664429\n",
      "Epoch 34, CIFAR-10 Batch 4:  Loss = 0.7677528858184814, Accuracy = 0.6119999289512634\n",
      "Epoch 34, CIFAR-10 Batch 5:  Loss = 0.7971284985542297, Accuracy = 0.6185998916625977\n",
      "Epoch 35, CIFAR-10 Batch 1:  Loss = 0.902689516544342, Accuracy = 0.603399932384491\n",
      "Epoch 35, CIFAR-10 Batch 2:  Loss = 0.8188852667808533, Accuracy = 0.5901999473571777\n",
      "Epoch 35, CIFAR-10 Batch 3:  Loss = 0.6739239692687988, Accuracy = 0.6293998956680298\n",
      "Epoch 35, CIFAR-10 Batch 4:  Loss = 0.808460533618927, Accuracy = 0.6147998571395874\n",
      "Epoch 35, CIFAR-10 Batch 5:  Loss = 0.8127838373184204, Accuracy = 0.6241998672485352\n",
      "Epoch 36, CIFAR-10 Batch 1:  Loss = 0.8144721984863281, Accuracy = 0.6219999194145203\n",
      "Epoch 36, CIFAR-10 Batch 2:  Loss = 0.872979462146759, Accuracy = 0.6089998483657837\n",
      "Epoch 36, CIFAR-10 Batch 3:  Loss = 0.6780866384506226, Accuracy = 0.6239998936653137\n",
      "Epoch 36, CIFAR-10 Batch 4:  Loss = 0.7500636577606201, Accuracy = 0.6225999593734741\n",
      "Epoch 36, CIFAR-10 Batch 5:  Loss = 0.7949438691139221, Accuracy = 0.6261999607086182\n",
      "Epoch 37, CIFAR-10 Batch 1:  Loss = 0.7913988828659058, Accuracy = 0.6275998950004578\n",
      "Epoch 37, CIFAR-10 Batch 2:  Loss = 0.8325438499450684, Accuracy = 0.6193999648094177\n",
      "Epoch 37, CIFAR-10 Batch 3:  Loss = 0.6674010157585144, Accuracy = 0.6311998963356018\n",
      "Epoch 37, CIFAR-10 Batch 4:  Loss = 0.7318363189697266, Accuracy = 0.6267998814582825\n",
      "Epoch 37, CIFAR-10 Batch 5:  Loss = 0.8172030448913574, Accuracy = 0.5995998978614807\n",
      "Epoch 38, CIFAR-10 Batch 1:  Loss = 0.8206026554107666, Accuracy = 0.610599935054779\n",
      "Epoch 38, CIFAR-10 Batch 2:  Loss = 0.7797625064849854, Accuracy = 0.6209998726844788\n",
      "Epoch 38, CIFAR-10 Batch 3:  Loss = 0.6470353007316589, Accuracy = 0.6267999410629272\n",
      "Epoch 38, CIFAR-10 Batch 4:  Loss = 0.7828711867332458, Accuracy = 0.6273999214172363\n",
      "Epoch 38, CIFAR-10 Batch 5:  Loss = 0.7256382703781128, Accuracy = 0.6255999207496643\n",
      "Epoch 39, CIFAR-10 Batch 1:  Loss = 0.8060879111289978, Accuracy = 0.6317999362945557\n",
      "Epoch 39, CIFAR-10 Batch 2:  Loss = 0.7918497920036316, Accuracy = 0.627799928188324\n",
      "Epoch 39, CIFAR-10 Batch 3:  Loss = 0.6348592638969421, Accuracy = 0.6327998638153076\n",
      "Epoch 39, CIFAR-10 Batch 4:  Loss = 0.7510949373245239, Accuracy = 0.6287997961044312\n",
      "Epoch 39, CIFAR-10 Batch 5:  Loss = 0.8099043965339661, Accuracy = 0.619399905204773\n",
      "Epoch 40, CIFAR-10 Batch 1:  Loss = 0.8227541446685791, Accuracy = 0.6369998455047607\n",
      "Epoch 40, CIFAR-10 Batch 2:  Loss = 0.7878652811050415, Accuracy = 0.6165999174118042\n",
      "Epoch 40, CIFAR-10 Batch 3:  Loss = 0.6555679440498352, Accuracy = 0.622999906539917\n",
      "Epoch 40, CIFAR-10 Batch 4:  Loss = 0.7383794784545898, Accuracy = 0.6283999681472778\n",
      "Epoch 40, CIFAR-10 Batch 5:  Loss = 0.7714510560035706, Accuracy = 0.6161998510360718\n",
      "Epoch 41, CIFAR-10 Batch 1:  Loss = 0.7774838805198669, Accuracy = 0.6367999315261841\n",
      "Epoch 41, CIFAR-10 Batch 2:  Loss = 0.8004723191261292, Accuracy = 0.621199905872345\n",
      "Epoch 41, CIFAR-10 Batch 3:  Loss = 0.6368518471717834, Accuracy = 0.6305999159812927\n",
      "Epoch 41, CIFAR-10 Batch 4:  Loss = 0.7357608675956726, Accuracy = 0.6291998624801636\n",
      "Epoch 41, CIFAR-10 Batch 5:  Loss = 0.8043431043624878, Accuracy = 0.6181999444961548\n",
      "Epoch 42, CIFAR-10 Batch 1:  Loss = 0.7583674192428589, Accuracy = 0.6257998943328857\n",
      "Epoch 42, CIFAR-10 Batch 2:  Loss = 0.7545565366744995, Accuracy = 0.6263998746871948\n",
      "Epoch 42, CIFAR-10 Batch 3:  Loss = 0.641076922416687, Accuracy = 0.6205999255180359\n",
      "Epoch 42, CIFAR-10 Batch 4:  Loss = 0.6916472315788269, Accuracy = 0.6385998725891113\n",
      "Epoch 42, CIFAR-10 Batch 5:  Loss = 0.7628767490386963, Accuracy = 0.6243999600410461\n",
      "Epoch 43, CIFAR-10 Batch 1:  Loss = 0.7802451848983765, Accuracy = 0.6275998950004578\n",
      "Epoch 43, CIFAR-10 Batch 2:  Loss = 0.7451184391975403, Accuracy = 0.630599856376648\n",
      "Epoch 43, CIFAR-10 Batch 3:  Loss = 0.6359312534332275, Accuracy = 0.6205998659133911\n",
      "Epoch 43, CIFAR-10 Batch 4:  Loss = 0.693918764591217, Accuracy = 0.6333998441696167\n",
      "Epoch 43, CIFAR-10 Batch 5:  Loss = 0.7084177732467651, Accuracy = 0.6379998922348022\n",
      "Epoch 44, CIFAR-10 Batch 1:  Loss = 0.7480114102363586, Accuracy = 0.6287998557090759\n",
      "Epoch 44, CIFAR-10 Batch 2:  Loss = 0.7250418066978455, Accuracy = 0.6325998902320862\n",
      "Epoch 44, CIFAR-10 Batch 3:  Loss = 0.6285195350646973, Accuracy = 0.6343998908996582\n",
      "Epoch 44, CIFAR-10 Batch 4:  Loss = 0.7129408121109009, Accuracy = 0.6219999194145203\n",
      "Epoch 44, CIFAR-10 Batch 5:  Loss = 0.7278602123260498, Accuracy = 0.6301999092102051\n",
      "Epoch 45, CIFAR-10 Batch 1:  Loss = 0.7510813474655151, Accuracy = 0.6269998550415039\n",
      "Epoch 45, CIFAR-10 Batch 2:  Loss = 0.759433925151825, Accuracy = 0.6239998936653137\n",
      "Epoch 45, CIFAR-10 Batch 3:  Loss = 0.633842945098877, Accuracy = 0.6301999092102051\n",
      "Epoch 45, CIFAR-10 Batch 4:  Loss = 0.6847563982009888, Accuracy = 0.637199878692627\n",
      "Epoch 45, CIFAR-10 Batch 5:  Loss = 0.6994528770446777, Accuracy = 0.6335998773574829\n",
      "Epoch 46, CIFAR-10 Batch 1:  Loss = 0.7912064790725708, Accuracy = 0.6329998970031738\n",
      "Epoch 46, CIFAR-10 Batch 2:  Loss = 0.7255117893218994, Accuracy = 0.6305999159812927\n",
      "Epoch 46, CIFAR-10 Batch 3:  Loss = 0.6292417049407959, Accuracy = 0.6289998888969421\n",
      "Epoch 46, CIFAR-10 Batch 4:  Loss = 0.6816888451576233, Accuracy = 0.638999879360199\n",
      "Epoch 46, CIFAR-10 Batch 5:  Loss = 0.6900197863578796, Accuracy = 0.6319999098777771\n",
      "Epoch 47, CIFAR-10 Batch 1:  Loss = 0.7194080352783203, Accuracy = 0.6267998814582825\n",
      "Epoch 47, CIFAR-10 Batch 2:  Loss = 0.6668579578399658, Accuracy = 0.6293998956680298\n",
      "Epoch 47, CIFAR-10 Batch 3:  Loss = 0.6530475616455078, Accuracy = 0.6335998177528381\n",
      "Epoch 47, CIFAR-10 Batch 4:  Loss = 0.648523211479187, Accuracy = 0.642599880695343\n",
      "Epoch 47, CIFAR-10 Batch 5:  Loss = 0.6698004007339478, Accuracy = 0.6305999159812927\n",
      "Epoch 48, CIFAR-10 Batch 1:  Loss = 0.719749391078949, Accuracy = 0.638999879360199\n",
      "Epoch 48, CIFAR-10 Batch 2:  Loss = 0.7018988132476807, Accuracy = 0.6341999173164368\n",
      "Epoch 48, CIFAR-10 Batch 3:  Loss = 0.6592642068862915, Accuracy = 0.6381999254226685\n",
      "Epoch 48, CIFAR-10 Batch 4:  Loss = 0.6546809673309326, Accuracy = 0.6431998610496521\n",
      "Epoch 48, CIFAR-10 Batch 5:  Loss = 0.695078432559967, Accuracy = 0.6445999145507812\n",
      "Epoch 49, CIFAR-10 Batch 1:  Loss = 0.7125470638275146, Accuracy = 0.6367998719215393\n",
      "Epoch 49, CIFAR-10 Batch 2:  Loss = 0.6759424805641174, Accuracy = 0.619999885559082\n",
      "Epoch 49, CIFAR-10 Batch 3:  Loss = 0.6111437082290649, Accuracy = 0.637199878692627\n",
      "Epoch 49, CIFAR-10 Batch 4:  Loss = 0.6475214958190918, Accuracy = 0.6421999335289001\n",
      "Epoch 49, CIFAR-10 Batch 5:  Loss = 0.6820594072341919, Accuracy = 0.6299999356269836\n",
      "Epoch 50, CIFAR-10 Batch 1:  Loss = 0.7202993631362915, Accuracy = 0.6351999044418335\n",
      "Epoch 50, CIFAR-10 Batch 2:  Loss = 0.6444224715232849, Accuracy = 0.6465999484062195\n",
      "Epoch 50, CIFAR-10 Batch 3:  Loss = 0.589064359664917, Accuracy = 0.6319999098777771\n",
      "Epoch 50, CIFAR-10 Batch 4:  Loss = 0.6227620840072632, Accuracy = 0.6383998990058899\n",
      "Epoch 50, CIFAR-10 Batch 5:  Loss = 0.6611202955245972, Accuracy = 0.6437998414039612\n"
     ]
    }
   ],
   "source": [
    "\"\"\"\n",
    "DON'T MODIFY ANYTHING IN THIS CELL\n",
    "\"\"\"\n",
    "save_model_path = './image_classification'\n",
    "\n",
    "print('Training...')\n",
    "with tf.Session() as sess:\n",
    "    # Initializing the variables\n",
    "    sess.run(tf.global_variables_initializer())\n",
    "    \n",
    "    # Training cycle\n",
    "    for epoch in range(epochs):\n",
    "        # Loop over all batches\n",
    "        n_batches = 5\n",
    "        for batch_i in range(1, n_batches + 1):\n",
    "            for batch_features, batch_labels in helper.load_preprocess_training_batch(batch_i, batch_size):\n",
    "                train_neural_network(sess, optimizer, keep_probability, batch_features, batch_labels)\n",
    "            print('Epoch {:>2}, CIFAR-10 Batch {}:  '.format(epoch + 1, batch_i), end='')\n",
    "            print_stats(sess, batch_features, batch_labels, cost, accuracy)\n",
    "            \n",
    "    # Save Model\n",
    "    saver = tf.train.Saver()\n",
    "    save_path = saver.save(sess, save_model_path)"
   ]
  },
  {
   "cell_type": "markdown",
   "metadata": {
    "deletable": true,
    "editable": true
   },
   "source": [
    "# Checkpoint\n",
    "The model has been saved to disk.\n",
    "## Test Model\n",
    "Test your model against the test dataset.  This will be your final accuracy. You should have an accuracy greater than 50%. If you don't, keep tweaking the model architecture and parameters."
   ]
  },
  {
   "cell_type": "code",
   "execution_count": 61,
   "metadata": {
    "collapsed": false,
    "deletable": true,
    "editable": true
   },
   "outputs": [
    {
     "name": "stdout",
     "output_type": "stream",
     "text": [
      "Testing Accuracy: 0.6446058917197452\n",
      "\n"
     ]
    },
    {
     "data": {
      "image/png": "[encoded data removed]",
      "text/plain": [
       "<matplotlib.figure.Figure at 0x7f3189162f60>"
      ]
     },
     "metadata": {
      "image/png": {
       "height": 319,
       "width": 355
      }
     },
     "output_type": "display_data"
    }
   ],
   "source": [
    "\"\"\"\n",
    "DON'T MODIFY ANYTHING IN THIS CELL\n",
    "\"\"\"\n",
    "%matplotlib inline\n",
    "%config InlineBackend.figure_format = 'retina'\n",
    "\n",
    "import tensorflow as tf\n",
    "import pickle\n",
    "import helper\n",
    "import random\n",
    "\n",
    "# Set batch size if not already set\n",
    "try:\n",
    "    if batch_size:\n",
    "        pass\n",
    "except NameError:\n",
    "    batch_size = 64\n",
    "\n",
    "save_model_path = './image_classification'\n",
    "n_samples = 4\n",
    "top_n_predictions = 3\n",
    "\n",
    "def test_model():\n",
    "    \"\"\"\n",
    "    Test the saved model against the test dataset\n",
    "    \"\"\"\n",
    "\n",
    "    test_features, test_labels = pickle.load(open('preprocess_test.p', mode='rb'))\n",
    "    loaded_graph = tf.Graph()\n",
    "\n",
    "    with tf.Session(graph=loaded_graph) as sess:\n",
    "        # Load model\n",
    "        loader = tf.train.import_meta_graph(save_model_path + '.meta')\n",
    "        loader.restore(sess, save_model_path)\n",
    "\n",
    "        # Get Tensors from loaded model\n",
    "        loaded_x = loaded_graph.get_tensor_by_name('x:0')\n",
    "        loaded_y = loaded_graph.get_tensor_by_name('y:0')\n",
    "        loaded_keep_prob = loaded_graph.get_tensor_by_name('keep_prob:0')\n",
    "        loaded_logits = loaded_graph.get_tensor_by_name('logits:0')\n",
    "        loaded_acc = loaded_graph.get_tensor_by_name('accuracy:0')\n",
    "        \n",
    "        # Get accuracy in batches for memory limitations\n",
    "        test_batch_acc_total = 0\n",
    "        test_batch_count = 0\n",
    "        \n",
    "        for test_feature_batch, test_label_batch in helper.batch_features_labels(test_features, test_labels, batch_size):\n",
    "            test_batch_acc_total += sess.run(\n",
    "                loaded_acc,\n",
    "                feed_dict={loaded_x: test_feature_batch, loaded_y: test_label_batch, loaded_keep_prob: 1.0})\n",
    "            test_batch_count += 1\n",
    "\n",
    "        print('Testing Accuracy: {}\\n'.format(test_batch_acc_total/test_batch_count))\n",
    "\n",
    "        # Print Random Samples\n",
    "        random_test_features, random_test_labels = tuple(zip(*random.sample(list(zip(test_features, test_labels)), n_samples)))\n",
    "        random_test_predictions = sess.run(\n",
    "            tf.nn.top_k(tf.nn.softmax(loaded_logits), top_n_predictions),\n",
    "            feed_dict={loaded_x: random_test_features, loaded_y: random_test_labels, loaded_keep_prob: 1.0})\n",
    "        helper.display_image_predictions(random_test_features, random_test_labels, random_test_predictions)\n",
    "\n",
    "\n",
    "test_model()"
   ]
  },
  {
   "cell_type": "markdown",
   "metadata": {
    "deletable": true,
    "editable": true
   },
   "source": [
    "## Why 50-80% Accuracy?\n",
    "You might be wondering why you can't get an accuracy any higher. First things first, 50% isn't bad for a simple CNN.  Pure guessing would get you 10% accuracy. However, you might notice people are getting scores [well above 80%](http://rodrigob.github.io/are_we_there_yet/build/classification_datasets_results.html#43494641522d3130).  That's because we haven't taught you all there is to know about neural networks. We still need to cover a few more techniques.\n",
    "## Submitting This Project\n",
    "When submitting this project, make sure to run all the cells before saving the notebook.  Save the notebook file as \"dlnd_image_classification.ipynb\" and save it as a HTML file under \"File\" -> \"Download as\".  Include the \"helper.py\" and \"problem_unittests.py\" files in your submission."
   ]
  }
 ],
 "metadata": {
  "kernelspec": {
   "display_name": "Python 3",
   "language": "python",
   "name": "python3"
  },
  "language_info": {
   "codemirror_mode": {
    "name": "ipython",
    "version": 3
   },
   "file_extension": ".py",
   "mimetype": "text/x-python",
   "name": "python",
   "nbconvert_exporter": "python",
   "pygments_lexer": "ipython3",
   "version": "3.5.2"
  },
  "widgets": {
   "state": {},
   "version": "1.1.2"
  }
 },
 "nbformat": 4,
 "nbformat_minor": 0
}

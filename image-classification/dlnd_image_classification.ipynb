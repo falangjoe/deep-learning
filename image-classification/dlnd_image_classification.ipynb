{
 "cells": [
  {
   "cell_type": "markdown",
   "metadata": {
    "collapsed": true,
    "deletable": true,
    "editable": true
   },
   "source": [
    "# Image Classification\n",
    "In this project, you'll classify images from the [CIFAR-10 dataset](https://www.cs.toronto.edu/~kriz/cifar.html).  The dataset consists of airplanes, dogs, cats, and other objects. You'll preprocess the images, then train a convolutional neural network on all the samples. The images need to be normalized and the labels need to be one-hot encoded.  You'll get to apply what you learned and build a convolutional, max pooling, dropout, and fully connected layers.  At the end, you'll get to see your neural network's predictions on the sample images.\n",
    "## Get the Data\n",
    "Run the following cell to download the [CIFAR-10 dataset for python](https://www.cs.toronto.edu/~kriz/cifar-10-python.tar.gz)."
   ]
  },
  {
   "cell_type": "code",
   "execution_count": 1,
   "metadata": {
    "collapsed": false,
    "deletable": true,
    "editable": true
   },
   "outputs": [
    {
     "name": "stderr",
     "output_type": "stream",
     "text": [
      "CIFAR-10 Dataset: 171MB [00:30, 5.57MB/s]                              \n"
     ]
    },
    {
     "name": "stdout",
     "output_type": "stream",
     "text": [
      "All files found!\n"
     ]
    }
   ],
   "source": [
    "\"\"\"\n",
    "DON'T MODIFY ANYTHING IN THIS CELL THAT IS BELOW THIS LINE\n",
    "\"\"\"\n",
    "from urllib.request import urlretrieve\n",
    "from os.path import isfile, isdir\n",
    "from tqdm import tqdm\n",
    "import problem_unittests as tests\n",
    "import tarfile\n",
    "\n",
    "cifar10_dataset_folder_path = 'cifar-10-batches-py'\n",
    "\n",
    "# Use Floyd's cifar-10 dataset if present\n",
    "floyd_cifar10_location = '/input/cifar-10/python.tar.gz'\n",
    "if isfile(floyd_cifar10_location):\n",
    "    tar_gz_path = floyd_cifar10_location\n",
    "else:\n",
    "    tar_gz_path = 'cifar-10-python.tar.gz'\n",
    "\n",
    "class DLProgress(tqdm):\n",
    "    last_block = 0\n",
    "\n",
    "    def hook(self, block_num=1, block_size=1, total_size=None):\n",
    "        self.total = total_size\n",
    "        self.update((block_num - self.last_block) * block_size)\n",
    "        self.last_block = block_num\n",
    "\n",
    "if not isfile(tar_gz_path):\n",
    "    with DLProgress(unit='B', unit_scale=True, miniters=1, desc='CIFAR-10 Dataset') as pbar:\n",
    "        urlretrieve(\n",
    "            'https://www.cs.toronto.edu/~kriz/cifar-10-python.tar.gz',\n",
    "            tar_gz_path,\n",
    "            pbar.hook)\n",
    "\n",
    "if not isdir(cifar10_dataset_folder_path):\n",
    "    with tarfile.open(tar_gz_path) as tar:\n",
    "        tar.extractall()\n",
    "        tar.close()\n",
    "\n",
    "\n",
    "tests.test_folder_path(cifar10_dataset_folder_path)"
   ]
  },
  {
   "cell_type": "markdown",
   "metadata": {
    "deletable": true,
    "editable": true
   },
   "source": [
    "## Explore the Data\n",
    "The dataset is broken into batches to prevent your machine from running out of memory.  The CIFAR-10 dataset consists of 5 batches, named `data_batch_1`, `data_batch_2`, etc.. Each batch contains the labels and images that are one of the following:\n",
    "* airplane\n",
    "* automobile\n",
    "* bird\n",
    "* cat\n",
    "* deer\n",
    "* dog\n",
    "* frog\n",
    "* horse\n",
    "* ship\n",
    "* truck\n",
    "\n",
    "Understanding a dataset is part of making predictions on the data.  Play around with the code cell below by changing the `batch_id` and `sample_id`. The `batch_id` is the id for a batch (1-5). The `sample_id` is the id for a image and label pair in the batch.\n",
    "\n",
    "Ask yourself \"What are all possible labels?\", \"What is the range of values for the image data?\", \"Are the labels in order or random?\".  Answers to questions like these will help you preprocess the data and end up with better predictions."
   ]
  },
  {
   "cell_type": "code",
   "execution_count": 6,
   "metadata": {
    "collapsed": false,
    "deletable": true,
    "editable": true
   },
   "outputs": [
    {
     "ename": "NameError",
     "evalue": "name 'cifar10_dataset_folder_path' is not defined",
     "output_type": "error",
     "traceback": [
      "\u001b[0;31m---------------------------------------------------------------------------\u001b[0m",
      "\u001b[0;31mNameError\u001b[0m                                 Traceback (most recent call last)",
      "\u001b[0;32m<ipython-input-6-4415652c5083>\u001b[0m in \u001b[0;36m<module>\u001b[0;34m()\u001b[0m\n\u001b[1;32m      8\u001b[0m \u001b[0mbatch_id\u001b[0m \u001b[0;34m=\u001b[0m \u001b[0;36m1\u001b[0m\u001b[0;34m\u001b[0m\u001b[0m\n\u001b[1;32m      9\u001b[0m \u001b[0msample_id\u001b[0m \u001b[0;34m=\u001b[0m \u001b[0;36m72\u001b[0m\u001b[0;34m\u001b[0m\u001b[0m\n\u001b[0;32m---> 10\u001b[0;31m \u001b[0mhelper\u001b[0m\u001b[0;34m.\u001b[0m\u001b[0mdisplay_stats\u001b[0m\u001b[0;34m(\u001b[0m\u001b[0mcifar10_dataset_folder_path\u001b[0m\u001b[0;34m,\u001b[0m \u001b[0mbatch_id\u001b[0m\u001b[0;34m,\u001b[0m \u001b[0msample_id\u001b[0m\u001b[0;34m)\u001b[0m\u001b[0;34m\u001b[0m\u001b[0m\n\u001b[0m",
      "\u001b[0;31mNameError\u001b[0m: name 'cifar10_dataset_folder_path' is not defined"
     ]
    }
   ],
   "source": [
    "%matplotlib inline\n",
    "%config InlineBackend.figure_format = 'retina'\n",
    "\n",
    "import helper\n",
    "import numpy as np\n",
    "\n",
    "# Explore the dataset\n",
    "batch_id = 1\n",
    "sample_id = 72\n",
    "helper.display_stats(cifar10_dataset_folder_path, batch_id, sample_id)"
   ]
  },
  {
   "cell_type": "markdown",
   "metadata": {
    "deletable": true,
    "editable": true
   },
   "source": [
    "## Implement Preprocess Functions\n",
    "### Normalize\n",
    "In the cell below, implement the `normalize` function to take in image data, `x`, and return it as a normalized Numpy array. The values should be in the range of 0 to 1, inclusive.  The return object should be the same shape as `x`."
   ]
  },
  {
   "cell_type": "code",
   "execution_count": 3,
   "metadata": {
    "collapsed": false,
    "deletable": true,
    "editable": true
   },
   "outputs": [
    {
     "name": "stdout",
     "output_type": "stream",
     "text": [
      "Tests Passed\n"
     ]
    }
   ],
   "source": [
    "def normalize(x):\n",
    "    \"\"\"\n",
    "    Normalize a list of sample image data in the range of 0 to 1\n",
    "    : x: List of image data.  The image shape is (32, 32, 3)\n",
    "    : return: Numpy array of normalize data\n",
    "    \"\"\"\n",
    "    return x / 255\n",
    "\n",
    "\n",
    "\"\"\"\n",
    "DON'T MODIFY ANYTHING IN THIS CELL THAT IS BELOW THIS LINE\n",
    "\"\"\"\n",
    "tests.test_normalize(normalize)"
   ]
  },
  {
   "cell_type": "markdown",
   "metadata": {
    "deletable": true,
    "editable": true
   },
   "source": [
    "### One-hot encode\n",
    "Just like the previous code cell, you'll be implementing a function for preprocessing.  This time, you'll implement the `one_hot_encode` function. The input, `x`, are a list of labels.  Implement the function to return the list of labels as One-Hot encoded Numpy array.  The possible values for labels are 0 to 9. The one-hot encoding function should return the same encoding for each value between each call to `one_hot_encode`.  Make sure to save the map of encodings outside the function.\n",
    "\n",
    "Hint: Don't reinvent the wheel."
   ]
  },
  {
   "cell_type": "code",
   "execution_count": 4,
   "metadata": {
    "collapsed": false,
    "deletable": true,
    "editable": true
   },
   "outputs": [
    {
     "name": "stdout",
     "output_type": "stream",
     "text": [
      "Tests Passed\n"
     ]
    }
   ],
   "source": [
    "from sklearn.preprocessing import OneHotEncoder\n",
    "\n",
    "label_values = list(range(len(helper._load_label_names())))\n",
    "label_encoder = OneHotEncoder()\n",
    "label_encoder.fit(np.array(label_values).reshape(-1,1))\n",
    "\n",
    "def one_hot_encode(x):\n",
    "    \"\"\"\n",
    "    One hot encode a list of sample labels. Return a one-hot encoded vector for each label.\n",
    "    : x: List of sample Labels\n",
    "    : return: Numpy array of one-hot encoded labels\n",
    "    \"\"\"\n",
    "\n",
    "    result = label_encoder.transform(np.array(x).reshape(-1,1)).toarray()\n",
    "    return result\n",
    "\n",
    "\n",
    "\"\"\"\n",
    "DON'T MODIFY ANYTHING IN THIS CELL THAT IS BELOW THIS LINE\n",
    "\"\"\"\n",
    "tests.test_one_hot_encode(one_hot_encode)"
   ]
  },
  {
   "cell_type": "markdown",
   "metadata": {
    "deletable": true,
    "editable": true
   },
   "source": [
    "### Randomize Data\n",
    "As you saw from exploring the data above, the order of the samples are randomized.  It doesn't hurt to randomize it again, but you don't need to for this dataset."
   ]
  },
  {
   "cell_type": "markdown",
   "metadata": {
    "deletable": true,
    "editable": true
   },
   "source": [
    "## Preprocess all the data and save it\n",
    "Running the code cell below will preprocess all the CIFAR-10 data and save it to file. The code below also uses 10% of the training data for validation."
   ]
  },
  {
   "cell_type": "code",
   "execution_count": 5,
   "metadata": {
    "collapsed": false,
    "deletable": true,
    "editable": true
   },
   "outputs": [],
   "source": [
    "\"\"\"\n",
    "DON'T MODIFY ANYTHING IN THIS CELL\n",
    "\"\"\"\n",
    "# Preprocess Training, Validation, and Testing Data\n",
    "helper.preprocess_and_save_data(cifar10_dataset_folder_path, normalize, one_hot_encode)"
   ]
  },
  {
   "cell_type": "markdown",
   "metadata": {
    "deletable": true,
    "editable": true
   },
   "source": [
    "# Check Point\n",
    "This is your first checkpoint.  If you ever decide to come back to this notebook or have to restart the notebook, you can start from here.  The preprocessed data has been saved to disk."
   ]
  },
  {
   "cell_type": "code",
   "execution_count": 1,
   "metadata": {
    "collapsed": true,
    "deletable": true,
    "editable": true
   },
   "outputs": [],
   "source": [
    "\"\"\"\n",
    "DON'T MODIFY ANYTHING IN THIS CELL\n",
    "\"\"\"\n",
    "import pickle\n",
    "import problem_unittests as tests\n",
    "import helper\n",
    "\n",
    "# Load the Preprocessed Validation data\n",
    "valid_features, valid_labels = pickle.load(open('preprocess_validation.p', mode='rb'))"
   ]
  },
  {
   "cell_type": "code",
   "execution_count": 2,
   "metadata": {
    "collapsed": false,
    "deletable": true,
    "editable": true
   },
   "outputs": [
    {
     "data": {
      "text/plain": [
       "(5000, 10)"
      ]
     },
     "execution_count": 2,
     "metadata": {},
     "output_type": "execute_result"
    }
   ],
   "source": [
    "valid_labels.shape"
   ]
  },
  {
   "cell_type": "markdown",
   "metadata": {
    "deletable": true,
    "editable": true
   },
   "source": [
    "## Build the network\n",
    "For the neural network, you'll build each layer into a function.  Most of the code you've seen has been outside of functions. To test your code more thoroughly, we require that you put each layer in a function.  This allows us to give you better feedback and test for simple mistakes using our unittests before you submit your project.\n",
    "\n",
    ">**Note:** If you're finding it hard to dedicate enough time for this course each week, we've provided a small shortcut to this part of the project. In the next couple of problems, you'll have the option to use classes from the [TensorFlow Layers](https://www.tensorflow.org/api_docs/python/tf/layers) or [TensorFlow Layers (contrib)](https://www.tensorflow.org/api_guides/python/contrib.layers) packages to build each layer, except the layers you build in the \"Convolutional and Max Pooling Layer\" section.  TF Layers is similar to Keras's and TFLearn's abstraction to layers, so it's easy to pickup.\n",
    "\n",
    ">However, if you would like to get the most out of this course, try to solve all the problems _without_ using anything from the TF Layers packages. You **can** still use classes from other packages that happen to have the same name as ones you find in TF Layers! For example, instead of using the TF Layers version of the `conv2d` class, [tf.layers.conv2d](https://www.tensorflow.org/api_docs/python/tf/layers/conv2d), you would want to use the TF Neural Network version of `conv2d`, [tf.nn.conv2d](https://www.tensorflow.org/api_docs/python/tf/nn/conv2d). \n",
    "\n",
    "Let's begin!\n",
    "\n",
    "### Input\n",
    "The neural network needs to read the image data, one-hot encoded labels, and dropout keep probability. Implement the following functions\n",
    "* Implement `neural_net_image_input`\n",
    " * Return a [TF Placeholder](https://www.tensorflow.org/api_docs/python/tf/placeholder)\n",
    " * Set the shape using `image_shape` with batch size set to `None`.\n",
    " * Name the TensorFlow placeholder \"x\" using the TensorFlow `name` parameter in the [TF Placeholder](https://www.tensorflow.org/api_docs/python/tf/placeholder).\n",
    "* Implement `neural_net_label_input`\n",
    " * Return a [TF Placeholder](https://www.tensorflow.org/api_docs/python/tf/placeholder)\n",
    " * Set the shape using `n_classes` with batch size set to `None`.\n",
    " * Name the TensorFlow placeholder \"y\" using the TensorFlow `name` parameter in the [TF Placeholder](https://www.tensorflow.org/api_docs/python/tf/placeholder).\n",
    "* Implement `neural_net_keep_prob_input`\n",
    " * Return a [TF Placeholder](https://www.tensorflow.org/api_docs/python/tf/placeholder) for dropout keep probability.\n",
    " * Name the TensorFlow placeholder \"keep_prob\" using the TensorFlow `name` parameter in the [TF Placeholder](https://www.tensorflow.org/api_docs/python/tf/placeholder).\n",
    "\n",
    "These names will be used at the end of the project to load your saved model.\n",
    "\n",
    "Note: `None` for shapes in TensorFlow allow for a dynamic size."
   ]
  },
  {
   "cell_type": "code",
   "execution_count": 3,
   "metadata": {
    "collapsed": false,
    "deletable": true,
    "editable": true
   },
   "outputs": [
    {
     "name": "stdout",
     "output_type": "stream",
     "text": [
      "Image Input Tests Passed.\n",
      "Label Input Tests Passed.\n",
      "Keep Prob Tests Passed.\n"
     ]
    }
   ],
   "source": [
    "import tensorflow as tf\n",
    "\n",
    "def neural_net_image_input(image_shape):\n",
    "    \"\"\"\n",
    "    Return a Tensor for a batch of image input\n",
    "    : image_shape: Shape of the images\n",
    "    : return: Tensor for image input.\n",
    "    \"\"\"\n",
    "    # TODO: Implement Function\n",
    "    # image_shape = (32, 32, 3)\n",
    "    return tf.placeholder(tf.float32, [None] + list(image_shape), name='x')\n",
    "\n",
    "\n",
    "def neural_net_label_input(n_classes):\n",
    "    \"\"\"\n",
    "    Return a Tensor for a batch of label input\n",
    "    : n_classes: Number of classes\n",
    "    : return: Tensor for label input.\n",
    "    \"\"\"\n",
    "    # TODO: Implement Function\n",
    "    return tf.placeholder(tf.float32, [None,n_classes], name='y')\n",
    "\n",
    "\n",
    "def neural_net_keep_prob_input():\n",
    "    \"\"\"\n",
    "    Return a Tensor for keep probability\n",
    "    : return: Tensor for keep probability.\n",
    "    \"\"\"\n",
    "    # TODO: Implement Function\n",
    "    return tf.placeholder(tf.float32, name='keep_prob')\n",
    "\n",
    "\n",
    "\"\"\"\n",
    "DON'T MODIFY ANYTHING IN THIS CELL THAT IS BELOW THIS LINE\n",
    "\"\"\"\n",
    "tf.reset_default_graph()\n",
    "tests.test_nn_image_inputs(neural_net_image_input)\n",
    "tests.test_nn_label_inputs(neural_net_label_input)\n",
    "tests.test_nn_keep_prob_inputs(neural_net_keep_prob_input)"
   ]
  },
  {
   "cell_type": "markdown",
   "metadata": {
    "deletable": true,
    "editable": true
   },
   "source": [
    "### Convolution and Max Pooling Layer\n",
    "Convolution layers have a lot of success with images. For this code cell, you should implement the function `conv2d_maxpool` to apply convolution then max pooling:\n",
    "* Create the weight and bias using `conv_ksize`, `conv_num_outputs` and the shape of `x_tensor`.\n",
    "* Apply a convolution to `x_tensor` using weight and `conv_strides`.\n",
    " * We recommend you use same padding, but you're welcome to use any padding.\n",
    "* Add bias\n",
    "* Add a nonlinear activation to the convolution.\n",
    "* Apply Max Pooling using `pool_ksize` and `pool_strides`.\n",
    " * We recommend you use same padding, but you're welcome to use any padding.\n",
    "\n",
    "**Note:** You **can't** use [TensorFlow Layers](https://www.tensorflow.org/api_docs/python/tf/layers) or [TensorFlow Layers (contrib)](https://www.tensorflow.org/api_guides/python/contrib.layers) for **this** layer, but you can still use TensorFlow's [Neural Network](https://www.tensorflow.org/api_docs/python/tf/nn) package. You may still use the shortcut option for all the **other** layers."
   ]
  },
  {
   "cell_type": "code",
   "execution_count": 4,
   "metadata": {
    "collapsed": false,
    "deletable": true,
    "editable": true
   },
   "outputs": [
    {
     "name": "stdout",
     "output_type": "stream",
     "text": [
      "Tests Passed\n"
     ]
    }
   ],
   "source": [
    "def conv2d_maxpool(x_tensor, conv_num_outputs, conv_ksize, conv_strides, pool_ksize, pool_strides):\n",
    "    \"\"\"\n",
    "    Apply convolution then max pooling to x_tensor\n",
    "    :param x_tensor: TensorFlow Tensor\n",
    "    :param conv_num_outputs: Number of outputs for the convolutional layer\n",
    "    :param conv_ksize: kernal size 2-D Tuple for the convolutional layer\n",
    "    :param conv_strides: Stride 2-D Tuple for convolution\n",
    "    :param pool_ksize: kernal size 2-D Tuple for pool\n",
    "    :param pool_strides: Stride 2-D Tuple for pool\n",
    "    : return: A tensor that represents convolution and max pooling of x_tensor\n",
    "    \"\"\"\n",
    "    # TODO: Implement Function\n",
    "    \n",
    "    image_shape = x_tensor.get_shape().as_list()[1:]\n",
    "    \n",
    "    color_channels = image_shape[2]\n",
    "\n",
    "    weights = tf.Variable(tf.truncated_normal([conv_ksize[0],conv_ksize[1],color_channels,conv_num_outputs]))\n",
    "    bias = tf.Variable(tf.truncated_normal([conv_num_outputs]))\n",
    "    \n",
    "    result = tf.nn.conv2d(x_tensor, weights, strides= [1,conv_strides[0],conv_strides[1],1],padding='SAME')\n",
    "    result = tf.nn.bias_add(result,bias)\n",
    "    result = tf.nn.relu(result)\n",
    "    result = tf.nn.max_pool(\n",
    "        result,\n",
    "        ksize=[1,pool_ksize[0],pool_ksize[1],1],\n",
    "        strides = [1,pool_strides[0],pool_strides[1],1],\n",
    "        padding='SAME')\n",
    "    return result \n",
    "\n",
    "\n",
    "\"\"\"\n",
    "DON'T MODIFY ANYTHING IN THIS CELL THAT IS BELOW THIS LINE\n",
    "\"\"\"\n",
    "tests.test_con_pool(conv2d_maxpool)"
   ]
  },
  {
   "cell_type": "markdown",
   "metadata": {
    "deletable": true,
    "editable": true
   },
   "source": [
    "### Flatten Layer\n",
    "Implement the `flatten` function to change the dimension of `x_tensor` from a 4-D tensor to a 2-D tensor.  The output should be the shape (*Batch Size*, *Flattened Image Size*). Shortcut option: you can use classes from the [TensorFlow Layers](https://www.tensorflow.org/api_docs/python/tf/layers) or [TensorFlow Layers (contrib)](https://www.tensorflow.org/api_guides/python/contrib.layers) packages for this layer. For more of a challenge, only use other TensorFlow packages."
   ]
  },
  {
   "cell_type": "code",
   "execution_count": 5,
   "metadata": {
    "collapsed": false,
    "deletable": true,
    "editable": true
   },
   "outputs": [
    {
     "name": "stdout",
     "output_type": "stream",
     "text": [
      "Tests Passed\n"
     ]
    }
   ],
   "source": [
    "import numpy as np\n",
    "\n",
    "def flatten(x_tensor):\n",
    "    \"\"\"\n",
    "    Flatten x_tensor to (Batch Size, Flattened Image Size)\n",
    "    : x_tensor: A tensor of size (Batch Size, ...), where ... are the image dimensions.\n",
    "    : return: A tensor of size (Batch Size, Flattened Image Size).\n",
    "    \"\"\"\n",
    "    # TODO: Implement Function\n",
    "    feature_shape = x_tensor.get_shape().as_list()[1:]\n",
    "    feature_size = np.prod(feature_shape)\n",
    "    \n",
    "\n",
    "    result = tf.reshape(x_tensor,[-1,feature_size])\n",
    "    \n",
    "    return result\n",
    "\n",
    "\n",
    "\"\"\"\n",
    "DON'T MODIFY ANYTHING IN THIS CELL THAT IS BELOW THIS LINE\n",
    "\"\"\"\n",
    "tests.test_flatten(flatten)"
   ]
  },
  {
   "cell_type": "markdown",
   "metadata": {
    "deletable": true,
    "editable": true
   },
   "source": [
    "### Fully-Connected Layer\n",
    "Implement the `fully_conn` function to apply a fully connected layer to `x_tensor` with the shape (*Batch Size*, *num_outputs*). Shortcut option: you can use classes from the [TensorFlow Layers](https://www.tensorflow.org/api_docs/python/tf/layers) or [TensorFlow Layers (contrib)](https://www.tensorflow.org/api_guides/python/contrib.layers) packages for this layer. For more of a challenge, only use other TensorFlow packages."
   ]
  },
  {
   "cell_type": "code",
   "execution_count": 6,
   "metadata": {
    "collapsed": false,
    "deletable": true,
    "editable": true
   },
   "outputs": [
    {
     "name": "stdout",
     "output_type": "stream",
     "text": [
      "Tests Passed\n"
     ]
    }
   ],
   "source": [
    "def fully_conn(x_tensor, num_outputs):\n",
    "    \"\"\"\n",
    "    Apply a fully connected layer to x_tensor using weight and bias\n",
    "    : x_tensor: A 2-D tensor where the first dimension is batch size.\n",
    "    : num_outputs: The number of output that the new tensor should be.\n",
    "    : return: A 2-D tensor where the second dimension is num_outputs.\n",
    "    \"\"\"\n",
    "    # TODO: Implement Function\n",
    "    feature_shape = x_tensor.get_shape().as_list()[1:]\n",
    "\n",
    "    weights = tf.Variable(tf.truncated_normal(feature_shape + [num_outputs]))\n",
    "    bias = tf.Variable(tf.truncated_normal([num_outputs]))\n",
    "\n",
    "    result = tf.add(tf.matmul(x_tensor,weights),bias)\n",
    "\n",
    "    return result\n",
    "\n",
    "\n",
    "\"\"\"\n",
    "DON'T MODIFY ANYTHING IN THIS CELL THAT IS BELOW THIS LINE\n",
    "\"\"\"\n",
    "tests.test_fully_conn(fully_conn)"
   ]
  },
  {
   "cell_type": "markdown",
   "metadata": {
    "deletable": true,
    "editable": true
   },
   "source": [
    "### Output Layer\n",
    "Implement the `output` function to apply a fully connected layer to `x_tensor` with the shape (*Batch Size*, *num_outputs*). Shortcut option: you can use classes from the [TensorFlow Layers](https://www.tensorflow.org/api_docs/python/tf/layers) or [TensorFlow Layers (contrib)](https://www.tensorflow.org/api_guides/python/contrib.layers) packages for this layer. For more of a challenge, only use other TensorFlow packages.\n",
    "\n",
    "**Note:** Activation, softmax, or cross entropy should **not** be applied to this."
   ]
  },
  {
   "cell_type": "code",
   "execution_count": 7,
   "metadata": {
    "collapsed": false,
    "deletable": true,
    "editable": true
   },
   "outputs": [
    {
     "name": "stdout",
     "output_type": "stream",
     "text": [
      "Tests Passed\n"
     ]
    }
   ],
   "source": [
    "def output(x_tensor, num_outputs):\n",
    "    \"\"\"\n",
    "    Apply a output layer to x_tensor using weight and bias\n",
    "    : x_tensor: A 2-D tensor where the first dimension is batch size.\n",
    "    : num_outputs: The number of output that the new tensor should be.\n",
    "    : return: A 2-D tensor where the second dimension is num_outputs.\n",
    "    \"\"\"\n",
    "    # TODO: Implement Function\n",
    "    feature_shape = x_tensor.get_shape().as_list()[1:]\n",
    "\n",
    "    weights = tf.Variable(tf.truncated_normal(feature_shape + [num_outputs]))\n",
    "    bias = tf.Variable(tf.truncated_normal([num_outputs]))\n",
    "\n",
    "    result = tf.add(tf.matmul(x_tensor,weights),bias)\n",
    "    return result\n",
    "\n",
    "\n",
    "\"\"\"\n",
    "DON'T MODIFY ANYTHING IN THIS CELL THAT IS BELOW THIS LINE\n",
    "\"\"\"\n",
    "tests.test_output(output)"
   ]
  },
  {
   "cell_type": "markdown",
   "metadata": {
    "deletable": true,
    "editable": true
   },
   "source": [
    "### Create Convolutional Model\n",
    "Implement the function `conv_net` to create a convolutional neural network model. The function takes in a batch of images, `x`, and outputs logits.  Use the layers you created above to create this model:\n",
    "\n",
    "* Apply 1, 2, or 3 Convolution and Max Pool layers\n",
    "* Apply a Flatten Layer\n",
    "* Apply 1, 2, or 3 Fully Connected Layers\n",
    "* Apply an Output Layer\n",
    "* Return the output\n",
    "* Apply [TensorFlow's Dropout](https://www.tensorflow.org/api_docs/python/tf/nn/dropout) to one or more layers in the model using `keep_prob`. "
   ]
  },
  {
   "cell_type": "code",
   "execution_count": 8,
   "metadata": {
    "collapsed": false,
    "deletable": true,
    "editable": true
   },
   "outputs": [
    {
     "name": "stdout",
     "output_type": "stream",
     "text": [
      "Neural Network Built!\n"
     ]
    }
   ],
   "source": [
    "def conv_net(x, keep_prob):\n",
    "    \"\"\"\n",
    "    Create a convolutional neural network model\n",
    "    : x: Placeholder tensor that holds image data.\n",
    "    : keep_prob: Placeholder tensor that hold dropout keep probability.\n",
    "    : return: Tensor that represents logits\n",
    "    \"\"\"\n",
    "    # TODO: Apply 1, 2, or 3 Convolution and Max Pool layers\n",
    "    #    Play around with different number of outputs, kernel size and stride\n",
    "    # Function Definition from Above:\n",
    "    #conv2d_maxpool(x_tensor, conv_num_outputs, conv_ksize, conv_strides, pool_ksize, pool_strides)\n",
    "    result = conv2d_maxpool(x, 32 , conv_ksize = (5,5), conv_strides = (1,1), pool_ksize = (2,2), pool_strides = (2,2))\n",
    "    result = conv2d_maxpool(x, 64 , conv_ksize = (5,5), conv_strides = (1,1), pool_ksize = (2,2), pool_strides = (2,2))\n",
    "   \n",
    "    \n",
    "    # TODO: Apply a Flatten Layer\n",
    "    # Function Definition from Above:\n",
    "    #   flatten(x_tensor)\n",
    "    \n",
    "    result = flatten(result)\n",
    "\n",
    "    # TODO: Apply 1, 2, or 3 Fully Connected Layers\n",
    "    #    Play around with different number of outputs\n",
    "    # Function Definition from Above:\n",
    "    #   fully_conn(x_tensor, num_outputs)\n",
    "    \n",
    "    result = fully_conn(result, num_outputs= 1024)\n",
    "    result = tf.nn.relu(result)\n",
    "    result = tf.nn.dropout(result,keep_prob)\n",
    "    \n",
    "    # TODO: Apply an Output Layer\n",
    "    #    Set this to the number of classes\n",
    "    # Function Definition from Above:\n",
    "    #   output(x_tensor, num_outputs)\n",
    "    \n",
    "    result = output(result,10)\n",
    "    \n",
    "    # TODO: return output\n",
    "    return result\n",
    "\n",
    "\n",
    "\"\"\"\n",
    "DON'T MODIFY ANYTHING IN THIS CELL THAT IS BELOW THIS LINE\n",
    "\"\"\"\n",
    "\n",
    "##############################\n",
    "## Build the Neural Network ##\n",
    "##############################\n",
    "\n",
    "# Remove previous weights, bias, inputs, etc..\n",
    "tf.reset_default_graph()\n",
    "\n",
    "# Inputs\n",
    "x = neural_net_image_input((32, 32, 3))\n",
    "y = neural_net_label_input(10)\n",
    "keep_prob = neural_net_keep_prob_input()\n",
    "\n",
    "# Model\n",
    "logits = conv_net(x, keep_prob)\n",
    "\n",
    "# Name logits Tensor, so that is can be loaded from disk after training\n",
    "logits = tf.identity(logits, name='logits')\n",
    "\n",
    "# Loss and Optimizer\n",
    "cost = tf.reduce_mean(tf.nn.softmax_cross_entropy_with_logits(logits=logits, labels=y))\n",
    "#optimizer = tf.train.GradientDescentOptimizer(learning_rate=0.00001).minimize(cost)\n",
    "optimizer = tf.train.AdamOptimizer().minimize(cost)\n",
    "\n",
    "# Accuracy\n",
    "correct_pred = tf.equal(tf.argmax(logits, 1), tf.argmax(y, 1))\n",
    "accuracy = tf.reduce_mean(tf.cast(correct_pred, tf.float32), name='accuracy')\n",
    "\n",
    "tests.test_conv_net(conv_net)"
   ]
  },
  {
   "cell_type": "markdown",
   "metadata": {
    "deletable": true,
    "editable": true
   },
   "source": [
    "## Train the Neural Network\n",
    "### Single Optimization\n",
    "Implement the function `train_neural_network` to do a single optimization.  The optimization should use `optimizer` to optimize in `session` with a `feed_dict` of the following:\n",
    "* `x` for image input\n",
    "* `y` for labels\n",
    "* `keep_prob` for keep probability for dropout\n",
    "\n",
    "This function will be called for each batch, so `tf.global_variables_initializer()` has already been called.\n",
    "\n",
    "Note: Nothing needs to be returned. This function is only optimizing the neural network."
   ]
  },
  {
   "cell_type": "code",
   "execution_count": 9,
   "metadata": {
    "collapsed": false,
    "deletable": true,
    "editable": true
   },
   "outputs": [
    {
     "name": "stdout",
     "output_type": "stream",
     "text": [
      "Tests Passed\n"
     ]
    }
   ],
   "source": [
    "def train_neural_network(session, optimizer, keep_probability, feature_batch, label_batch):\n",
    "    \"\"\"\n",
    "    Optimize the session on a batch of images and labels\n",
    "    : session: Current TensorFlow session\n",
    "    : optimizer: TensorFlow optimizer function\n",
    "    : keep_probability: keep probability\n",
    "    : feature_batch: Batch of Numpy image data\n",
    "    : label_batch: Batch of Numpy label data\n",
    "    \"\"\"\n",
    "    # TODO: Implement Function\n",
    "    session.run(optimizer, feed_dict={x: feature_batch, y: label_batch, keep_prob: keep_probability})\n",
    "\n",
    "\n",
    "\"\"\"\n",
    "DON'T MODIFY ANYTHING IN THIS CELL THAT IS BELOW THIS LINE\n",
    "\"\"\"\n",
    "tests.test_train_nn(train_neural_network)"
   ]
  },
  {
   "cell_type": "markdown",
   "metadata": {
    "deletable": true,
    "editable": true
   },
   "source": [
    "### Show Stats\n",
    "Implement the function `print_stats` to print loss and validation accuracy.  Use the global variables `valid_features` and `valid_labels` to calculate validation accuracy.  Use a keep probability of `1.0` to calculate the loss and validation accuracy."
   ]
  },
  {
   "cell_type": "code",
   "execution_count": 10,
   "metadata": {
    "collapsed": false,
    "deletable": true,
    "editable": true
   },
   "outputs": [],
   "source": [
    "def print_stats(session, feature_batch, label_batch, cost, accuracy):\n",
    "    \"\"\"\n",
    "    Print information about loss and validation accuracy\n",
    "    : session: Current TensorFlow session\n",
    "    : feature_batch: Batch of Numpy image data\n",
    "    : label_batch: Batch of Numpy label data\n",
    "    : cost: TensorFlow cost function\n",
    "    : accuracy: TensorFlow accuracy function\n",
    "    \"\"\"\n",
    "    # TODO: Implement Function\n",
    "    c = session.run(cost, feed_dict={x: feature_batch, y: label_batch, keep_prob: 1.0})\n",
    "    a = session.run(accuracy, feed_dict={x: valid_features, y: valid_labels, keep_prob: 1.0})\n",
    "    print('Loss = {0}, Accuracy = {1}'.format(c,a))"
   ]
  },
  {
   "cell_type": "markdown",
   "metadata": {
    "deletable": true,
    "editable": true
   },
   "source": [
    "### Hyperparameters\n",
    "Tune the following parameters:\n",
    "* Set `epochs` to the number of iterations until the network stops learning or start overfitting\n",
    "* Set `batch_size` to the highest number that your machine has memory for.  Most people set them to common sizes of memory:\n",
    " * 64\n",
    " * 128\n",
    " * 256\n",
    " * ...\n",
    "* Set `keep_probability` to the probability of keeping a node using dropout"
   ]
  },
  {
   "cell_type": "code",
   "execution_count": 11,
   "metadata": {
    "collapsed": true,
    "deletable": true,
    "editable": true
   },
   "outputs": [],
   "source": [
    "# TODO: Tune Parameters\n",
    "epochs = 20\n",
    "batch_size = 64\n",
    "keep_probability = 1"
   ]
  },
  {
   "cell_type": "markdown",
   "metadata": {
    "deletable": true,
    "editable": true
   },
   "source": [
    "### Train on a Single CIFAR-10 Batch\n",
    "Instead of training the neural network on all the CIFAR-10 batches of data, let's use a single batch. This should save time while you iterate on the model to get a better accuracy.  Once the final validation accuracy is 50% or greater, run the model on all the data in the next section."
   ]
  },
  {
   "cell_type": "code",
   "execution_count": 12,
   "metadata": {
    "collapsed": false,
    "deletable": true,
    "editable": true
   },
   "outputs": [
    {
     "name": "stdout",
     "output_type": "stream",
     "text": [
      "Checking the Training on a Single Batch...\n",
      "Epoch  1, CIFAR-10 Batch 1:  Loss = 1515.786865234375, Accuracy = 0.2531999945640564\n",
      "Epoch  2, CIFAR-10 Batch 1:  Loss = 880.3887939453125, Accuracy = 0.3189999461174011\n",
      "Epoch  3, CIFAR-10 Batch 1:  Loss = 775.4522705078125, Accuracy = 0.3205999732017517\n",
      "Epoch  4, CIFAR-10 Batch 1:  Loss = 543.6530151367188, Accuracy = 0.34699997305870056\n",
      "Epoch  5, CIFAR-10 Batch 1:  Loss = 482.6440124511719, Accuracy = 0.3511999845504761\n",
      "Epoch  6, CIFAR-10 Batch 1:  Loss = 346.48248291015625, Accuracy = 0.38759997487068176\n",
      "Epoch  7, CIFAR-10 Batch 1:  Loss = 407.1438293457031, Accuracy = 0.37379997968673706\n",
      "Epoch  8, CIFAR-10 Batch 1:  Loss = 289.119384765625, Accuracy = 0.3903999924659729\n",
      "Epoch  9, CIFAR-10 Batch 1:  Loss = 219.56967163085938, Accuracy = 0.37379997968673706\n",
      "Epoch 10, CIFAR-10 Batch 1:  Loss = 125.27912139892578, Accuracy = 0.43279996514320374\n",
      "Epoch 11, CIFAR-10 Batch 1:  Loss = 104.82235717773438, Accuracy = 0.40639999508857727\n",
      "Epoch 12, CIFAR-10 Batch 1:  Loss = 150.78665161132812, Accuracy = 0.4155999720096588\n",
      "Epoch 13, CIFAR-10 Batch 1:  Loss = 89.101806640625, Accuracy = 0.4347999691963196\n",
      "Epoch 14, CIFAR-10 Batch 1:  Loss = 68.68173217773438, Accuracy = 0.4357999563217163\n",
      "Epoch 15, CIFAR-10 Batch 1:  Loss = 38.540367126464844, Accuracy = 0.4368000030517578\n",
      "Epoch 16, CIFAR-10 Batch 1:  Loss = 19.920042037963867, Accuracy = 0.44039997458457947\n",
      "Epoch 17, CIFAR-10 Batch 1:  Loss = 31.246644973754883, Accuracy = 0.43799999356269836\n",
      "Epoch 18, CIFAR-10 Batch 1:  Loss = 21.770092010498047, Accuracy = 0.4381999373435974\n",
      "Epoch 19, CIFAR-10 Batch 1:  Loss = 35.95746612548828, Accuracy = 0.4363999664783478\n",
      "Epoch 20, CIFAR-10 Batch 1:  Loss = 29.154247283935547, Accuracy = 0.4415999948978424\n"
     ]
    }
   ],
   "source": [
    "\"\"\"\n",
    "DON'T MODIFY ANYTHING IN THIS CELL\n",
    "\"\"\"\n",
    "print('Checking the Training on a Single Batch...')\n",
    "with tf.Session() as sess:\n",
    "    # Initializing the variables\n",
    "    sess.run(tf.global_variables_initializer())\n",
    "    \n",
    "    # Training cycle\n",
    "    for epoch in range(epochs):\n",
    "        batch_i = 1\n",
    "        for batch_features, batch_labels in helper.load_preprocess_training_batch(batch_i, batch_size):\n",
    "            train_neural_network(sess, optimizer, keep_probability, batch_features, batch_labels)\n",
    "        print('Epoch {:>2}, CIFAR-10 Batch {}:  '.format(epoch + 1, batch_i), end='')\n",
    "        print_stats(sess, batch_features, batch_labels, cost, accuracy)"
   ]
  },
  {
   "cell_type": "markdown",
   "metadata": {
    "deletable": true,
    "editable": true
   },
   "source": [
    "### Fully Train the Model\n",
    "Now that you got a good accuracy with a single CIFAR-10 batch, try it with all five batches."
   ]
  },
  {
   "cell_type": "code",
   "execution_count": 13,
   "metadata": {
    "collapsed": false,
    "deletable": true,
    "editable": true
   },
   "outputs": [
    {
     "name": "stdout",
     "output_type": "stream",
     "text": [
      "Training...\n",
      "Epoch  1, CIFAR-10 Batch 1:  Loss = 1155.166748046875, Accuracy = 0.28679999709129333\n",
      "Epoch  1, CIFAR-10 Batch 2:  Loss = 1000.40380859375, Accuracy = 0.3279999792575836\n",
      "Epoch  1, CIFAR-10 Batch 3:  Loss = 525.1800537109375, Accuracy = 0.3755999505519867\n",
      "Epoch  1, CIFAR-10 Batch 4:  Loss = 667.020263671875, Accuracy = 0.36039999127388\n",
      "Epoch  1, CIFAR-10 Batch 5:  Loss = 396.561767578125, Accuracy = 0.39079996943473816\n",
      "Epoch  2, CIFAR-10 Batch 1:  Loss = 586.7554931640625, Accuracy = 0.41200000047683716\n",
      "Epoch  2, CIFAR-10 Batch 2:  Loss = 427.27362060546875, Accuracy = 0.38979995250701904\n",
      "Epoch  2, CIFAR-10 Batch 3:  Loss = 241.51425170898438, Accuracy = 0.39959999918937683\n",
      "Epoch  2, CIFAR-10 Batch 4:  Loss = 308.8471374511719, Accuracy = 0.4229999780654907\n",
      "Epoch  2, CIFAR-10 Batch 5:  Loss = 249.95289611816406, Accuracy = 0.43439996242523193\n",
      "Epoch  3, CIFAR-10 Batch 1:  Loss = 359.09161376953125, Accuracy = 0.42739999294281006\n",
      "Epoch  3, CIFAR-10 Batch 2:  Loss = 257.6243591308594, Accuracy = 0.4371999502182007\n",
      "Epoch  3, CIFAR-10 Batch 3:  Loss = 146.08885192871094, Accuracy = 0.4261999726295471\n",
      "Epoch  3, CIFAR-10 Batch 4:  Loss = 168.24139404296875, Accuracy = 0.43759992718696594\n",
      "Epoch  3, CIFAR-10 Batch 5:  Loss = 221.68678283691406, Accuracy = 0.4549999535083771\n",
      "Epoch  4, CIFAR-10 Batch 1:  Loss = 255.61624145507812, Accuracy = 0.4603999853134155\n",
      "Epoch  4, CIFAR-10 Batch 2:  Loss = 134.11920166015625, Accuracy = 0.4505999684333801\n",
      "Epoch  4, CIFAR-10 Batch 3:  Loss = 98.27185821533203, Accuracy = 0.4455999732017517\n",
      "Epoch  4, CIFAR-10 Batch 4:  Loss = 107.64761352539062, Accuracy = 0.4607999920845032\n",
      "Epoch  4, CIFAR-10 Batch 5:  Loss = 157.03424072265625, Accuracy = 0.4705999791622162\n",
      "Epoch  5, CIFAR-10 Batch 1:  Loss = 140.3231201171875, Accuracy = 0.47659993171691895\n",
      "Epoch  5, CIFAR-10 Batch 2:  Loss = 79.5265121459961, Accuracy = 0.468999981880188\n",
      "Epoch  5, CIFAR-10 Batch 3:  Loss = 85.40117645263672, Accuracy = 0.46619996428489685\n",
      "Epoch  5, CIFAR-10 Batch 4:  Loss = 81.00668334960938, Accuracy = 0.4649999439716339\n",
      "Epoch  5, CIFAR-10 Batch 5:  Loss = 99.697265625, Accuracy = 0.4803999662399292\n",
      "Epoch  6, CIFAR-10 Batch 1:  Loss = 87.40440368652344, Accuracy = 0.48719993233680725\n",
      "Epoch  6, CIFAR-10 Batch 2:  Loss = 39.98138427734375, Accuracy = 0.4859999716281891\n",
      "Epoch  6, CIFAR-10 Batch 3:  Loss = 58.80052947998047, Accuracy = 0.4583999514579773\n",
      "Epoch  6, CIFAR-10 Batch 4:  Loss = 59.0533332824707, Accuracy = 0.4835999608039856\n",
      "Epoch  6, CIFAR-10 Batch 5:  Loss = 57.657325744628906, Accuracy = 0.4737999737262726\n",
      "Epoch  7, CIFAR-10 Batch 1:  Loss = 63.38041687011719, Accuracy = 0.4983999729156494\n",
      "Epoch  7, CIFAR-10 Batch 2:  Loss = 41.48546600341797, Accuracy = 0.4737999439239502\n",
      "Epoch  7, CIFAR-10 Batch 3:  Loss = 43.97187423706055, Accuracy = 0.47279995679855347\n",
      "Epoch  7, CIFAR-10 Batch 4:  Loss = 32.126739501953125, Accuracy = 0.4797999858856201\n",
      "Epoch  7, CIFAR-10 Batch 5:  Loss = 46.04958724975586, Accuracy = 0.49219995737075806\n",
      "Epoch  8, CIFAR-10 Batch 1:  Loss = 58.440250396728516, Accuracy = 0.4973999261856079\n",
      "Epoch  8, CIFAR-10 Batch 2:  Loss = 16.140384674072266, Accuracy = 0.4835999608039856\n",
      "Epoch  8, CIFAR-10 Batch 3:  Loss = 25.93275260925293, Accuracy = 0.4843999743461609\n",
      "Epoch  8, CIFAR-10 Batch 4:  Loss = 40.03990173339844, Accuracy = 0.4903999865055084\n",
      "Epoch  8, CIFAR-10 Batch 5:  Loss = 48.07426452636719, Accuracy = 0.4927999675273895\n",
      "Epoch  9, CIFAR-10 Batch 1:  Loss = 34.15850067138672, Accuracy = 0.4989999830722809\n",
      "Epoch  9, CIFAR-10 Batch 2:  Loss = 18.13434410095215, Accuracy = 0.4737999737262726\n",
      "Epoch  9, CIFAR-10 Batch 3:  Loss = 16.21686363220215, Accuracy = 0.4941999912261963\n",
      "Epoch  9, CIFAR-10 Batch 4:  Loss = 33.364105224609375, Accuracy = 0.5125999450683594\n",
      "Epoch  9, CIFAR-10 Batch 5:  Loss = 21.2396240234375, Accuracy = 0.5019999146461487\n",
      "Epoch 10, CIFAR-10 Batch 1:  Loss = 28.544343948364258, Accuracy = 0.5101999640464783\n",
      "Epoch 10, CIFAR-10 Batch 2:  Loss = 18.699609756469727, Accuracy = 0.4767999053001404\n",
      "Epoch 10, CIFAR-10 Batch 3:  Loss = 4.340188980102539, Accuracy = 0.5079999566078186\n",
      "Epoch 10, CIFAR-10 Batch 4:  Loss = 22.65127182006836, Accuracy = 0.4941999912261963\n",
      "Epoch 10, CIFAR-10 Batch 5:  Loss = 7.473089218139648, Accuracy = 0.4893999695777893\n",
      "Epoch 11, CIFAR-10 Batch 1:  Loss = 16.37881851196289, Accuracy = 0.514799952507019\n",
      "Epoch 11, CIFAR-10 Batch 2:  Loss = 26.016794204711914, Accuracy = 0.5085999369621277\n",
      "Epoch 11, CIFAR-10 Batch 3:  Loss = 0.28429365158081055, Accuracy = 0.5103999972343445\n",
      "Epoch 11, CIFAR-10 Batch 4:  Loss = 17.282516479492188, Accuracy = 0.49699997901916504\n",
      "Epoch 11, CIFAR-10 Batch 5:  Loss = 1.9821946620941162, Accuracy = 0.5143998861312866\n",
      "Epoch 12, CIFAR-10 Batch 1:  Loss = 28.918649673461914, Accuracy = 0.5253999829292297\n",
      "Epoch 12, CIFAR-10 Batch 2:  Loss = 9.10461711883545, Accuracy = 0.5113999843597412\n",
      "Epoch 12, CIFAR-10 Batch 3:  Loss = 3.241936445236206, Accuracy = 0.52239990234375\n",
      "Epoch 12, CIFAR-10 Batch 4:  Loss = 11.886362075805664, Accuracy = 0.5277999639511108\n",
      "Epoch 12, CIFAR-10 Batch 5:  Loss = 3.8004038333892822, Accuracy = 0.5211999416351318\n",
      "Epoch 13, CIFAR-10 Batch 1:  Loss = 17.985023498535156, Accuracy = 0.5069999694824219\n",
      "Epoch 13, CIFAR-10 Batch 2:  Loss = 0.715216338634491, Accuracy = 0.5199999809265137\n",
      "Epoch 13, CIFAR-10 Batch 3:  Loss = 0.032628823071718216, Accuracy = 0.5265999436378479\n",
      "Epoch 13, CIFAR-10 Batch 4:  Loss = 3.9442191123962402, Accuracy = 0.528999924659729\n",
      "Epoch 13, CIFAR-10 Batch 5:  Loss = 3.4215235710144043, Accuracy = 0.520799994468689\n",
      "Epoch 14, CIFAR-10 Batch 1:  Loss = 10.998708724975586, Accuracy = 0.518799901008606\n",
      "Epoch 14, CIFAR-10 Batch 2:  Loss = 0.1479574292898178, Accuracy = 0.501599907875061\n",
      "Epoch 14, CIFAR-10 Batch 3:  Loss = 0.6870590448379517, Accuracy = 0.5335999727249146\n",
      "Epoch 14, CIFAR-10 Batch 4:  Loss = 2.634403927004314e-06, Accuracy = 0.5389999747276306\n",
      "Epoch 14, CIFAR-10 Batch 5:  Loss = 0.16234727203845978, Accuracy = 0.5249999165534973\n",
      "Epoch 15, CIFAR-10 Batch 1:  Loss = 9.339285850524902, Accuracy = 0.5237999558448792\n",
      "Epoch 15, CIFAR-10 Batch 2:  Loss = 0.007300386670976877, Accuracy = 0.5147998929023743\n",
      "Epoch 15, CIFAR-10 Batch 3:  Loss = 0.0006786293815821409, Accuracy = 0.5249999761581421\n",
      "Epoch 15, CIFAR-10 Batch 4:  Loss = 6.794883233851579e-07, Accuracy = 0.532599925994873\n",
      "Epoch 15, CIFAR-10 Batch 5:  Loss = 3.074145555496216, Accuracy = 0.5445999503135681\n",
      "Epoch 16, CIFAR-10 Batch 1:  Loss = 4.785044193267822, Accuracy = 0.5389999151229858\n",
      "Epoch 16, CIFAR-10 Batch 2:  Loss = 0.5762405395507812, Accuracy = 0.5175999402999878\n",
      "Epoch 16, CIFAR-10 Batch 3:  Loss = 0.0, Accuracy = 0.5213999152183533\n",
      "Epoch 16, CIFAR-10 Batch 4:  Loss = 5.639575958251953, Accuracy = 0.5243999361991882\n",
      "Epoch 16, CIFAR-10 Batch 5:  Loss = 1.7922295331954956, Accuracy = 0.5315999984741211\n",
      "Epoch 17, CIFAR-10 Batch 1:  Loss = 3.2486557960510254, Accuracy = 0.5281999111175537\n",
      "Epoch 17, CIFAR-10 Batch 2:  Loss = 0.0, Accuracy = 0.5191999673843384\n",
      "Epoch 17, CIFAR-10 Batch 3:  Loss = 0.0, Accuracy = 0.5397999286651611\n",
      "Epoch 17, CIFAR-10 Batch 4:  Loss = 0.0, Accuracy = 0.5263999700546265\n",
      "Epoch 17, CIFAR-10 Batch 5:  Loss = 2.0954782962799072, Accuracy = 0.5283999443054199\n",
      "Epoch 18, CIFAR-10 Batch 1:  Loss = 0.0029702412430197, Accuracy = 0.5287999510765076\n",
      "Epoch 18, CIFAR-10 Batch 2:  Loss = 0.45856496691703796, Accuracy = 0.5413999557495117\n",
      "Epoch 18, CIFAR-10 Batch 3:  Loss = 0.0, Accuracy = 0.5465999245643616\n",
      "Epoch 18, CIFAR-10 Batch 4:  Loss = 2.9802320611338473e-09, Accuracy = 0.5351998805999756\n",
      "Epoch 18, CIFAR-10 Batch 5:  Loss = 1.8477372520919744e-07, Accuracy = 0.5351999402046204\n",
      "Epoch 19, CIFAR-10 Batch 1:  Loss = 2.9802320611338473e-09, Accuracy = 0.5501999258995056\n",
      "Epoch 19, CIFAR-10 Batch 2:  Loss = 0.0, Accuracy = 0.5483999252319336\n",
      "Epoch 19, CIFAR-10 Batch 3:  Loss = 0.4505371153354645, Accuracy = 0.5446000099182129\n",
      "Epoch 19, CIFAR-10 Batch 4:  Loss = 0.8158551454544067, Accuracy = 0.5489999055862427\n",
      "Epoch 19, CIFAR-10 Batch 5:  Loss = 0.4671177864074707, Accuracy = 0.5491998791694641\n",
      "Epoch 20, CIFAR-10 Batch 1:  Loss = 0.8291071057319641, Accuracy = 0.5379999279975891\n",
      "Epoch 20, CIFAR-10 Batch 2:  Loss = 0.0, Accuracy = 0.5463999509811401\n",
      "Epoch 20, CIFAR-10 Batch 3:  Loss = 0.0, Accuracy = 0.545199990272522\n",
      "Epoch 20, CIFAR-10 Batch 4:  Loss = 9.83474706117704e-08, Accuracy = 0.5345999002456665\n",
      "Epoch 20, CIFAR-10 Batch 5:  Loss = 0.0, Accuracy = 0.5417999625205994\n"
     ]
    }
   ],
   "source": [
    "\"\"\"\n",
    "DON'T MODIFY ANYTHING IN THIS CELL\n",
    "\"\"\"\n",
    "save_model_path = './image_classification'\n",
    "\n",
    "print('Training...')\n",
    "with tf.Session() as sess:\n",
    "    # Initializing the variables\n",
    "    sess.run(tf.global_variables_initializer())\n",
    "    \n",
    "    # Training cycle\n",
    "    for epoch in range(epochs):\n",
    "        # Loop over all batches\n",
    "        n_batches = 5\n",
    "        for batch_i in range(1, n_batches + 1):\n",
    "            for batch_features, batch_labels in helper.load_preprocess_training_batch(batch_i, batch_size):\n",
    "                train_neural_network(sess, optimizer, keep_probability, batch_features, batch_labels)\n",
    "            print('Epoch {:>2}, CIFAR-10 Batch {}:  '.format(epoch + 1, batch_i), end='')\n",
    "            print_stats(sess, batch_features, batch_labels, cost, accuracy)\n",
    "            \n",
    "    # Save Model\n",
    "    saver = tf.train.Saver()\n",
    "    save_path = saver.save(sess, save_model_path)"
   ]
  },
  {
   "cell_type": "markdown",
   "metadata": {
    "deletable": true,
    "editable": true
   },
   "source": [
    "# Checkpoint\n",
    "The model has been saved to disk.\n",
    "## Test Model\n",
    "Test your model against the test dataset.  This will be your final accuracy. You should have an accuracy greater than 50%. If you don't, keep tweaking the model architecture and parameters."
   ]
  },
  {
   "cell_type": "code",
   "execution_count": 14,
   "metadata": {
    "collapsed": false,
    "deletable": true,
    "editable": true
   },
   "outputs": [
    {
     "name": "stdout",
     "output_type": "stream",
     "text": [
      "Testing Accuracy: 0.5436902866242038\n",
      "\n"
     ]
    },
    {
     "data": {
      "image/png": "[encoded data removed]",
      "text/plain": [
       "<matplotlib.figure.Figure at 0x7fce9ac20f60>"
      ]
     },
     "metadata": {
      "image/png": {
       "height": 319,
       "width": 349
      }
     },
     "output_type": "display_data"
    }
   ],
   "source": [
    "\"\"\"\n",
    "DON'T MODIFY ANYTHING IN THIS CELL\n",
    "\"\"\"\n",
    "%matplotlib inline\n",
    "%config InlineBackend.figure_format = 'retina'\n",
    "\n",
    "import tensorflow as tf\n",
    "import pickle\n",
    "import helper\n",
    "import random\n",
    "\n",
    "# Set batch size if not already set\n",
    "try:\n",
    "    if batch_size:\n",
    "        pass\n",
    "except NameError:\n",
    "    batch_size = 64\n",
    "\n",
    "save_model_path = './image_classification'\n",
    "n_samples = 4\n",
    "top_n_predictions = 3\n",
    "\n",
    "def test_model():\n",
    "    \"\"\"\n",
    "    Test the saved model against the test dataset\n",
    "    \"\"\"\n",
    "\n",
    "    test_features, test_labels = pickle.load(open('preprocess_test.p', mode='rb'))\n",
    "    loaded_graph = tf.Graph()\n",
    "\n",
    "    with tf.Session(graph=loaded_graph) as sess:\n",
    "        # Load model\n",
    "        loader = tf.train.import_meta_graph(save_model_path + '.meta')\n",
    "        loader.restore(sess, save_model_path)\n",
    "\n",
    "        # Get Tensors from loaded model\n",
    "        loaded_x = loaded_graph.get_tensor_by_name('x:0')\n",
    "        loaded_y = loaded_graph.get_tensor_by_name('y:0')\n",
    "        loaded_keep_prob = loaded_graph.get_tensor_by_name('keep_prob:0')\n",
    "        loaded_logits = loaded_graph.get_tensor_by_name('logits:0')\n",
    "        loaded_acc = loaded_graph.get_tensor_by_name('accuracy:0')\n",
    "        \n",
    "        # Get accuracy in batches for memory limitations\n",
    "        test_batch_acc_total = 0\n",
    "        test_batch_count = 0\n",
    "        \n",
    "        for test_feature_batch, test_label_batch in helper.batch_features_labels(test_features, test_labels, batch_size):\n",
    "            test_batch_acc_total += sess.run(\n",
    "                loaded_acc,\n",
    "                feed_dict={loaded_x: test_feature_batch, loaded_y: test_label_batch, loaded_keep_prob: 1.0})\n",
    "            test_batch_count += 1\n",
    "\n",
    "        print('Testing Accuracy: {}\\n'.format(test_batch_acc_total/test_batch_count))\n",
    "\n",
    "        # Print Random Samples\n",
    "        random_test_features, random_test_labels = tuple(zip(*random.sample(list(zip(test_features, test_labels)), n_samples)))\n",
    "        random_test_predictions = sess.run(\n",
    "            tf.nn.top_k(tf.nn.softmax(loaded_logits), top_n_predictions),\n",
    "            feed_dict={loaded_x: random_test_features, loaded_y: random_test_labels, loaded_keep_prob: 1.0})\n",
    "        helper.display_image_predictions(random_test_features, random_test_labels, random_test_predictions)\n",
    "\n",
    "\n",
    "test_model()"
   ]
  },
  {
   "cell_type": "markdown",
   "metadata": {
    "deletable": true,
    "editable": true
   },
   "source": [
    "## Why 50-80% Accuracy?\n",
    "You might be wondering why you can't get an accuracy any higher. First things first, 50% isn't bad for a simple CNN.  Pure guessing would get you 10% accuracy. However, you might notice people are getting scores [well above 80%](http://rodrigob.github.io/are_we_there_yet/build/classification_datasets_results.html#43494641522d3130).  That's because we haven't taught you all there is to know about neural networks. We still need to cover a few more techniques.\n",
    "## Submitting This Project\n",
    "When submitting this project, make sure to run all the cells before saving the notebook.  Save the notebook file as \"dlnd_image_classification.ipynb\" and save it as a HTML file under \"File\" -> \"Download as\".  Include the \"helper.py\" and \"problem_unittests.py\" files in your submission."
   ]
  }
 ],
 "metadata": {
  "kernelspec": {
   "display_name": "Python 3",
   "language": "python",
   "name": "python3"
  },
  "language_info": {
   "codemirror_mode": {
    "name": "ipython",
    "version": 3
   },
   "file_extension": ".py",
   "mimetype": "text/x-python",
   "name": "python",
   "nbconvert_exporter": "python",
   "pygments_lexer": "ipython3",
   "version": "3.5.2"
  },
  "widgets": {
   "state": {},
   "version": "1.1.2"
  }
 },
 "nbformat": 4,
 "nbformat_minor": 0
}

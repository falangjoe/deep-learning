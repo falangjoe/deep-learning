{
 "cells": [
  {
   "cell_type": "markdown",
   "metadata": {},
   "source": [
    "Let $M$ be the number of layers of the network.\n",
    "\n",
    "Let $X^{i} = \\mathbb{R}^{m_{i}}$ where $m_{i}$ is the number of inputs (i.e features) of network layer $i$.\n",
    "\n",
    "Let $f^{i}(w^{i},x^{i}) : W^{i} \\times X^{i} \\rightarrow X^{i+1}$ be the layer $i$ of the network.\n",
    "\n",
    "Let $F^{i}(x) = f^{i}(w^{i},F^{i-1}(x)) : X^{1} \\rightarrow X^{i+1}$ be the composition of the ${i}$ previous network layers.\n",
    "\n",
    "Let $C : X^{i+1} \\rightarrow \\mathbb{R}$ be the cost function.\n",
    "\n",
    "Let $(x^{i},y^{i})$ be a training example with 1 <= i <= N.\n",
    "\n",
    "\n",
    "Let $Total(w^{N}, \\dotsc , w^{1}) = \\sum_{i = 1}^{N} Cost(y^{i} - F(x^{i},w^{N}, \\dotsc , w^{1}))$\n",
    "\n",
    "$ \\frac{d}{dw^{N}} Cost(y - F(x,w^{N}, \\dotsc , w^{1})) = \\frac{dCost}{dx}(y - F(x,w^{N}, \\dotsc , w^{1})) (-\\frac{d}{w^{N}}F(x,w^{N}, \\dotsc , w^{1}) = \\frac{dCost}{dx}(y - F(x,w^{N}, \\dotsc , w^{1})) (-\\frac{df^{N}}{w^{N}}(w^{N},F^{i-1}(x))$\n",
    "\n",
    "$ \\frac{d}{dw^{N-1}} Cost(y - F(x,w^{N}, \\dotsc , w^{1})) = \\frac{dCost}{dx}(y - F(x,w^{N}, \\dotsc , w^{1})) (-\\frac{d}{w^{N-1}}F(x,w^{N-1}, \\dotsc , w^{1}) = \\frac{dCost}{dx}(y - F(x,w^{N}, \\dotsc , w^{1})) (-\\frac{df^{N}}{x^{N}}(w^{N},F^{N-1}(x))(-\\frac{df^{N-1}}{w^{N-1}}(w^{N-1},F^{N-2}(x))$\n",
    "\n",
    "\n",
    "$ \\frac{d}{dw^{k}} Cost(y - F(x,w^{N}, \\dotsc , w^{1})) = \\frac{dCost}{dx}(y - F(x,w^{N}, \\dotsc , w^{1})) (-\\frac{df^{N}}{x^{N}}(w^{N},F^{N-1}(x))(-\\frac{df^{N-1}}{x^{N-1}}(w^{N-1},F^{N-2}(x))(-\\frac{df^{N-1}}{w^{N-2}}(w^{N-2},F^{i-3}(x))$\n",
    "\n",
    "\n"
   ]
  },
  {
   "cell_type": "code",
   "execution_count": null,
   "metadata": {
    "collapsed": true
   },
   "outputs": [],
   "source": []
  }
 ],
 "metadata": {
  "kernelspec": {
   "display_name": "Python 3",
   "language": "python",
   "name": "python3"
  },
  "language_info": {
   "codemirror_mode": {
    "name": "ipython",
    "version": 3
   },
   "file_extension": ".py",
   "mimetype": "text/x-python",
   "name": "python",
   "nbconvert_exporter": "python",
   "pygments_lexer": "ipython3",
   "version": "3.6.1"
  }
 },
 "nbformat": 4,
 "nbformat_minor": 2
}

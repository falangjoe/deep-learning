{
 "cells": [
  {
   "cell_type": "markdown",
   "metadata": {},
   "source": [
    "Let $M$ be the number of layers of the network.\n",
    "\n",
    "Let $X^{i} = \\mathbb{R}^{m_{i}}$ where $m_{i}$ is the number of inputs (i.e features) of network layer $i$.\n",
    "\n",
    "Let $f^{i}(w^{i},x^{i}) : W^{i} \\times X^{i} \\rightarrow X^{i+1}$ be the layer $i$ of the network.\n",
    "\n",
    "Let $F^{i}(x) = f^{i}(w^{i},F^{i-1}(x)) : X^{1} \\rightarrow X^{i+1}$ be the composition of the ${i}$ previous network layers.\n",
    "\n",
    "Let $c : \\mathbb{R} \\rightarrow \\mathbb{R}$ be the cost function.\n",
    "\n",
    "Let $(x^{i},y^{i})$ be a training example with 1 <= i <= N.\n",
    "\n",
    "$Cost(x) = \\sum^{m^{N}}_{i=1} c(x_{i})$\n",
    "\n",
    "$ \\frac{d}{dw^{N}_{i,j}} Cost(F(x,w^{N}, \\dotsc , w^{1}) - y) = \\mathbf{D}Cost \\ (F(x,w^{N}, \\dotsc , w^{1}) - y) (\\mathbf{D}_{w^{N}_{i,j}} F(x,w^{N}, \\dotsc , w^{1}))$\n",
    "\n",
    "$\\mathbf{D}Cost \\ (F(x,w^{N}, \\dotsc , w^{1}) - y) =\n",
    "\\begin{bmatrix}\n",
    " c'(F_{1}(x,w^{N}, \\dotsc , w^{1}) - y_{1})\\ , \\dots \\ , c'(F_{m_{N}}(x,w^{N}, \\dotsc , w^{1}) - y_{m_{N}})\\\\\n",
    "\\end{bmatrix} =\n",
    "\\begin{bmatrix}\n",
    "c'(E_{1})\\ , \\dots ,\\ c'(E_{m_{N}}) \\\\\n",
    "\\end{bmatrix}\n",
    "$\n",
    "\n",
    "$\\mathbf{D}_{w^{N}_{i,j}} \\ F(x,w^{N}, \\dotsc , w^{1}) = \\mathbf{D}_{w^{N}_{i,j}} \\ f^{N}(w^{N},F^{N-1}(x)) = \\mathbf{D}_{w^{N}_{i,j}} \\ g(w^{N}F^{N-1}(x)) = \\mathbf{D}_{w^{N}_{i,j}} \n",
    "\\begin{bmatrix}\n",
    "    w^{N}_{1,1}F^{N-1}_{1}(x) + \\dots + w^{N}_{1,j}F^{N-1}_{j}(x) + \\dots + w^{N}_{1,m_{N-1}}F^{N-1}_{m_{N-1}}(x) \\\\\n",
    "    \\vdots \\\\\n",
    "     w^{N}_{i,1}F^{N-1}_{1}(x) + \\dots + w^{N}_{i,j}F^{N-1}_{j}(x) + \\dots + w^{N}_{i,m_{N-1}}F^{N-1}_{m_{N-1}}(x) \\\\\n",
    "    \\vdots \\\\\n",
    "    w^{N}_{m_{N},1}F^{N-1}_{1}(x) + \\dots + w^{N}_{m_{N},j}F^{N-1}_{j}(x) + \\dots + w^{N}_{m_{N},m_{N-1}}F^{N-1}_{m_{N-1}}(x) \\\\\n",
    "\\end{bmatrix}\n",
    "=\n",
    "\\begin{bmatrix}\n",
    "     0 \\\\\n",
    "     \\vdots\\\\\n",
    "     F^{N-1}_{j}\\\\\n",
    "     \\vdots\\\\\n",
    "     0\\\\\n",
    "\\end{bmatrix}$\n",
    "\n",
    "The matrix has dimension $(m_{N},1)$\n",
    "\n",
    "\n",
    "\n",
    "$ \\frac{d}{dw^{N}_{i,j}} Cost(F(x,w^{N}, \\dotsc , w^{1}) - y) = \\begin{bmatrix}\n",
    "c'(E_{1})\\ , \\dots ,\\ c'(E_{m_{N}}) \\\\\n",
    "\\end{bmatrix}\n",
    "\\begin{bmatrix}\n",
    "     0 \\\\\n",
    "     \\vdots\\\\\n",
    "     F^{N-1}_{j}\\\\\n",
    "     \\vdots\\\\\n",
    "     0\\\\\n",
    "\\end{bmatrix} = c'(E_{i})F_{j}^{N-1}$\n",
    "\n",
    "\n",
    "$ \\frac{d}{dw^{N-1}_{i,j}} Cost(F(x,w^{N}, \\dotsc , w^{1}) - y) = \\mathbf{D}Cost \\ (F(x,w^{N}, \\dotsc , w^{1}) - y) (\\mathbf{D}_{w^{N-1}_{i,j}} F(x,w^{N}, \\dotsc , w^{1}))$\n",
    "\n",
    "$\\mathbf{D}_{w^{N-1}_{i,j}} F(x,w^{N}, \\dotsc , w^{1}) = \\mathbf{D}_{w^{N-1}_{i,j}} f^{N}(w^{N},F^{i-1}(x,w^{N-1}, \\dotsc , w^{1})) = \\mathbf{D}_{x^{N}}f^{N}(w^{N},F^{i-1}(x,w^{N-1}, \\dotsc , w^{1}))\\mathbf{D}_{w^{N-1}_{i,j}} F^{i-1}(x,w^{N-1}, \\dotsc , w^{1})$\n",
    "\n",
    "\n",
    "-----------------------------------------------------------------------------------------------------------------------\n",
    "Let $Total(w^{N}, \\dotsc , w^{1}) = \\sum_{i = 1}^{N} Cost(y^{i} - F(x^{i},w^{N}, \\dotsc , w^{1})))$\n",
    "\n",
    "$ \\frac{d}{dw^{N}} Cost(y - F(x,w^{N}, \\dotsc , w^{1})) = \\frac{dCost}{dx}(y - F(x,w^{N}, \\dotsc , w^{1})) (-\\frac{d}{w^{N}}F(x,w^{N}, \\dotsc , w^{1}) = \\frac{dCost}{dx}(y - F(x,w^{N}, \\dotsc , w^{1})) (-\\frac{d}{w^{N}}f^{N}(w^{N},F^{i-1}(x)))$\n",
    "\n",
    "\n",
    "\n",
    "What\n",
    "\n",
    "\n",
    "$ \\frac{d}{dw^{N-1}} Cost(y - F(x,w^{N}, \\dotsc , w^{1})) = \\frac{dCost}{dx}(y - F(x,w^{N}, \\dotsc , w^{1})) (-\\frac{d}{w^{N-1}}F(x,w^{N-1}, \\dotsc , w^{1}) = \\frac{dCost}{dx}(y - F(x,w^{N}, \\dotsc , w^{1})) (-\\frac{df^{N}}{x^{N}}(w^{N},F^{N-1}(x))(-\\frac{df^{N-1}}{w^{N-1}}(w^{N-1},F^{N-2}(x))$\n",
    "\n",
    "\n",
    "$ \\frac{d}{dw^{k}} Cost(y - F(x,w^{N}, \\dotsc , w^{1})) = \\frac{dCost}{dx}(y - F(x,w^{N}, \\dotsc , w^{1})) (-\\frac{df^{N}}{x^{N}}(w^{N},F^{N-1}(x))(-\\frac{df^{N-1}}{x^{N-1}}(w^{N-1},F^{N-2}(x))(-\\frac{df^{N-2}}{w^{N-2}}(w^{N-2},F^{i-3}(x))$\n",
    "\n",
    "\n"
   ]
  },
  {
   "cell_type": "markdown",
   "metadata": {
    "collapsed": true
   },
   "source": [
    "$\\frac{df^{i}}{dx^{i}}(w^{i},F^{i-1}(x)) = \\frac{d}{dx^{i}}g(w^{i}\\overline{{x}^{i}})(F^{i-1}(x))$ where $\\overline{{x}^{i}} = (1,x^{i}_{1}, x^{i}_{2},\\dotsc)$\n",
    "\n",
    "\n",
    "$\\frac{d}{dx^{i}}g(w^{i}\\overline{{x}^{i}}) = g^{'}(\\overline{w^{i}})$ where $\\overline{w^{i}}$ is $w^{i}$ with bias entries set to zero.\n"
   ]
  },
  {
   "cell_type": "markdown",
   "metadata": {},
   "source": [
    "$\\frac{df^{i}}{w^{i}}(w^{i},F^{i-1}(x)) = \\frac{d}{dw^{i}}g(w^{i}\\overline{{x}^{i}})(F^{i-1}(x))$ where $\\overline{{x}^{i}} = (1,x^{i}_{1}, x^{i}_{2},\\dotsc)$\n",
    "\n",
    "$\\frac{d}{dw^{i}}g(w^{i}\\overline{{x}^{i}}) =  g^{'}(\\overline{{x}^{i}})$"
   ]
  },
  {
   "cell_type": "markdown",
   "metadata": {},
   "source": [
    "$\\begin{bmatrix}\n",
    "    x_{11}       & x_{12} & x_{13} & \\dots & x_{1n} \\\\\n",
    "    x_{21}       & x_{22} & x_{23} & \\dots & x_{2n} \\\\\n",
    "    \\dots &\\dots &\\dots &\\dots &\\dots \\\\\n",
    "    x_{d1}       & x_{d2} & x_{d3} & \\dots & x_{dn}\n",
    "\\end{bmatrix}\n",
    "=\n",
    "\\begin{bmatrix}\n",
    "    x_{11} & x_{12} & x_{13} & \\dots  & x_{1n} \\\\\n",
    "    x_{21} & x_{22} & x_{23} & \\dots  & x_{2n} \\\\\n",
    "    \\vdots & \\vdots & \\vdots & \\ddots & \\vdots \\\\\n",
    "    x_{d1} & x_{d2} & x_{d3} & \\dots  & x_{dn}\n",
    "\\end{bmatrix}$"
   ]
  }
 ],
 "metadata": {
  "kernelspec": {
   "display_name": "Python 3",
   "language": "python",
   "name": "python3"
  },
  "language_info": {
   "codemirror_mode": {
    "name": "ipython",
    "version": 3
   },
   "file_extension": ".py",
   "mimetype": "text/x-python",
   "name": "python",
   "nbconvert_exporter": "python",
   "pygments_lexer": "ipython3",
   "version": "3.6.1"
  }
 },
 "nbformat": 4,
 "nbformat_minor": 2
}
